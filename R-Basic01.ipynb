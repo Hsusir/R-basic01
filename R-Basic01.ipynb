{
 "cells": [
  {
   "cell_type": "markdown",
   "metadata": {},
   "source": [
    "# R-Basic01"
   ]
  },
  {
   "cell_type": "markdown",
   "metadata": {},
   "source": [
    "### 許sir"
   ]
  },
  {
   "cell_type": "markdown",
   "metadata": {},
   "source": [
    "## [第一部份].R 的基本資料屬性包含以下五種"
   ]
  },
  {
   "cell_type": "markdown",
   "metadata": {},
   "source": [
    "- character：文字字串，用 \"\" 包起來，ex：\"test\"\n",
    "- numeric：實數\n",
    "- integer：整數\n",
    "- complex：複數\n",
    "- logical：True 或 False"
   ]
  },
  {
   "cell_type": "code",
   "execution_count": 2,
   "metadata": {},
   "outputs": [
    {
     "data": {
      "text/html": [
       "'character'"
      ],
      "text/latex": [
       "'character'"
      ],
      "text/markdown": [
       "'character'"
      ],
      "text/plain": [
       "[1] \"character\""
      ]
     },
     "metadata": {},
     "output_type": "display_data"
    },
    {
     "data": {
      "text/html": [
       "'numeric'"
      ],
      "text/latex": [
       "'numeric'"
      ],
      "text/markdown": [
       "'numeric'"
      ],
      "text/plain": [
       "[1] \"numeric\""
      ]
     },
     "metadata": {},
     "output_type": "display_data"
    },
    {
     "data": {
      "text/html": [
       "'numeric'"
      ],
      "text/latex": [
       "'numeric'"
      ],
      "text/markdown": [
       "'numeric'"
      ],
      "text/plain": [
       "[1] \"numeric\""
      ]
     },
     "metadata": {},
     "output_type": "display_data"
    },
    {
     "data": {
      "text/html": [
       "'integer'"
      ],
      "text/latex": [
       "'integer'"
      ],
      "text/markdown": [
       "'integer'"
      ],
      "text/plain": [
       "[1] \"integer\""
      ]
     },
     "metadata": {},
     "output_type": "display_data"
    },
    {
     "data": {
      "text/html": [
       "'integer'"
      ],
      "text/latex": [
       "'integer'"
      ],
      "text/markdown": [
       "'integer'"
      ],
      "text/plain": [
       "[1] \"integer\""
      ]
     },
     "metadata": {},
     "output_type": "display_data"
    },
    {
     "data": {
      "text/html": [
       "'complex'"
      ],
      "text/latex": [
       "'complex'"
      ],
      "text/markdown": [
       "'complex'"
      ],
      "text/plain": [
       "[1] \"complex\""
      ]
     },
     "metadata": {},
     "output_type": "display_data"
    },
    {
     "data": {
      "text/html": [
       "'logical'"
      ],
      "text/latex": [
       "'logical'"
      ],
      "text/markdown": [
       "'logical'"
      ],
      "text/plain": [
       "[1] \"logical\""
      ]
     },
     "metadata": {},
     "output_type": "display_data"
    }
   ],
   "source": [
    "class(\"test\")\n",
    "class(10.10)\n",
    "class(10)\n",
    "class(as.integer(3)) # 因為 R 計算上是都是以雙倍精確度來計算，所以必須指定為 integer，不然都會被當成 numeric\n",
    "class(as.integer(3.1)) # as.integer 可以將不是整數的數值變成整數\n",
    "class(2+2i)\n",
    " class(TRUE) # 注意都要大寫，不可寫 True，但可以簡化成 T"
   ]
  },
  {
   "cell_type": "markdown",
   "metadata": {},
   "source": [
    "## [第二部份].R的基本變數與資料\n"
   ]
  },
  {
   "cell_type": "markdown",
   "metadata": {},
   "source": [
    "### 2-1.一般變數"
   ]
  },
  {
   "cell_type": "code",
   "execution_count": 3,
   "metadata": {},
   "outputs": [
    {
     "data": {
      "text/html": [
       "156.25"
      ],
      "text/latex": [
       "156.25"
      ],
      "text/markdown": [
       "156.25"
      ],
      "text/plain": [
       "[1] 156.25"
      ]
     },
     "metadata": {},
     "output_type": "display_data"
    }
   ],
   "source": [
    "x = 12.5        # 一般數值\n",
    "A1= \"John\"        #文字字串\n",
    "z = FALSE           # 邏輯值 TRUE/FALSE 或 T/F\n",
    "y = 2.4e3       # 2.4 x 10三次方 = 2400\n",
    "\n",
    "A2 = paste(A1,\"Dow\",sep=\"\")     # A2=\"JohnDow\"\n",
    "\n",
    "x^2             # 平方, 也可寫成 x**2"
   ]
  },
  {
   "cell_type": "code",
   "execution_count": 5,
   "metadata": {},
   "outputs": [
    {
     "data": {
      "text/html": [
       "15.5"
      ],
      "text/latex": [
       "15.5"
      ],
      "text/markdown": [
       "15.5"
      ],
      "text/plain": [
       "[1] 15.5"
      ]
     },
     "metadata": {},
     "output_type": "display_data"
    },
    {
     "data": {
      "text/html": [
       "9.5"
      ],
      "text/latex": [
       "9.5"
      ],
      "text/markdown": [
       "9.5"
      ],
      "text/plain": [
       "[1] 9.5"
      ]
     },
     "metadata": {},
     "output_type": "display_data"
    },
    {
     "data": {
      "text/html": [
       "37.5"
      ],
      "text/latex": [
       "37.5"
      ],
      "text/markdown": [
       "37.5"
      ],
      "text/plain": [
       "[1] 37.5"
      ]
     },
     "metadata": {},
     "output_type": "display_data"
    },
    {
     "data": {
      "text/html": [
       "4.16666666666667"
      ],
      "text/latex": [
       "4.16666666666667"
      ],
      "text/markdown": [
       "4.16666666666667"
      ],
      "text/plain": [
       "[1] 4.166667"
      ]
     },
     "metadata": {},
     "output_type": "display_data"
    }
   ],
   "source": [
    "x + 3  ; x - 3 ; x * 3 ; x / 3  # 加減乘除\n"
   ]
  },
  {
   "cell_type": "code",
   "execution_count": 6,
   "metadata": {},
   "outputs": [
    {
     "data": {
      "text/html": [
       "4"
      ],
      "text/latex": [
       "4"
      ],
      "text/markdown": [
       "4"
      ],
      "text/plain": [
       "[1] 4"
      ]
     },
     "metadata": {},
     "output_type": "display_data"
    },
    {
     "data": {
      "text/html": [
       "0.5"
      ],
      "text/latex": [
       "0.5"
      ],
      "text/markdown": [
       "0.5"
      ],
      "text/plain": [
       "[1] 0.5"
      ]
     },
     "metadata": {},
     "output_type": "display_data"
    }
   ],
   "source": [
    "x %/% 3                     # 整除\n",
    "x %% 3                     # 餘數"
   ]
  },
  {
   "cell_type": "markdown",
   "metadata": {},
   "source": [
    "### 2-2.向量 (Vector)"
   ]
  },
  {
   "cell_type": "code",
   "execution_count": 7,
   "metadata": {},
   "outputs": [
    {
     "data": {
      "text/html": [
       "15.2"
      ],
      "text/latex": [
       "15.2"
      ],
      "text/markdown": [
       "15.2"
      ],
      "text/plain": [
       "[1] 15.2"
      ]
     },
     "metadata": {},
     "output_type": "display_data"
    }
   ],
   "source": [
    "x = c(1, 15.2, 33)                # c是combine的意思\n",
    "y = c(\"男\",\"女\",\"女\")             # 文字向量\n",
    "z = c(TRUE,FALSE, FALSE, TRUE)    # 或 c(T,F,F,T)\n",
    "x2 = x + 1                        #  x2 = c(2, 16.2, 14)\n",
    "x[2]                                  #  15.2"
   ]
  },
  {
   "cell_type": "code",
   "execution_count": 8,
   "metadata": {},
   "outputs": [
    {
     "data": {
      "text/html": [
       "<ol class=list-inline>\n",
       "\t<li>1</li>\n",
       "\t<li>33</li>\n",
       "</ol>\n"
      ],
      "text/latex": [
       "\\begin{enumerate*}\n",
       "\\item 1\n",
       "\\item 33\n",
       "\\end{enumerate*}\n"
      ],
      "text/markdown": [
       "1. 1\n",
       "2. 33\n",
       "\n",
       "\n"
      ],
      "text/plain": [
       "[1]  1 33"
      ]
     },
     "metadata": {},
     "output_type": "display_data"
    },
    {
     "data": {
      "text/html": [
       "<ol class=list-inline>\n",
       "\t<li>1</li>\n",
       "\t<li>33</li>\n",
       "</ol>\n"
      ],
      "text/latex": [
       "\\begin{enumerate*}\n",
       "\\item 1\n",
       "\\item 33\n",
       "\\end{enumerate*}\n"
      ],
      "text/markdown": [
       "1. 1\n",
       "2. 33\n",
       "\n",
       "\n"
      ],
      "text/plain": [
       "[1]  1 33"
      ]
     },
     "metadata": {},
     "output_type": "display_data"
    },
    {
     "data": {
      "text/html": [
       "'女'"
      ],
      "text/latex": [
       "'女'"
      ],
      "text/markdown": [
       "'女'"
      ],
      "text/plain": [
       "[1] \"女\""
      ]
     },
     "metadata": {},
     "output_type": "display_data"
    },
    {
     "data": {
      "text/html": [
       "<ol class=list-inline>\n",
       "\t<li>'男'</li>\n",
       "\t<li>'女'</li>\n",
       "</ol>\n"
      ],
      "text/latex": [
       "\\begin{enumerate*}\n",
       "\\item '男'\n",
       "\\item '女'\n",
       "\\end{enumerate*}\n"
      ],
      "text/markdown": [
       "1. '男'\n",
       "2. '女'\n",
       "\n",
       "\n"
      ],
      "text/plain": [
       "[1] \"男\" \"女\""
      ]
     },
     "metadata": {},
     "output_type": "display_data"
    }
   ],
   "source": [
    "x[c(1,3)]                           # 第一和第三個元素，就是(1, 33)         \n",
    "x[-2]                               # 去掉第二個元素，也就是(1, 33)\n",
    "y[3]                                  # \"女\"\n",
    "y[1:2]                             # c(\"男\",\"女\")"
   ]
  },
  {
   "cell_type": "code",
   "execution_count": 9,
   "metadata": {},
   "outputs": [
    {
     "data": {
      "text/html": [
       "<ol class=list-inline>\n",
       "\t<li>1</li>\n",
       "\t<li>2</li>\n",
       "\t<li>3</li>\n",
       "\t<li>4</li>\n",
       "\t<li>5</li>\n",
       "\t<li>2</li>\n",
       "\t<li>4</li>\n",
       "\t<li>8</li>\n",
       "</ol>\n"
      ],
      "text/latex": [
       "\\begin{enumerate*}\n",
       "\\item 1\n",
       "\\item 2\n",
       "\\item 3\n",
       "\\item 4\n",
       "\\item 5\n",
       "\\item 2\n",
       "\\item 4\n",
       "\\item 8\n",
       "\\end{enumerate*}\n"
      ],
      "text/markdown": [
       "1. 1\n",
       "2. 2\n",
       "3. 3\n",
       "4. 4\n",
       "5. 5\n",
       "6. 2\n",
       "7. 4\n",
       "8. 8\n",
       "\n",
       "\n"
      ],
      "text/plain": [
       "[1] 1 2 3 4 5 2 4 8"
      ]
     },
     "metadata": {},
     "output_type": "display_data"
    }
   ],
   "source": [
    "#vector 中所有元素都必須是同一種資料屬性\n",
    "#c() 也可以被用來結合兩個向量\n",
    "x <- c(1:5)  # 1:5 表示從1到5 . 就是(1,2,3,4,5) \n",
    "y <- c(2, 4, 8) \n",
    "z <- c(x, y) \n",
    "z"
   ]
  },
  {
   "cell_type": "markdown",
   "metadata": {},
   "source": [
    "### 2-3.Factor 變數"
   ]
  },
  {
   "cell_type": "code",
   "execution_count": 10,
   "metadata": {},
   "outputs": [
    {
     "data": {
      "text/html": [
       "<ol class=list-inline>\n",
       "\t<li>Boy</li>\n",
       "\t<li>Girl</li>\n",
       "\t<li>Girl</li>\n",
       "\t<li>Boy</li>\n",
       "\t<li>Girl</li>\n",
       "</ol>\n",
       "\n",
       "<details>\n",
       "\t<summary style=display:list-item;cursor:pointer>\n",
       "\t\t<strong>Levels</strong>:\n",
       "\t</summary>\n",
       "\t<ol class=list-inline>\n",
       "\t\t<li>'Boy'</li>\n",
       "\t\t<li>'Girl'</li>\n",
       "\t</ol>\n",
       "</details>"
      ],
      "text/latex": [
       "\\begin{enumerate*}\n",
       "\\item Boy\n",
       "\\item Girl\n",
       "\\item Girl\n",
       "\\item Boy\n",
       "\\item Girl\n",
       "\\end{enumerate*}\n",
       "\n",
       "\\emph{Levels}: \\begin{enumerate*}\n",
       "\\item 'Boy'\n",
       "\\item 'Girl'\n",
       "\\end{enumerate*}\n"
      ],
      "text/markdown": [
       "1. Boy\n",
       "2. Girl\n",
       "3. Girl\n",
       "4. Boy\n",
       "5. Girl\n",
       "\n",
       "\n",
       "\n",
       "**Levels**: 1. 'Boy'\n",
       "2. 'Girl'\n",
       "\n",
       "\n"
      ],
      "text/plain": [
       "[1] Boy  Girl Girl Boy  Girl\n",
       "Levels: Boy Girl"
      ]
     },
     "metadata": {},
     "output_type": "display_data"
    }
   ],
   "source": [
    "#其實就是”分類”的意思\n",
    "#可以把”文字向量”分類，也可以把”數值向量”分類\n",
    "gender = c(\"Boy\",\"Girl\",\"Girl\",\"Boy\",\"Girl\")    # 文字向量\n",
    "gender = as.factor(gender)  ;   gender       # Factor 變數 # 用分號區隔指令"
   ]
  },
  {
   "cell_type": "code",
   "execution_count": 11,
   "metadata": {},
   "outputs": [
    {
     "data": {
      "text/html": [
       "<ol class=list-inline>\n",
       "\t<li>1</li>\n",
       "\t<li>0</li>\n",
       "\t<li>0</li>\n",
       "\t<li>0</li>\n",
       "\t<li>1</li>\n",
       "</ol>\n",
       "\n",
       "<details>\n",
       "\t<summary style=display:list-item;cursor:pointer>\n",
       "\t\t<strong>Levels</strong>:\n",
       "\t</summary>\n",
       "\t<ol class=list-inline>\n",
       "\t\t<li>'0'</li>\n",
       "\t\t<li>'1'</li>\n",
       "\t</ol>\n",
       "</details>"
      ],
      "text/latex": [
       "\\begin{enumerate*}\n",
       "\\item 1\n",
       "\\item 0\n",
       "\\item 0\n",
       "\\item 0\n",
       "\\item 1\n",
       "\\end{enumerate*}\n",
       "\n",
       "\\emph{Levels}: \\begin{enumerate*}\n",
       "\\item '0'\n",
       "\\item '1'\n",
       "\\end{enumerate*}\n"
      ],
      "text/markdown": [
       "1. 1\n",
       "2. 0\n",
       "3. 0\n",
       "4. 0\n",
       "5. 1\n",
       "\n",
       "\n",
       "\n",
       "**Levels**: 1. '0'\n",
       "2. '1'\n",
       "\n",
       "\n"
      ],
      "text/plain": [
       "[1] 1 0 0 0 1\n",
       "Levels: 0 1"
      ]
     },
     "metadata": {},
     "output_type": "display_data"
    },
    {
     "data": {
      "text/html": [
       "0\n",
       "<details>\n",
       "\t<summary style=display:list-item;cursor:pointer>\n",
       "\t\t<strong>Levels</strong>:\n",
       "\t</summary>\n",
       "\t<ol class=list-inline>\n",
       "\t\t<li>'0'</li>\n",
       "\t\t<li>'1'</li>\n",
       "\t</ol>\n",
       "</details>"
      ],
      "text/latex": [
       "0\n",
       "\\emph{Levels}: \\begin{enumerate*}\n",
       "\\item '0'\n",
       "\\item '1'\n",
       "\\end{enumerate*}\n"
      ],
      "text/markdown": [
       "0\n",
       "**Levels**: 1. '0'\n",
       "2. '1'\n",
       "\n",
       "\n"
      ],
      "text/plain": [
       "[1] 0\n",
       "Levels: 0 1"
      ]
     },
     "metadata": {},
     "output_type": "display_data"
    }
   ],
   "source": [
    "parttime = c(1,0,0,0,1)         # 有無打工(數值向量)\n",
    "parttime = as.factor(parttime)  ;  parttime # Factor 變數\n",
    "parttime[2]          # 顯示出第二筆資料(Factor 變數的指標使用跟向量變數一樣)"
   ]
  },
  {
   "cell_type": "markdown",
   "metadata": {},
   "source": [
    "### 2-4.串列 (List)"
   ]
  },
  {
   "cell_type": "code",
   "execution_count": 12,
   "metadata": {},
   "outputs": [
    {
     "data": {
      "text/html": [
       "<dl>\n",
       "\t<dt>$fname</dt>\n",
       "\t\t<dd>'John'</dd>\n",
       "\t<dt>$age</dt>\n",
       "\t\t<dd>32</dd>\n",
       "\t<dt>$child.ages</dt>\n",
       "\t\t<dd><ol class=list-inline>\n",
       "\t<li>2</li>\n",
       "\t<li>5</li>\n",
       "</ol>\n",
       "</dd>\n",
       "</dl>\n"
      ],
      "text/latex": [
       "\\begin{description}\n",
       "\\item[\\$fname] 'John'\n",
       "\\item[\\$age] 32\n",
       "\\item[\\$child.ages] \\begin{enumerate*}\n",
       "\\item 2\n",
       "\\item 5\n",
       "\\end{enumerate*}\n",
       "\n",
       "\\end{description}\n"
      ],
      "text/markdown": [
       "$fname\n",
       ":   'John'\n",
       "$age\n",
       ":   32\n",
       "$child.ages\n",
       ":   1. 2\n",
       "2. 5\n",
       "\n",
       "\n",
       "\n",
       "\n",
       "\n"
      ],
      "text/plain": [
       "$fname\n",
       "[1] \"John\"\n",
       "\n",
       "$age\n",
       "[1] 32\n",
       "\n",
       "$child.ages\n",
       "[1] 2 5\n"
      ]
     },
     "metadata": {},
     "output_type": "display_data"
    }
   ],
   "source": [
    "#是向量的的擴充，可包含不同屬性的元素\n",
    "#list 是非常方便好用的資料形態。尤其是需儲存不同類型資料的時候，特別好用。\n",
    "friend1 = list(fname=\"John\",age=32,child.ages=c(2,5))\n",
    "friend1"
   ]
  },
  {
   "cell_type": "code",
   "execution_count": 13,
   "metadata": {},
   "outputs": [
    {
     "data": {
      "text/html": [
       "'John'"
      ],
      "text/latex": [
       "'John'"
      ],
      "text/markdown": [
       "'John'"
      ],
      "text/plain": [
       "[1] \"John\""
      ]
     },
     "metadata": {},
     "output_type": "display_data"
    },
    {
     "data": {
      "text/html": [
       "32"
      ],
      "text/latex": [
       "32"
      ],
      "text/markdown": [
       "32"
      ],
      "text/plain": [
       "[1] 32"
      ]
     },
     "metadata": {},
     "output_type": "display_data"
    },
    {
     "data": {
      "text/html": [
       "<ol class=list-inline>\n",
       "\t<li>2</li>\n",
       "\t<li>5</li>\n",
       "</ol>\n"
      ],
      "text/latex": [
       "\\begin{enumerate*}\n",
       "\\item 2\n",
       "\\item 5\n",
       "\\end{enumerate*}\n"
      ],
      "text/markdown": [
       "1. 2\n",
       "2. 5\n",
       "\n",
       "\n"
      ],
      "text/plain": [
       "[1] 2 5"
      ]
     },
     "metadata": {},
     "output_type": "display_data"
    },
    {
     "data": {
      "text/html": [
       "5"
      ],
      "text/latex": [
       "5"
      ],
      "text/markdown": [
       "5"
      ],
      "text/plain": [
       "[1] 5"
      ]
     },
     "metadata": {},
     "output_type": "display_data"
    }
   ],
   "source": [
    "friend1$fname               # 等於 friend1[[1]]  # $是指定變項 \n",
    "friend1$age     # 等於 friend1[[2]]\n",
    "friend1$child.ages  # 等於 friend1[[3]]\n",
    "friend1$child.ages[2]   # 等於 friend1[[3]][2]"
   ]
  },
  {
   "cell_type": "markdown",
   "metadata": {},
   "source": [
    "### 2-5.矩陣 (Matrix)"
   ]
  },
  {
   "cell_type": "code",
   "execution_count": 14,
   "metadata": {},
   "outputs": [
    {
     "data": {
      "text/html": [
       "<table>\n",
       "<tbody>\n",
       "\t<tr><td> 1 </td><td>13 </td><td>25 </td><td>37 </td><td>49 </td><td>61 </td><td>73 </td><td>85 </td><td> 97</td><td>109</td><td>121</td><td>133</td></tr>\n",
       "\t<tr><td> 2 </td><td>14 </td><td>26 </td><td>38 </td><td>50 </td><td>62 </td><td>74 </td><td>86 </td><td> 98</td><td>110</td><td>122</td><td>134</td></tr>\n",
       "\t<tr><td> 3 </td><td>15 </td><td>27 </td><td>39 </td><td>51 </td><td>63 </td><td>75 </td><td>87 </td><td> 99</td><td>111</td><td>123</td><td>135</td></tr>\n",
       "\t<tr><td> 4 </td><td>16 </td><td>28 </td><td>40 </td><td>52 </td><td>64 </td><td>76 </td><td>88 </td><td>100</td><td>112</td><td>124</td><td>136</td></tr>\n",
       "\t<tr><td> 5 </td><td>17 </td><td>29 </td><td>41 </td><td>53 </td><td>65 </td><td>77 </td><td>89 </td><td>101</td><td>113</td><td>125</td><td>137</td></tr>\n",
       "\t<tr><td> 6 </td><td>18 </td><td>30 </td><td>42 </td><td>54 </td><td>66 </td><td>78 </td><td>90 </td><td>102</td><td>114</td><td>126</td><td>138</td></tr>\n",
       "\t<tr><td> 7 </td><td>19 </td><td>31 </td><td>43 </td><td>55 </td><td>67 </td><td>79 </td><td>91 </td><td>103</td><td>115</td><td>127</td><td>139</td></tr>\n",
       "\t<tr><td> 8 </td><td>20 </td><td>32 </td><td>44 </td><td>56 </td><td>68 </td><td>80 </td><td>92 </td><td>104</td><td>116</td><td>128</td><td>140</td></tr>\n",
       "\t<tr><td> 9 </td><td>21 </td><td>33 </td><td>45 </td><td>57 </td><td>69 </td><td>81 </td><td>93 </td><td>105</td><td>117</td><td>129</td><td>141</td></tr>\n",
       "\t<tr><td>10 </td><td>22 </td><td>34 </td><td>46 </td><td>58 </td><td>70 </td><td>82 </td><td>94 </td><td>106</td><td>118</td><td>130</td><td>142</td></tr>\n",
       "\t<tr><td>11 </td><td>23 </td><td>35 </td><td>47 </td><td>59 </td><td>71 </td><td>83 </td><td>95 </td><td>107</td><td>119</td><td>131</td><td>143</td></tr>\n",
       "\t<tr><td>12 </td><td>24 </td><td>36 </td><td>48 </td><td>60 </td><td>72 </td><td>84 </td><td>96 </td><td>108</td><td>120</td><td>132</td><td>144</td></tr>\n",
       "</tbody>\n",
       "</table>\n"
      ],
      "text/latex": [
       "\\begin{tabular}{llllllllllll}\n",
       "\t  1  & 13  & 25  & 37  & 49  & 61  & 73  & 85  &  97 & 109 & 121 & 133\\\\\n",
       "\t  2  & 14  & 26  & 38  & 50  & 62  & 74  & 86  &  98 & 110 & 122 & 134\\\\\n",
       "\t  3  & 15  & 27  & 39  & 51  & 63  & 75  & 87  &  99 & 111 & 123 & 135\\\\\n",
       "\t  4  & 16  & 28  & 40  & 52  & 64  & 76  & 88  & 100 & 112 & 124 & 136\\\\\n",
       "\t  5  & 17  & 29  & 41  & 53  & 65  & 77  & 89  & 101 & 113 & 125 & 137\\\\\n",
       "\t  6  & 18  & 30  & 42  & 54  & 66  & 78  & 90  & 102 & 114 & 126 & 138\\\\\n",
       "\t  7  & 19  & 31  & 43  & 55  & 67  & 79  & 91  & 103 & 115 & 127 & 139\\\\\n",
       "\t  8  & 20  & 32  & 44  & 56  & 68  & 80  & 92  & 104 & 116 & 128 & 140\\\\\n",
       "\t  9  & 21  & 33  & 45  & 57  & 69  & 81  & 93  & 105 & 117 & 129 & 141\\\\\n",
       "\t 10  & 22  & 34  & 46  & 58  & 70  & 82  & 94  & 106 & 118 & 130 & 142\\\\\n",
       "\t 11  & 23  & 35  & 47  & 59  & 71  & 83  & 95  & 107 & 119 & 131 & 143\\\\\n",
       "\t 12  & 24  & 36  & 48  & 60  & 72  & 84  & 96  & 108 & 120 & 132 & 144\\\\\n",
       "\\end{tabular}\n"
      ],
      "text/markdown": [
       "\n",
       "|  1  | 13  | 25  | 37  | 49  | 61  | 73  | 85  |  97 | 109 | 121 | 133 | \n",
       "|  2  | 14  | 26  | 38  | 50  | 62  | 74  | 86  |  98 | 110 | 122 | 134 | \n",
       "|  3  | 15  | 27  | 39  | 51  | 63  | 75  | 87  |  99 | 111 | 123 | 135 | \n",
       "|  4  | 16  | 28  | 40  | 52  | 64  | 76  | 88  | 100 | 112 | 124 | 136 | \n",
       "|  5  | 17  | 29  | 41  | 53  | 65  | 77  | 89  | 101 | 113 | 125 | 137 | \n",
       "|  6  | 18  | 30  | 42  | 54  | 66  | 78  | 90  | 102 | 114 | 126 | 138 | \n",
       "|  7  | 19  | 31  | 43  | 55  | 67  | 79  | 91  | 103 | 115 | 127 | 139 | \n",
       "|  8  | 20  | 32  | 44  | 56  | 68  | 80  | 92  | 104 | 116 | 128 | 140 | \n",
       "|  9  | 21  | 33  | 45  | 57  | 69  | 81  | 93  | 105 | 117 | 129 | 141 | \n",
       "| 10  | 22  | 34  | 46  | 58  | 70  | 82  | 94  | 106 | 118 | 130 | 142 | \n",
       "| 11  | 23  | 35  | 47  | 59  | 71  | 83  | 95  | 107 | 119 | 131 | 143 | \n",
       "| 12  | 24  | 36  | 48  | 60  | 72  | 84  | 96  | 108 | 120 | 132 | 144 | \n",
       "\n",
       "\n"
      ],
      "text/plain": [
       "      [,1] [,2] [,3] [,4] [,5] [,6] [,7] [,8] [,9] [,10] [,11] [,12]\n",
       " [1,]  1   13   25   37   49   61   73   85    97  109   121   133  \n",
       " [2,]  2   14   26   38   50   62   74   86    98  110   122   134  \n",
       " [3,]  3   15   27   39   51   63   75   87    99  111   123   135  \n",
       " [4,]  4   16   28   40   52   64   76   88   100  112   124   136  \n",
       " [5,]  5   17   29   41   53   65   77   89   101  113   125   137  \n",
       " [6,]  6   18   30   42   54   66   78   90   102  114   126   138  \n",
       " [7,]  7   19   31   43   55   67   79   91   103  115   127   139  \n",
       " [8,]  8   20   32   44   56   68   80   92   104  116   128   140  \n",
       " [9,]  9   21   33   45   57   69   81   93   105  117   129   141  \n",
       "[10,] 10   22   34   46   58   70   82   94   106  118   130   142  \n",
       "[11,] 11   23   35   47   59   71   83   95   107  119   131   143  \n",
       "[12,] 12   24   36   48   60   72   84   96   108  120   132   144  "
      ]
     },
     "metadata": {},
     "output_type": "display_data"
    }
   ],
   "source": [
    "M1 <- matrix(c(1:144), 12, 12) #請幫我作一個 12*12 的矩陣 並從1到144\n",
    "M1"
   ]
  },
  {
   "cell_type": "code",
   "execution_count": 15,
   "metadata": {},
   "outputs": [
    {
     "data": {
      "text/html": [
       "<ol class=list-inline>\n",
       "\t<li>6</li>\n",
       "\t<li>18</li>\n",
       "\t<li>30</li>\n",
       "\t<li>42</li>\n",
       "\t<li>54</li>\n",
       "\t<li>66</li>\n",
       "\t<li>78</li>\n",
       "\t<li>90</li>\n",
       "\t<li>102</li>\n",
       "\t<li>114</li>\n",
       "\t<li>126</li>\n",
       "\t<li>138</li>\n",
       "</ol>\n"
      ],
      "text/latex": [
       "\\begin{enumerate*}\n",
       "\\item 6\n",
       "\\item 18\n",
       "\\item 30\n",
       "\\item 42\n",
       "\\item 54\n",
       "\\item 66\n",
       "\\item 78\n",
       "\\item 90\n",
       "\\item 102\n",
       "\\item 114\n",
       "\\item 126\n",
       "\\item 138\n",
       "\\end{enumerate*}\n"
      ],
      "text/markdown": [
       "1. 6\n",
       "2. 18\n",
       "3. 30\n",
       "4. 42\n",
       "5. 54\n",
       "6. 66\n",
       "7. 78\n",
       "8. 90\n",
       "9. 102\n",
       "10. 114\n",
       "11. 126\n",
       "12. 138\n",
       "\n",
       "\n"
      ],
      "text/plain": [
       " [1]   6  18  30  42  54  66  78  90 102 114 126 138"
      ]
     },
     "metadata": {},
     "output_type": "display_data"
    }
   ],
   "source": [
    "M1[6, ] "
   ]
  },
  {
   "cell_type": "code",
   "execution_count": 16,
   "metadata": {},
   "outputs": [
    {
     "data": {
      "text/html": [
       "<ol class=list-inline>\n",
       "\t<li>61</li>\n",
       "\t<li>62</li>\n",
       "\t<li>63</li>\n",
       "\t<li>64</li>\n",
       "\t<li>65</li>\n",
       "\t<li>66</li>\n",
       "\t<li>67</li>\n",
       "\t<li>68</li>\n",
       "\t<li>69</li>\n",
       "\t<li>70</li>\n",
       "\t<li>71</li>\n",
       "\t<li>72</li>\n",
       "</ol>\n"
      ],
      "text/latex": [
       "\\begin{enumerate*}\n",
       "\\item 61\n",
       "\\item 62\n",
       "\\item 63\n",
       "\\item 64\n",
       "\\item 65\n",
       "\\item 66\n",
       "\\item 67\n",
       "\\item 68\n",
       "\\item 69\n",
       "\\item 70\n",
       "\\item 71\n",
       "\\item 72\n",
       "\\end{enumerate*}\n"
      ],
      "text/markdown": [
       "1. 61\n",
       "2. 62\n",
       "3. 63\n",
       "4. 64\n",
       "5. 65\n",
       "6. 66\n",
       "7. 67\n",
       "8. 68\n",
       "9. 69\n",
       "10. 70\n",
       "11. 71\n",
       "12. 72\n",
       "\n",
       "\n"
      ],
      "text/plain": [
       " [1] 61 62 63 64 65 66 67 68 69 70 71 72"
      ]
     },
     "metadata": {},
     "output_type": "display_data"
    }
   ],
   "source": [
    "M1[, 6]"
   ]
  },
  {
   "cell_type": "code",
   "execution_count": 17,
   "metadata": {},
   "outputs": [
    {
     "data": {
      "text/html": [
       "<table>\n",
       "<tbody>\n",
       "\t<tr><th scope=row>x1</th><td>11</td><td>12</td><td>13</td></tr>\n",
       "\t<tr><th scope=row>x2</th><td>21</td><td>22</td><td>23</td></tr>\n",
       "</tbody>\n",
       "</table>\n"
      ],
      "text/latex": [
       "\\begin{tabular}{r|lll}\n",
       "\tx1 & 11 & 12 & 13\\\\\n",
       "\tx2 & 21 & 22 & 23\\\\\n",
       "\\end{tabular}\n"
      ],
      "text/markdown": [
       "\n",
       "| x1 | 11 | 12 | 13 | \n",
       "| x2 | 21 | 22 | 23 | \n",
       "\n",
       "\n"
      ],
      "text/plain": [
       "   [,1] [,2] [,3]\n",
       "x1 11   12   13  \n",
       "x2 21   22   23  "
      ]
     },
     "metadata": {},
     "output_type": "display_data"
    },
    {
     "data": {
      "text/html": [
       "<table>\n",
       "<thead><tr><th scope=col>x1</th><th scope=col>x2</th></tr></thead>\n",
       "<tbody>\n",
       "\t<tr><td>11</td><td>21</td></tr>\n",
       "\t<tr><td>12</td><td>22</td></tr>\n",
       "\t<tr><td>13</td><td>23</td></tr>\n",
       "</tbody>\n",
       "</table>\n"
      ],
      "text/latex": [
       "\\begin{tabular}{ll}\n",
       " x1 & x2\\\\\n",
       "\\hline\n",
       "\t 11 & 21\\\\\n",
       "\t 12 & 22\\\\\n",
       "\t 13 & 23\\\\\n",
       "\\end{tabular}\n"
      ],
      "text/markdown": [
       "\n",
       "x1 | x2 | \n",
       "|---|---|---|\n",
       "| 11 | 21 | \n",
       "| 12 | 22 | \n",
       "| 13 | 23 | \n",
       "\n",
       "\n"
      ],
      "text/plain": [
       "     x1 x2\n",
       "[1,] 11 21\n",
       "[2,] 12 22\n",
       "[3,] 13 23"
      ]
     },
     "metadata": {},
     "output_type": "display_data"
    }
   ],
   "source": [
    "x1 = c(11,12,13)\n",
    "x2 = c(21,22,23)\n",
    "M1 = rbind(x1,x2)     #row bind; 視為橫列連起來\n",
    "M2 = cbind(x1,x2)   #column bind; 視為直行連起來\n",
    "M1; M2"
   ]
  },
  {
   "cell_type": "markdown",
   "metadata": {},
   "source": [
    "### 2-6.資料框架 (Data Frame)"
   ]
  },
  {
   "cell_type": "code",
   "execution_count": 18,
   "metadata": {},
   "outputs": [
    {
     "data": {
      "text/html": [
       "<ol class=list-inline>\n",
       "\t<li>'Sepal.Length'</li>\n",
       "\t<li>'Sepal.Width'</li>\n",
       "\t<li>'Petal.Length'</li>\n",
       "\t<li>'Petal.Width'</li>\n",
       "\t<li>'Species'</li>\n",
       "</ol>\n"
      ],
      "text/latex": [
       "\\begin{enumerate*}\n",
       "\\item 'Sepal.Length'\n",
       "\\item 'Sepal.Width'\n",
       "\\item 'Petal.Length'\n",
       "\\item 'Petal.Width'\n",
       "\\item 'Species'\n",
       "\\end{enumerate*}\n"
      ],
      "text/markdown": [
       "1. 'Sepal.Length'\n",
       "2. 'Sepal.Width'\n",
       "3. 'Petal.Length'\n",
       "4. 'Petal.Width'\n",
       "5. 'Species'\n",
       "\n",
       "\n"
      ],
      "text/plain": [
       "[1] \"Sepal.Length\" \"Sepal.Width\"  \"Petal.Length\" \"Petal.Width\"  \"Species\"     "
      ]
     },
     "metadata": {},
     "output_type": "display_data"
    }
   ],
   "source": [
    "data(iris)\n",
    "names(iris) # 查看變數名"
   ]
  },
  {
   "cell_type": "code",
   "execution_count": 20,
   "metadata": {},
   "outputs": [
    {
     "data": {
      "text/html": [
       "<table>\n",
       "<thead><tr><th scope=col>Sepal.Length</th><th scope=col>Sepal.Width</th><th scope=col>Petal.Length</th><th scope=col>Petal.Width</th><th scope=col>Species</th></tr></thead>\n",
       "<tbody>\n",
       "\t<tr><td>5.1   </td><td>3.5   </td><td>1.4   </td><td>0.2   </td><td>setosa</td></tr>\n",
       "\t<tr><td>4.9   </td><td>3.0   </td><td>1.4   </td><td>0.2   </td><td>setosa</td></tr>\n",
       "\t<tr><td>4.7   </td><td>3.2   </td><td>1.3   </td><td>0.2   </td><td>setosa</td></tr>\n",
       "\t<tr><td>4.6   </td><td>3.1   </td><td>1.5   </td><td>0.2   </td><td>setosa</td></tr>\n",
       "\t<tr><td>5.0   </td><td>3.6   </td><td>1.4   </td><td>0.2   </td><td>setosa</td></tr>\n",
       "\t<tr><td>5.4   </td><td>3.9   </td><td>1.7   </td><td>0.4   </td><td>setosa</td></tr>\n",
       "\t<tr><td>4.6   </td><td>3.4   </td><td>1.4   </td><td>0.3   </td><td>setosa</td></tr>\n",
       "\t<tr><td>5.0   </td><td>3.4   </td><td>1.5   </td><td>0.2   </td><td>setosa</td></tr>\n",
       "\t<tr><td>4.4   </td><td>2.9   </td><td>1.4   </td><td>0.2   </td><td>setosa</td></tr>\n",
       "\t<tr><td>4.9   </td><td>3.1   </td><td>1.5   </td><td>0.1   </td><td>setosa</td></tr>\n",
       "\t<tr><td>5.4   </td><td>3.7   </td><td>1.5   </td><td>0.2   </td><td>setosa</td></tr>\n",
       "\t<tr><td>4.8   </td><td>3.4   </td><td>1.6   </td><td>0.2   </td><td>setosa</td></tr>\n",
       "</tbody>\n",
       "</table>\n"
      ],
      "text/latex": [
       "\\begin{tabular}{r|lllll}\n",
       " Sepal.Length & Sepal.Width & Petal.Length & Petal.Width & Species\\\\\n",
       "\\hline\n",
       "\t 5.1    & 3.5    & 1.4    & 0.2    & setosa\\\\\n",
       "\t 4.9    & 3.0    & 1.4    & 0.2    & setosa\\\\\n",
       "\t 4.7    & 3.2    & 1.3    & 0.2    & setosa\\\\\n",
       "\t 4.6    & 3.1    & 1.5    & 0.2    & setosa\\\\\n",
       "\t 5.0    & 3.6    & 1.4    & 0.2    & setosa\\\\\n",
       "\t 5.4    & 3.9    & 1.7    & 0.4    & setosa\\\\\n",
       "\t 4.6    & 3.4    & 1.4    & 0.3    & setosa\\\\\n",
       "\t 5.0    & 3.4    & 1.5    & 0.2    & setosa\\\\\n",
       "\t 4.4    & 2.9    & 1.4    & 0.2    & setosa\\\\\n",
       "\t 4.9    & 3.1    & 1.5    & 0.1    & setosa\\\\\n",
       "\t 5.4    & 3.7    & 1.5    & 0.2    & setosa\\\\\n",
       "\t 4.8    & 3.4    & 1.6    & 0.2    & setosa\\\\\n",
       "\\end{tabular}\n"
      ],
      "text/markdown": [
       "\n",
       "Sepal.Length | Sepal.Width | Petal.Length | Petal.Width | Species | \n",
       "|---|---|---|---|---|---|---|---|---|---|---|---|\n",
       "| 5.1    | 3.5    | 1.4    | 0.2    | setosa | \n",
       "| 4.9    | 3.0    | 1.4    | 0.2    | setosa | \n",
       "| 4.7    | 3.2    | 1.3    | 0.2    | setosa | \n",
       "| 4.6    | 3.1    | 1.5    | 0.2    | setosa | \n",
       "| 5.0    | 3.6    | 1.4    | 0.2    | setosa | \n",
       "| 5.4    | 3.9    | 1.7    | 0.4    | setosa | \n",
       "| 4.6    | 3.4    | 1.4    | 0.3    | setosa | \n",
       "| 5.0    | 3.4    | 1.5    | 0.2    | setosa | \n",
       "| 4.4    | 2.9    | 1.4    | 0.2    | setosa | \n",
       "| 4.9    | 3.1    | 1.5    | 0.1    | setosa | \n",
       "| 5.4    | 3.7    | 1.5    | 0.2    | setosa | \n",
       "| 4.8    | 3.4    | 1.6    | 0.2    | setosa | \n",
       "\n",
       "\n"
      ],
      "text/plain": [
       "   Sepal.Length Sepal.Width Petal.Length Petal.Width Species\n",
       "1  5.1          3.5         1.4          0.2         setosa \n",
       "2  4.9          3.0         1.4          0.2         setosa \n",
       "3  4.7          3.2         1.3          0.2         setosa \n",
       "4  4.6          3.1         1.5          0.2         setosa \n",
       "5  5.0          3.6         1.4          0.2         setosa \n",
       "6  5.4          3.9         1.7          0.4         setosa \n",
       "7  4.6          3.4         1.4          0.3         setosa \n",
       "8  5.0          3.4         1.5          0.2         setosa \n",
       "9  4.4          2.9         1.4          0.2         setosa \n",
       "10 4.9          3.1         1.5          0.1         setosa \n",
       "11 5.4          3.7         1.5          0.2         setosa \n",
       "12 4.8          3.4         1.6          0.2         setosa "
      ]
     },
     "metadata": {},
     "output_type": "display_data"
    },
    {
     "data": {
      "text/html": [
       "<table>\n",
       "<thead><tr><th></th><th scope=col>Sepal.Length</th><th scope=col>Sepal.Width</th><th scope=col>Petal.Length</th><th scope=col>Petal.Width</th><th scope=col>Species</th></tr></thead>\n",
       "<tbody>\n",
       "\t<tr><th scope=row>139</th><td>6.0      </td><td>3.0      </td><td>4.8      </td><td>1.8      </td><td>virginica</td></tr>\n",
       "\t<tr><th scope=row>140</th><td>6.9      </td><td>3.1      </td><td>5.4      </td><td>2.1      </td><td>virginica</td></tr>\n",
       "\t<tr><th scope=row>141</th><td>6.7      </td><td>3.1      </td><td>5.6      </td><td>2.4      </td><td>virginica</td></tr>\n",
       "\t<tr><th scope=row>142</th><td>6.9      </td><td>3.1      </td><td>5.1      </td><td>2.3      </td><td>virginica</td></tr>\n",
       "\t<tr><th scope=row>143</th><td>5.8      </td><td>2.7      </td><td>5.1      </td><td>1.9      </td><td>virginica</td></tr>\n",
       "\t<tr><th scope=row>144</th><td>6.8      </td><td>3.2      </td><td>5.9      </td><td>2.3      </td><td>virginica</td></tr>\n",
       "\t<tr><th scope=row>145</th><td>6.7      </td><td>3.3      </td><td>5.7      </td><td>2.5      </td><td>virginica</td></tr>\n",
       "\t<tr><th scope=row>146</th><td>6.7      </td><td>3.0      </td><td>5.2      </td><td>2.3      </td><td>virginica</td></tr>\n",
       "\t<tr><th scope=row>147</th><td>6.3      </td><td>2.5      </td><td>5.0      </td><td>1.9      </td><td>virginica</td></tr>\n",
       "\t<tr><th scope=row>148</th><td>6.5      </td><td>3.0      </td><td>5.2      </td><td>2.0      </td><td>virginica</td></tr>\n",
       "\t<tr><th scope=row>149</th><td>6.2      </td><td>3.4      </td><td>5.4      </td><td>2.3      </td><td>virginica</td></tr>\n",
       "\t<tr><th scope=row>150</th><td>5.9      </td><td>3.0      </td><td>5.1      </td><td>1.8      </td><td>virginica</td></tr>\n",
       "</tbody>\n",
       "</table>\n"
      ],
      "text/latex": [
       "\\begin{tabular}{r|lllll}\n",
       "  & Sepal.Length & Sepal.Width & Petal.Length & Petal.Width & Species\\\\\n",
       "\\hline\n",
       "\t139 & 6.0       & 3.0       & 4.8       & 1.8       & virginica\\\\\n",
       "\t140 & 6.9       & 3.1       & 5.4       & 2.1       & virginica\\\\\n",
       "\t141 & 6.7       & 3.1       & 5.6       & 2.4       & virginica\\\\\n",
       "\t142 & 6.9       & 3.1       & 5.1       & 2.3       & virginica\\\\\n",
       "\t143 & 5.8       & 2.7       & 5.1       & 1.9       & virginica\\\\\n",
       "\t144 & 6.8       & 3.2       & 5.9       & 2.3       & virginica\\\\\n",
       "\t145 & 6.7       & 3.3       & 5.7       & 2.5       & virginica\\\\\n",
       "\t146 & 6.7       & 3.0       & 5.2       & 2.3       & virginica\\\\\n",
       "\t147 & 6.3       & 2.5       & 5.0       & 1.9       & virginica\\\\\n",
       "\t148 & 6.5       & 3.0       & 5.2       & 2.0       & virginica\\\\\n",
       "\t149 & 6.2       & 3.4       & 5.4       & 2.3       & virginica\\\\\n",
       "\t150 & 5.9       & 3.0       & 5.1       & 1.8       & virginica\\\\\n",
       "\\end{tabular}\n"
      ],
      "text/markdown": [
       "\n",
       "| <!--/--> | Sepal.Length | Sepal.Width | Petal.Length | Petal.Width | Species | \n",
       "|---|---|---|---|---|---|---|---|---|---|---|---|\n",
       "| 139 | 6.0       | 3.0       | 4.8       | 1.8       | virginica | \n",
       "| 140 | 6.9       | 3.1       | 5.4       | 2.1       | virginica | \n",
       "| 141 | 6.7       | 3.1       | 5.6       | 2.4       | virginica | \n",
       "| 142 | 6.9       | 3.1       | 5.1       | 2.3       | virginica | \n",
       "| 143 | 5.8       | 2.7       | 5.1       | 1.9       | virginica | \n",
       "| 144 | 6.8       | 3.2       | 5.9       | 2.3       | virginica | \n",
       "| 145 | 6.7       | 3.3       | 5.7       | 2.5       | virginica | \n",
       "| 146 | 6.7       | 3.0       | 5.2       | 2.3       | virginica | \n",
       "| 147 | 6.3       | 2.5       | 5.0       | 1.9       | virginica | \n",
       "| 148 | 6.5       | 3.0       | 5.2       | 2.0       | virginica | \n",
       "| 149 | 6.2       | 3.4       | 5.4       | 2.3       | virginica | \n",
       "| 150 | 5.9       | 3.0       | 5.1       | 1.8       | virginica | \n",
       "\n",
       "\n"
      ],
      "text/plain": [
       "    Sepal.Length Sepal.Width Petal.Length Petal.Width Species  \n",
       "139 6.0          3.0         4.8          1.8         virginica\n",
       "140 6.9          3.1         5.4          2.1         virginica\n",
       "141 6.7          3.1         5.6          2.4         virginica\n",
       "142 6.9          3.1         5.1          2.3         virginica\n",
       "143 5.8          2.7         5.1          1.9         virginica\n",
       "144 6.8          3.2         5.9          2.3         virginica\n",
       "145 6.7          3.3         5.7          2.5         virginica\n",
       "146 6.7          3.0         5.2          2.3         virginica\n",
       "147 6.3          2.5         5.0          1.9         virginica\n",
       "148 6.5          3.0         5.2          2.0         virginica\n",
       "149 6.2          3.4         5.4          2.3         virginica\n",
       "150 5.9          3.0         5.1          1.8         virginica"
      ]
     },
     "metadata": {},
     "output_type": "display_data"
    }
   ],
   "source": [
    "head(iris, 12)  # 只看前12筆資料\n",
    "tail(iris, 12) # 只看尾巴12筆資料"
   ]
  },
  {
   "cell_type": "code",
   "execution_count": 21,
   "metadata": {},
   "outputs": [
    {
     "data": {
      "text/html": [
       "<ol class=list-inline>\n",
       "\t<li>150</li>\n",
       "\t<li>5</li>\n",
       "</ol>\n"
      ],
      "text/latex": [
       "\\begin{enumerate*}\n",
       "\\item 150\n",
       "\\item 5\n",
       "\\end{enumerate*}\n"
      ],
      "text/markdown": [
       "1. 150\n",
       "2. 5\n",
       "\n",
       "\n"
      ],
      "text/plain": [
       "[1] 150   5"
      ]
     },
     "metadata": {},
     "output_type": "display_data"
    },
    {
     "data": {
      "text/plain": [
       "  Sepal.Length    Sepal.Width     Petal.Length    Petal.Width   \n",
       " Min.   :4.300   Min.   :2.000   Min.   :1.000   Min.   :0.100  \n",
       " 1st Qu.:5.100   1st Qu.:2.800   1st Qu.:1.600   1st Qu.:0.300  \n",
       " Median :5.800   Median :3.000   Median :4.350   Median :1.300  \n",
       " Mean   :5.843   Mean   :3.057   Mean   :3.758   Mean   :1.199  \n",
       " 3rd Qu.:6.400   3rd Qu.:3.300   3rd Qu.:5.100   3rd Qu.:1.800  \n",
       " Max.   :7.900   Max.   :4.400   Max.   :6.900   Max.   :2.500  \n",
       "       Species  \n",
       " setosa    :50  \n",
       " versicolor:50  \n",
       " virginica :50  \n",
       "                \n",
       "                \n",
       "                "
      ]
     },
     "metadata": {},
     "output_type": "display_data"
    }
   ],
   "source": [
    "dim(iris) # 查看列數與欄數\n",
    "summary(iris)#基本敘述性統計量"
   ]
  },
  {
   "cell_type": "code",
   "execution_count": 22,
   "metadata": {},
   "outputs": [
    {
     "data": {
      "text/html": [
       "<table>\n",
       "<thead><tr><th></th><th scope=col>Sepal.Length</th><th scope=col>Sepal.Width</th><th scope=col>Petal.Length</th><th scope=col>Petal.Width</th><th scope=col>Species</th></tr></thead>\n",
       "<tbody>\n",
       "\t<tr><th scope=row>6</th><td>5.4   </td><td>3.9   </td><td>1.7   </td><td>0.4   </td><td>setosa</td></tr>\n",
       "</tbody>\n",
       "</table>\n"
      ],
      "text/latex": [
       "\\begin{tabular}{r|lllll}\n",
       "  & Sepal.Length & Sepal.Width & Petal.Length & Petal.Width & Species\\\\\n",
       "\\hline\n",
       "\t6 & 5.4    & 3.9    & 1.7    & 0.4    & setosa\\\\\n",
       "\\end{tabular}\n"
      ],
      "text/markdown": [
       "\n",
       "| <!--/--> | Sepal.Length | Sepal.Width | Petal.Length | Petal.Width | Species | \n",
       "|---|\n",
       "| 6 | 5.4    | 3.9    | 1.7    | 0.4    | setosa | \n",
       "\n",
       "\n"
      ],
      "text/plain": [
       "  Sepal.Length Sepal.Width Petal.Length Petal.Width Species\n",
       "6 5.4          3.9         1.7          0.4         setosa "
      ]
     },
     "metadata": {},
     "output_type": "display_data"
    },
    {
     "data": {
      "text/html": [
       "<table>\n",
       "<thead><tr><th></th><th scope=col>Sepal.Length</th><th scope=col>Sepal.Width</th><th scope=col>Petal.Length</th><th scope=col>Petal.Width</th><th scope=col>Species</th></tr></thead>\n",
       "<tbody>\n",
       "\t<tr><th scope=row>4</th><td>4.6   </td><td>3.1   </td><td>1.5   </td><td>0.2   </td><td>setosa</td></tr>\n",
       "\t<tr><th scope=row>10</th><td>4.9   </td><td>3.1   </td><td>1.5   </td><td>0.1   </td><td>setosa</td></tr>\n",
       "</tbody>\n",
       "</table>\n"
      ],
      "text/latex": [
       "\\begin{tabular}{r|lllll}\n",
       "  & Sepal.Length & Sepal.Width & Petal.Length & Petal.Width & Species\\\\\n",
       "\\hline\n",
       "\t4 & 4.6    & 3.1    & 1.5    & 0.2    & setosa\\\\\n",
       "\t10 & 4.9    & 3.1    & 1.5    & 0.1    & setosa\\\\\n",
       "\\end{tabular}\n"
      ],
      "text/markdown": [
       "\n",
       "| <!--/--> | Sepal.Length | Sepal.Width | Petal.Length | Petal.Width | Species | \n",
       "|---|---|\n",
       "| 4 | 4.6    | 3.1    | 1.5    | 0.2    | setosa | \n",
       "| 10 | 4.9    | 3.1    | 1.5    | 0.1    | setosa | \n",
       "\n",
       "\n"
      ],
      "text/plain": [
       "   Sepal.Length Sepal.Width Petal.Length Petal.Width Species\n",
       "4  4.6          3.1         1.5          0.2         setosa \n",
       "10 4.9          3.1         1.5          0.1         setosa "
      ]
     },
     "metadata": {},
     "output_type": "display_data"
    }
   ],
   "source": [
    "iris1 <- iris[1:12, ]   # 把iris前12筆資料存成iris1\n",
    "\n",
    "iris1[6, ]      # iris1第6筆是多少(row)\n",
    "iris1[c(4, 10) , ] #取得第4 及第10 列資料"
   ]
  },
  {
   "cell_type": "markdown",
   "metadata": {},
   "source": [
    "### 以下三種寫法都代表同一件事(Column)\n"
   ]
  },
  {
   "cell_type": "code",
   "execution_count": 23,
   "metadata": {},
   "outputs": [
    {
     "data": {
      "text/html": [
       "<ol class=list-inline>\n",
       "\t<li>3.5</li>\n",
       "\t<li>3</li>\n",
       "\t<li>3.2</li>\n",
       "\t<li>3.1</li>\n",
       "\t<li>3.6</li>\n",
       "\t<li>3.9</li>\n",
       "\t<li>3.4</li>\n",
       "\t<li>3.4</li>\n",
       "\t<li>2.9</li>\n",
       "\t<li>3.1</li>\n",
       "\t<li>3.7</li>\n",
       "\t<li>3.4</li>\n",
       "</ol>\n"
      ],
      "text/latex": [
       "\\begin{enumerate*}\n",
       "\\item 3.5\n",
       "\\item 3\n",
       "\\item 3.2\n",
       "\\item 3.1\n",
       "\\item 3.6\n",
       "\\item 3.9\n",
       "\\item 3.4\n",
       "\\item 3.4\n",
       "\\item 2.9\n",
       "\\item 3.1\n",
       "\\item 3.7\n",
       "\\item 3.4\n",
       "\\end{enumerate*}\n"
      ],
      "text/markdown": [
       "1. 3.5\n",
       "2. 3\n",
       "3. 3.2\n",
       "4. 3.1\n",
       "5. 3.6\n",
       "6. 3.9\n",
       "7. 3.4\n",
       "8. 3.4\n",
       "9. 2.9\n",
       "10. 3.1\n",
       "11. 3.7\n",
       "12. 3.4\n",
       "\n",
       "\n"
      ],
      "text/plain": [
       " [1] 3.5 3.0 3.2 3.1 3.6 3.9 3.4 3.4 2.9 3.1 3.7 3.4"
      ]
     },
     "metadata": {},
     "output_type": "display_data"
    },
    {
     "data": {
      "text/html": [
       "<ol class=list-inline>\n",
       "\t<li>3.5</li>\n",
       "\t<li>3</li>\n",
       "\t<li>3.2</li>\n",
       "\t<li>3.1</li>\n",
       "\t<li>3.6</li>\n",
       "\t<li>3.9</li>\n",
       "\t<li>3.4</li>\n",
       "\t<li>3.4</li>\n",
       "\t<li>2.9</li>\n",
       "\t<li>3.1</li>\n",
       "\t<li>3.7</li>\n",
       "\t<li>3.4</li>\n",
       "</ol>\n"
      ],
      "text/latex": [
       "\\begin{enumerate*}\n",
       "\\item 3.5\n",
       "\\item 3\n",
       "\\item 3.2\n",
       "\\item 3.1\n",
       "\\item 3.6\n",
       "\\item 3.9\n",
       "\\item 3.4\n",
       "\\item 3.4\n",
       "\\item 2.9\n",
       "\\item 3.1\n",
       "\\item 3.7\n",
       "\\item 3.4\n",
       "\\end{enumerate*}\n"
      ],
      "text/markdown": [
       "1. 3.5\n",
       "2. 3\n",
       "3. 3.2\n",
       "4. 3.1\n",
       "5. 3.6\n",
       "6. 3.9\n",
       "7. 3.4\n",
       "8. 3.4\n",
       "9. 2.9\n",
       "10. 3.1\n",
       "11. 3.7\n",
       "12. 3.4\n",
       "\n",
       "\n"
      ],
      "text/plain": [
       " [1] 3.5 3.0 3.2 3.1 3.6 3.9 3.4 3.4 2.9 3.1 3.7 3.4"
      ]
     },
     "metadata": {},
     "output_type": "display_data"
    },
    {
     "data": {
      "text/html": [
       "<ol class=list-inline>\n",
       "\t<li>3.5</li>\n",
       "\t<li>3</li>\n",
       "\t<li>3.2</li>\n",
       "\t<li>3.1</li>\n",
       "\t<li>3.6</li>\n",
       "\t<li>3.9</li>\n",
       "\t<li>3.4</li>\n",
       "\t<li>3.4</li>\n",
       "\t<li>2.9</li>\n",
       "\t<li>3.1</li>\n",
       "\t<li>3.7</li>\n",
       "\t<li>3.4</li>\n",
       "</ol>\n"
      ],
      "text/latex": [
       "\\begin{enumerate*}\n",
       "\\item 3.5\n",
       "\\item 3\n",
       "\\item 3.2\n",
       "\\item 3.1\n",
       "\\item 3.6\n",
       "\\item 3.9\n",
       "\\item 3.4\n",
       "\\item 3.4\n",
       "\\item 2.9\n",
       "\\item 3.1\n",
       "\\item 3.7\n",
       "\\item 3.4\n",
       "\\end{enumerate*}\n"
      ],
      "text/markdown": [
       "1. 3.5\n",
       "2. 3\n",
       "3. 3.2\n",
       "4. 3.1\n",
       "5. 3.6\n",
       "6. 3.9\n",
       "7. 3.4\n",
       "8. 3.4\n",
       "9. 2.9\n",
       "10. 3.1\n",
       "11. 3.7\n",
       "12. 3.4\n",
       "\n",
       "\n"
      ],
      "text/plain": [
       " [1] 3.5 3.0 3.2 3.1 3.6 3.9 3.4 3.4 2.9 3.1 3.7 3.4"
      ]
     },
     "metadata": {},
     "output_type": "display_data"
    }
   ],
   "source": [
    "iris1[, 2]    # iris1第2筆是多少(Column)\n",
    "iris1[, \"Sepal.Width\"] #和 iris1[, 2] 相同\n",
    "iris1$Sepal.Width"
   ]
  },
  {
   "cell_type": "code",
   "execution_count": 24,
   "metadata": {},
   "outputs": [
    {
     "data": {
      "text/html": [
       "<table>\n",
       "<thead><tr><th></th><th scope=col>Sepal.Length</th><th scope=col>Sepal.Width</th><th scope=col>Petal.Length</th><th scope=col>Petal.Width</th><th scope=col>Species</th></tr></thead>\n",
       "<tbody>\n",
       "\t<tr><th scope=row>1</th><td>5.1   </td><td>3.5   </td><td>1.4   </td><td>0.2   </td><td>setosa</td></tr>\n",
       "\t<tr><th scope=row>5</th><td>5.0   </td><td>3.6   </td><td>1.4   </td><td>0.2   </td><td>setosa</td></tr>\n",
       "\t<tr><th scope=row>6</th><td>5.4   </td><td>3.9   </td><td>1.7   </td><td>0.4   </td><td>setosa</td></tr>\n",
       "\t<tr><th scope=row>11</th><td>5.4   </td><td>3.7   </td><td>1.5   </td><td>0.2   </td><td>setosa</td></tr>\n",
       "</tbody>\n",
       "</table>\n"
      ],
      "text/latex": [
       "\\begin{tabular}{r|lllll}\n",
       "  & Sepal.Length & Sepal.Width & Petal.Length & Petal.Width & Species\\\\\n",
       "\\hline\n",
       "\t1 & 5.1    & 3.5    & 1.4    & 0.2    & setosa\\\\\n",
       "\t5 & 5.0    & 3.6    & 1.4    & 0.2    & setosa\\\\\n",
       "\t6 & 5.4    & 3.9    & 1.7    & 0.4    & setosa\\\\\n",
       "\t11 & 5.4    & 3.7    & 1.5    & 0.2    & setosa\\\\\n",
       "\\end{tabular}\n"
      ],
      "text/markdown": [
       "\n",
       "| <!--/--> | Sepal.Length | Sepal.Width | Petal.Length | Petal.Width | Species | \n",
       "|---|---|---|---|\n",
       "| 1 | 5.1    | 3.5    | 1.4    | 0.2    | setosa | \n",
       "| 5 | 5.0    | 3.6    | 1.4    | 0.2    | setosa | \n",
       "| 6 | 5.4    | 3.9    | 1.7    | 0.4    | setosa | \n",
       "| 11 | 5.4    | 3.7    | 1.5    | 0.2    | setosa | \n",
       "\n",
       "\n"
      ],
      "text/plain": [
       "   Sepal.Length Sepal.Width Petal.Length Petal.Width Species\n",
       "1  5.1          3.5         1.4          0.2         setosa \n",
       "5  5.0          3.6         1.4          0.2         setosa \n",
       "6  5.4          3.9         1.7          0.4         setosa \n",
       "11 5.4          3.7         1.5          0.2         setosa "
      ]
     },
     "metadata": {},
     "output_type": "display_data"
    }
   ],
   "source": [
    "subset(iris1, Sepal.Width >= 3.5) #取得Sepal.Width 大於等於3.5 的資料"
   ]
  },
  {
   "cell_type": "markdown",
   "metadata": {},
   "source": [
    "## [第三部份].R的資料匯入與輸出\n",
    "- 請特別注意你的作業系統\n",
    "- windows / Mac / Linux 的路徑表示方法都不同\n",
    "- 同時若你採用 Anaconda , 請注意你啟動的位置"
   ]
  },
  {
   "cell_type": "markdown",
   "metadata": {},
   "source": [
    "### 3-1.如果我的檔案是.csv檔\n"
   ]
  },
  {
   "cell_type": "markdown",
   "metadata": {},
   "source": [
    "匯入 CSV 檔的時候會碰到一種比較特別的問題，就是作業系統編碼不同的問題，Windows 的中文編碼是 big5，而 Linux / Mac 都是 UTF-8，所以在 Linux / Mac 匯入來自於 Windows CSV 檔常常會發生亂碼，那該如何解決此問題，本人的做法是將資料讀進來轉成 UTF-8，在輸出一份 CSV 檔，以下先以一個 CSV 檔為主，加以調整修改就可以改成一次跑一個資料夾下的所有 CSV 檔。"
   ]
  },
  {
   "cell_type": "code",
   "execution_count": 32,
   "metadata": {},
   "outputs": [
    {
     "name": "stdout",
     "output_type": "stream",
     "text": [
      "'data.frame':\t1236 obs. of  7 variables:\n",
      " $ bwt      : int  120 113 128 123 108 136 138 132 120 143 ...\n",
      " $ gestation: int  284 282 279 NA 282 286 244 245 289 299 ...\n",
      " $ parity   : int  0 0 0 0 0 0 0 0 0 0 ...\n",
      " $ age      : int  27 33 28 36 23 25 33 23 25 30 ...\n",
      " $ height   : int  62 64 64 69 67 62 62 65 62 66 ...\n",
      " $ weight   : int  100 135 115 190 125 93 178 140 125 136 ...\n",
      " $ smoke    : int  0 0 1 0 1 0 0 0 0 1 ...\n"
     ]
    }
   ],
   "source": [
    "babies <- read.csv(\"babies.csv\", header = TRUE, sep = \",\")   #把babies.csv 叫進來\n",
    "str(babies)                 #把babies資料的屬性show出來"
   ]
  },
  {
   "cell_type": "code",
   "execution_count": 34,
   "metadata": {},
   "outputs": [
    {
     "data": {
      "text/html": [
       "<table>\n",
       "<thead><tr><th scope=col>bwt</th><th scope=col>gestation</th><th scope=col>parity</th><th scope=col>age</th><th scope=col>height</th><th scope=col>weight</th><th scope=col>smoke</th></tr></thead>\n",
       "<tbody>\n",
       "\t<tr><td>120</td><td>284</td><td>0  </td><td>27 </td><td>62 </td><td>100</td><td>0  </td></tr>\n",
       "\t<tr><td>113</td><td>282</td><td>0  </td><td>33 </td><td>64 </td><td>135</td><td>0  </td></tr>\n",
       "\t<tr><td>128</td><td>279</td><td>0  </td><td>28 </td><td>64 </td><td>115</td><td>1  </td></tr>\n",
       "\t<tr><td>123</td><td> NA</td><td>0  </td><td>36 </td><td>69 </td><td>190</td><td>0  </td></tr>\n",
       "\t<tr><td>108</td><td>282</td><td>0  </td><td>23 </td><td>67 </td><td>125</td><td>1  </td></tr>\n",
       "\t<tr><td>136</td><td>286</td><td>0  </td><td>25 </td><td>62 </td><td> 93</td><td>0  </td></tr>\n",
       "\t<tr><td>138</td><td>244</td><td>0  </td><td>33 </td><td>62 </td><td>178</td><td>0  </td></tr>\n",
       "\t<tr><td>132</td><td>245</td><td>0  </td><td>23 </td><td>65 </td><td>140</td><td>0  </td></tr>\n",
       "\t<tr><td>120</td><td>289</td><td>0  </td><td>25 </td><td>62 </td><td>125</td><td>0  </td></tr>\n",
       "\t<tr><td>143</td><td>299</td><td>0  </td><td>30 </td><td>66 </td><td>136</td><td>1  </td></tr>\n",
       "\t<tr><td>140</td><td>351</td><td>0  </td><td>27 </td><td>68 </td><td>120</td><td>0  </td></tr>\n",
       "\t<tr><td>144</td><td>282</td><td>0  </td><td>32 </td><td>64 </td><td>124</td><td>1  </td></tr>\n",
       "\t<tr><td>141</td><td>279</td><td>0  </td><td>23 </td><td>63 </td><td>128</td><td>1  </td></tr>\n",
       "\t<tr><td>110</td><td>281</td><td>0  </td><td>36 </td><td>61 </td><td> 99</td><td>1  </td></tr>\n",
       "\t<tr><td>114</td><td>273</td><td>0  </td><td>30 </td><td>63 </td><td>154</td><td>0  </td></tr>\n",
       "</tbody>\n",
       "</table>\n"
      ],
      "text/latex": [
       "\\begin{tabular}{r|lllllll}\n",
       " bwt & gestation & parity & age & height & weight & smoke\\\\\n",
       "\\hline\n",
       "\t 120 & 284 & 0   & 27  & 62  & 100 & 0  \\\\\n",
       "\t 113 & 282 & 0   & 33  & 64  & 135 & 0  \\\\\n",
       "\t 128 & 279 & 0   & 28  & 64  & 115 & 1  \\\\\n",
       "\t 123 &  NA & 0   & 36  & 69  & 190 & 0  \\\\\n",
       "\t 108 & 282 & 0   & 23  & 67  & 125 & 1  \\\\\n",
       "\t 136 & 286 & 0   & 25  & 62  &  93 & 0  \\\\\n",
       "\t 138 & 244 & 0   & 33  & 62  & 178 & 0  \\\\\n",
       "\t 132 & 245 & 0   & 23  & 65  & 140 & 0  \\\\\n",
       "\t 120 & 289 & 0   & 25  & 62  & 125 & 0  \\\\\n",
       "\t 143 & 299 & 0   & 30  & 66  & 136 & 1  \\\\\n",
       "\t 140 & 351 & 0   & 27  & 68  & 120 & 0  \\\\\n",
       "\t 144 & 282 & 0   & 32  & 64  & 124 & 1  \\\\\n",
       "\t 141 & 279 & 0   & 23  & 63  & 128 & 1  \\\\\n",
       "\t 110 & 281 & 0   & 36  & 61  &  99 & 1  \\\\\n",
       "\t 114 & 273 & 0   & 30  & 63  & 154 & 0  \\\\\n",
       "\\end{tabular}\n"
      ],
      "text/markdown": [
       "\n",
       "bwt | gestation | parity | age | height | weight | smoke | \n",
       "|---|---|---|---|---|---|---|---|---|---|---|---|---|---|---|\n",
       "| 120 | 284 | 0   | 27  | 62  | 100 | 0   | \n",
       "| 113 | 282 | 0   | 33  | 64  | 135 | 0   | \n",
       "| 128 | 279 | 0   | 28  | 64  | 115 | 1   | \n",
       "| 123 |  NA | 0   | 36  | 69  | 190 | 0   | \n",
       "| 108 | 282 | 0   | 23  | 67  | 125 | 1   | \n",
       "| 136 | 286 | 0   | 25  | 62  |  93 | 0   | \n",
       "| 138 | 244 | 0   | 33  | 62  | 178 | 0   | \n",
       "| 132 | 245 | 0   | 23  | 65  | 140 | 0   | \n",
       "| 120 | 289 | 0   | 25  | 62  | 125 | 0   | \n",
       "| 143 | 299 | 0   | 30  | 66  | 136 | 1   | \n",
       "| 140 | 351 | 0   | 27  | 68  | 120 | 0   | \n",
       "| 144 | 282 | 0   | 32  | 64  | 124 | 1   | \n",
       "| 141 | 279 | 0   | 23  | 63  | 128 | 1   | \n",
       "| 110 | 281 | 0   | 36  | 61  |  99 | 1   | \n",
       "| 114 | 273 | 0   | 30  | 63  | 154 | 0   | \n",
       "\n",
       "\n"
      ],
      "text/plain": [
       "   bwt gestation parity age height weight smoke\n",
       "1  120 284       0      27  62     100    0    \n",
       "2  113 282       0      33  64     135    0    \n",
       "3  128 279       0      28  64     115    1    \n",
       "4  123  NA       0      36  69     190    0    \n",
       "5  108 282       0      23  67     125    1    \n",
       "6  136 286       0      25  62      93    0    \n",
       "7  138 244       0      33  62     178    0    \n",
       "8  132 245       0      23  65     140    0    \n",
       "9  120 289       0      25  62     125    0    \n",
       "10 143 299       0      30  66     136    1    \n",
       "11 140 351       0      27  68     120    0    \n",
       "12 144 282       0      32  64     124    1    \n",
       "13 141 279       0      23  63     128    1    \n",
       "14 110 281       0      36  61      99    1    \n",
       "15 114 273       0      30  63     154    0    "
      ]
     },
     "metadata": {},
     "output_type": "display_data"
    },
    {
     "data": {
      "text/html": [
       "<table>\n",
       "<thead><tr><th></th><th scope=col>bwt</th><th scope=col>gestation</th><th scope=col>parity</th><th scope=col>age</th><th scope=col>height</th><th scope=col>weight</th><th scope=col>smoke</th></tr></thead>\n",
       "<tbody>\n",
       "\t<tr><th scope=row>1222</th><td>114</td><td>290</td><td>1  </td><td>21 </td><td>65 </td><td>120</td><td>1  </td></tr>\n",
       "\t<tr><th scope=row>1223</th><td>124</td><td>288</td><td>1  </td><td>21 </td><td>64 </td><td>116</td><td>1  </td></tr>\n",
       "\t<tr><th scope=row>1224</th><td>115</td><td>262</td><td>1  </td><td>23 </td><td>64 </td><td>136</td><td>1  </td></tr>\n",
       "\t<tr><th scope=row>1225</th><td>143</td><td>281</td><td>0  </td><td>28 </td><td>65 </td><td>135</td><td>1  </td></tr>\n",
       "\t<tr><th scope=row>1226</th><td>113</td><td>287</td><td>1  </td><td>29 </td><td>70 </td><td>145</td><td>1  </td></tr>\n",
       "\t<tr><th scope=row>1227</th><td>109</td><td>244</td><td>1  </td><td>21 </td><td>63 </td><td>102</td><td>1  </td></tr>\n",
       "\t<tr><th scope=row>1228</th><td>103</td><td>278</td><td>0  </td><td>30 </td><td>60 </td><td> 87</td><td>1  </td></tr>\n",
       "\t<tr><th scope=row>1229</th><td>118</td><td>276</td><td>0  </td><td>34 </td><td>64 </td><td>116</td><td>0  </td></tr>\n",
       "\t<tr><th scope=row>1230</th><td>127</td><td>290</td><td>0  </td><td>27 </td><td>65 </td><td>121</td><td>0  </td></tr>\n",
       "\t<tr><th scope=row>1231</th><td>132</td><td>270</td><td>0  </td><td>27 </td><td>65 </td><td>126</td><td>0  </td></tr>\n",
       "\t<tr><th scope=row>1232</th><td>113</td><td>275</td><td>1  </td><td>27 </td><td>60 </td><td>100</td><td>0  </td></tr>\n",
       "\t<tr><th scope=row>1233</th><td>128</td><td>265</td><td>0  </td><td>24 </td><td>67 </td><td>120</td><td>0  </td></tr>\n",
       "\t<tr><th scope=row>1234</th><td>130</td><td>291</td><td>0  </td><td>30 </td><td>65 </td><td>150</td><td>1  </td></tr>\n",
       "\t<tr><th scope=row>1235</th><td>125</td><td>281</td><td>1  </td><td>21 </td><td>65 </td><td>110</td><td>0  </td></tr>\n",
       "\t<tr><th scope=row>1236</th><td>117</td><td>297</td><td>0  </td><td>38 </td><td>65 </td><td>129</td><td>0  </td></tr>\n",
       "</tbody>\n",
       "</table>\n"
      ],
      "text/latex": [
       "\\begin{tabular}{r|lllllll}\n",
       "  & bwt & gestation & parity & age & height & weight & smoke\\\\\n",
       "\\hline\n",
       "\t1222 & 114 & 290 & 1   & 21  & 65  & 120 & 1  \\\\\n",
       "\t1223 & 124 & 288 & 1   & 21  & 64  & 116 & 1  \\\\\n",
       "\t1224 & 115 & 262 & 1   & 23  & 64  & 136 & 1  \\\\\n",
       "\t1225 & 143 & 281 & 0   & 28  & 65  & 135 & 1  \\\\\n",
       "\t1226 & 113 & 287 & 1   & 29  & 70  & 145 & 1  \\\\\n",
       "\t1227 & 109 & 244 & 1   & 21  & 63  & 102 & 1  \\\\\n",
       "\t1228 & 103 & 278 & 0   & 30  & 60  &  87 & 1  \\\\\n",
       "\t1229 & 118 & 276 & 0   & 34  & 64  & 116 & 0  \\\\\n",
       "\t1230 & 127 & 290 & 0   & 27  & 65  & 121 & 0  \\\\\n",
       "\t1231 & 132 & 270 & 0   & 27  & 65  & 126 & 0  \\\\\n",
       "\t1232 & 113 & 275 & 1   & 27  & 60  & 100 & 0  \\\\\n",
       "\t1233 & 128 & 265 & 0   & 24  & 67  & 120 & 0  \\\\\n",
       "\t1234 & 130 & 291 & 0   & 30  & 65  & 150 & 1  \\\\\n",
       "\t1235 & 125 & 281 & 1   & 21  & 65  & 110 & 0  \\\\\n",
       "\t1236 & 117 & 297 & 0   & 38  & 65  & 129 & 0  \\\\\n",
       "\\end{tabular}\n"
      ],
      "text/markdown": [
       "\n",
       "| <!--/--> | bwt | gestation | parity | age | height | weight | smoke | \n",
       "|---|---|---|---|---|---|---|---|---|---|---|---|---|---|---|\n",
       "| 1222 | 114 | 290 | 1   | 21  | 65  | 120 | 1   | \n",
       "| 1223 | 124 | 288 | 1   | 21  | 64  | 116 | 1   | \n",
       "| 1224 | 115 | 262 | 1   | 23  | 64  | 136 | 1   | \n",
       "| 1225 | 143 | 281 | 0   | 28  | 65  | 135 | 1   | \n",
       "| 1226 | 113 | 287 | 1   | 29  | 70  | 145 | 1   | \n",
       "| 1227 | 109 | 244 | 1   | 21  | 63  | 102 | 1   | \n",
       "| 1228 | 103 | 278 | 0   | 30  | 60  |  87 | 1   | \n",
       "| 1229 | 118 | 276 | 0   | 34  | 64  | 116 | 0   | \n",
       "| 1230 | 127 | 290 | 0   | 27  | 65  | 121 | 0   | \n",
       "| 1231 | 132 | 270 | 0   | 27  | 65  | 126 | 0   | \n",
       "| 1232 | 113 | 275 | 1   | 27  | 60  | 100 | 0   | \n",
       "| 1233 | 128 | 265 | 0   | 24  | 67  | 120 | 0   | \n",
       "| 1234 | 130 | 291 | 0   | 30  | 65  | 150 | 1   | \n",
       "| 1235 | 125 | 281 | 1   | 21  | 65  | 110 | 0   | \n",
       "| 1236 | 117 | 297 | 0   | 38  | 65  | 129 | 0   | \n",
       "\n",
       "\n"
      ],
      "text/plain": [
       "     bwt gestation parity age height weight smoke\n",
       "1222 114 290       1      21  65     120    1    \n",
       "1223 124 288       1      21  64     116    1    \n",
       "1224 115 262       1      23  64     136    1    \n",
       "1225 143 281       0      28  65     135    1    \n",
       "1226 113 287       1      29  70     145    1    \n",
       "1227 109 244       1      21  63     102    1    \n",
       "1228 103 278       0      30  60      87    1    \n",
       "1229 118 276       0      34  64     116    0    \n",
       "1230 127 290       0      27  65     121    0    \n",
       "1231 132 270       0      27  65     126    0    \n",
       "1232 113 275       1      27  60     100    0    \n",
       "1233 128 265       0      24  67     120    0    \n",
       "1234 130 291       0      30  65     150    1    \n",
       "1235 125 281       1      21  65     110    0    \n",
       "1236 117 297       0      38  65     129    0    "
      ]
     },
     "metadata": {},
     "output_type": "display_data"
    }
   ],
   "source": [
    "#我們重覆一下前面學到的指令\n",
    "\n",
    "head(babies , 15)               # 只看前15筆資料\n",
    "tail(babies , 15) # 只看尾巴15筆資料"
   ]
  },
  {
   "cell_type": "markdown",
   "metadata": {},
   "source": [
    "### 3-2.如果我的檔案是.txt檔"
   ]
  },
  {
   "cell_type": "code",
   "execution_count": 35,
   "metadata": {},
   "outputs": [
    {
     "data": {
      "text/html": [
       "<table>\n",
       "<thead><tr><th scope=col>bwt</th><th scope=col>gestation</th><th scope=col>parity</th><th scope=col>age</th><th scope=col>height</th><th scope=col>weight</th><th scope=col>smoke</th></tr></thead>\n",
       "<tbody>\n",
       "\t<tr><td>120</td><td>284</td><td>0  </td><td>27 </td><td>62 </td><td>100</td><td>0  </td></tr>\n",
       "\t<tr><td>113</td><td>282</td><td>0  </td><td>33 </td><td>64 </td><td>135</td><td>0  </td></tr>\n",
       "\t<tr><td>128</td><td>279</td><td>0  </td><td>28 </td><td>64 </td><td>115</td><td>1  </td></tr>\n",
       "\t<tr><td>123</td><td> NA</td><td>0  </td><td>36 </td><td>69 </td><td>190</td><td>0  </td></tr>\n",
       "\t<tr><td>108</td><td>282</td><td>0  </td><td>23 </td><td>67 </td><td>125</td><td>1  </td></tr>\n",
       "\t<tr><td>136</td><td>286</td><td>0  </td><td>25 </td><td>62 </td><td> 93</td><td>0  </td></tr>\n",
       "</tbody>\n",
       "</table>\n"
      ],
      "text/latex": [
       "\\begin{tabular}{r|lllllll}\n",
       " bwt & gestation & parity & age & height & weight & smoke\\\\\n",
       "\\hline\n",
       "\t 120 & 284 & 0   & 27  & 62  & 100 & 0  \\\\\n",
       "\t 113 & 282 & 0   & 33  & 64  & 135 & 0  \\\\\n",
       "\t 128 & 279 & 0   & 28  & 64  & 115 & 1  \\\\\n",
       "\t 123 &  NA & 0   & 36  & 69  & 190 & 0  \\\\\n",
       "\t 108 & 282 & 0   & 23  & 67  & 125 & 1  \\\\\n",
       "\t 136 & 286 & 0   & 25  & 62  &  93 & 0  \\\\\n",
       "\\end{tabular}\n"
      ],
      "text/markdown": [
       "\n",
       "bwt | gestation | parity | age | height | weight | smoke | \n",
       "|---|---|---|---|---|---|\n",
       "| 120 | 284 | 0   | 27  | 62  | 100 | 0   | \n",
       "| 113 | 282 | 0   | 33  | 64  | 135 | 0   | \n",
       "| 128 | 279 | 0   | 28  | 64  | 115 | 1   | \n",
       "| 123 |  NA | 0   | 36  | 69  | 190 | 0   | \n",
       "| 108 | 282 | 0   | 23  | 67  | 125 | 1   | \n",
       "| 136 | 286 | 0   | 25  | 62  |  93 | 0   | \n",
       "\n",
       "\n"
      ],
      "text/plain": [
       "  bwt gestation parity age height weight smoke\n",
       "1 120 284       0      27  62     100    0    \n",
       "2 113 282       0      33  64     135    0    \n",
       "3 128 279       0      28  64     115    1    \n",
       "4 123  NA       0      36  69     190    0    \n",
       "5 108 282       0      23  67     125    1    \n",
       "6 136 286       0      25  62      93    0    "
      ]
     },
     "metadata": {},
     "output_type": "display_data"
    }
   ],
   "source": [
    "xdata = read.table(\"babies.txt\",header=TRUE)   # header: 表頭\n",
    "head(xdata)             # 只看前6筆資料"
   ]
  },
  {
   "cell_type": "markdown",
   "metadata": {},
   "source": [
    "### 3-3.另存新檔(輸出資料)"
   ]
  },
  {
   "cell_type": "code",
   "execution_count": 36,
   "metadata": {
    "collapsed": true
   },
   "outputs": [],
   "source": [
    "data <- iris # iris 是 R 內建的資料。\n",
    "write.table(data, file = \"test.CSV\", sep = \",\") #請特別注意路徑"
   ]
  },
  {
   "cell_type": "markdown",
   "metadata": {},
   "source": [
    "## [第四部份].合併與分割資料"
   ]
  },
  {
   "cell_type": "markdown",
   "metadata": {},
   "source": [
    "### 4-1.資料合併"
   ]
  },
  {
   "cell_type": "code",
   "execution_count": 37,
   "metadata": {},
   "outputs": [
    {
     "data": {
      "text/html": [
       "<ol class=list-inline>\n",
       "\t<li>1</li>\n",
       "\t<li>2</li>\n",
       "\t<li>3</li>\n",
       "\t<li>10</li>\n",
       "\t<li>20</li>\n",
       "\t<li>30</li>\n",
       "</ol>\n"
      ],
      "text/latex": [
       "\\begin{enumerate*}\n",
       "\\item 1\n",
       "\\item 2\n",
       "\\item 3\n",
       "\\item 10\n",
       "\\item 20\n",
       "\\item 30\n",
       "\\end{enumerate*}\n"
      ],
      "text/markdown": [
       "1. 1\n",
       "2. 2\n",
       "3. 3\n",
       "4. 10\n",
       "5. 20\n",
       "6. 30\n",
       "\n",
       "\n"
      ],
      "text/plain": [
       "[1]  1  2  3 10 20 30"
      ]
     },
     "metadata": {},
     "output_type": "display_data"
    },
    {
     "data": {
      "text/html": [
       "<table>\n",
       "<tbody>\n",
       "\t<tr><th scope=row>x</th><td> 1</td><td> 2</td><td> 3</td></tr>\n",
       "\t<tr><th scope=row>y</th><td>10</td><td>20</td><td>30</td></tr>\n",
       "</tbody>\n",
       "</table>\n"
      ],
      "text/latex": [
       "\\begin{tabular}{r|lll}\n",
       "\tx &  1 &  2 &  3\\\\\n",
       "\ty & 10 & 20 & 30\\\\\n",
       "\\end{tabular}\n"
      ],
      "text/markdown": [
       "\n",
       "| x |  1 |  2 |  3 | \n",
       "| y | 10 | 20 | 30 | \n",
       "\n",
       "\n"
      ],
      "text/plain": [
       "  [,1] [,2] [,3]\n",
       "x  1    2    3  \n",
       "y 10   20   30  "
      ]
     },
     "metadata": {},
     "output_type": "display_data"
    },
    {
     "data": {
      "text/html": [
       "<table>\n",
       "<thead><tr><th scope=col>x</th><th scope=col>y</th></tr></thead>\n",
       "<tbody>\n",
       "\t<tr><td>1 </td><td>10</td></tr>\n",
       "\t<tr><td>2 </td><td>20</td></tr>\n",
       "\t<tr><td>3 </td><td>30</td></tr>\n",
       "</tbody>\n",
       "</table>\n"
      ],
      "text/latex": [
       "\\begin{tabular}{ll}\n",
       " x & y\\\\\n",
       "\\hline\n",
       "\t 1  & 10\\\\\n",
       "\t 2  & 20\\\\\n",
       "\t 3  & 30\\\\\n",
       "\\end{tabular}\n"
      ],
      "text/markdown": [
       "\n",
       "x | y | \n",
       "|---|---|---|\n",
       "| 1  | 10 | \n",
       "| 2  | 20 | \n",
       "| 3  | 30 | \n",
       "\n",
       "\n"
      ],
      "text/plain": [
       "     x y \n",
       "[1,] 1 10\n",
       "[2,] 2 20\n",
       "[3,] 3 30"
      ]
     },
     "metadata": {},
     "output_type": "display_data"
    }
   ],
   "source": [
    "x <- c(1, 2, 3)\n",
    "y <- c(10, 20, 30)\n",
    "union(x ,y) # union 如英文名稱就是取聯集\n",
    "\n",
    "rbind(x, y) # 透過 row 合併\n",
    "cbind(x, y) # 透過 column 合併"
   ]
  },
  {
   "cell_type": "code",
   "execution_count": 38,
   "metadata": {},
   "outputs": [
    {
     "data": {
      "text/html": [
       "<table>\n",
       "<thead><tr><th scope=col>name</th><th scope=col>age</th><th scope=col>tall</th></tr></thead>\n",
       "<tbody>\n",
       "\t<tr><td>Joe  </td><td>29   </td><td>186  </td></tr>\n",
       "\t<tr><td>Tom  </td><td>27   </td><td>178  </td></tr>\n",
       "\t<tr><td>Vicky</td><td>28   </td><td>168  </td></tr>\n",
       "</tbody>\n",
       "</table>\n"
      ],
      "text/latex": [
       "\\begin{tabular}{r|lll}\n",
       " name & age & tall\\\\\n",
       "\\hline\n",
       "\t Joe   & 29    & 186  \\\\\n",
       "\t Tom   & 27    & 178  \\\\\n",
       "\t Vicky & 28    & 168  \\\\\n",
       "\\end{tabular}\n"
      ],
      "text/markdown": [
       "\n",
       "name | age | tall | \n",
       "|---|---|---|\n",
       "| Joe   | 29    | 186   | \n",
       "| Tom   | 27    | 178   | \n",
       "| Vicky | 28    | 168   | \n",
       "\n",
       "\n"
      ],
      "text/plain": [
       "  name  age tall\n",
       "1 Joe   29  186 \n",
       "2 Tom   27  178 \n",
       "3 Vicky 28  168 "
      ]
     },
     "metadata": {},
     "output_type": "display_data"
    }
   ],
   "source": [
    "x <- cbind(c(\"Tom\", \"Joe\", \"Vicky\"), c(27, 29, 28))\n",
    "y <- cbind(c(\"Tom\", \"Joe\", \"Vicky\"), c(178, 186, 168))\n",
    "colnames(x) <- c(\"name\", \"age\")\n",
    "colnames(y) <- c(\"name\", \"tall\")\n",
    "merge(x, y, by = \"name\") # 將 data.frame 透過一個欄位進行合併"
   ]
  },
  {
   "cell_type": "markdown",
   "metadata": {},
   "source": [
    "### 4-2.資料分割"
   ]
  },
  {
   "cell_type": "code",
   "execution_count": 39,
   "metadata": {},
   "outputs": [
    {
     "data": {
      "text/html": [
       "<dl>\n",
       "\t<dt>$`1`</dt>\n",
       "\t\t<dd><table>\n",
       "<thead><tr><th></th><th scope=col>Sepal.Length</th><th scope=col>Sepal.Width</th><th scope=col>Petal.Length</th><th scope=col>Petal.Width</th><th scope=col>Species</th></tr></thead>\n",
       "<tbody>\n",
       "\t<tr><th scope=row>1</th><td>5.1       </td><td>3.5       </td><td>1.4       </td><td>0.2       </td><td>setosa    </td></tr>\n",
       "\t<tr><th scope=row>4</th><td>4.6       </td><td>3.1       </td><td>1.5       </td><td>0.2       </td><td>setosa    </td></tr>\n",
       "\t<tr><th scope=row>8</th><td>5.0       </td><td>3.4       </td><td>1.5       </td><td>0.2       </td><td>setosa    </td></tr>\n",
       "\t<tr><th scope=row>10</th><td>4.9       </td><td>3.1       </td><td>1.5       </td><td>0.1       </td><td>setosa    </td></tr>\n",
       "\t<tr><th scope=row>12</th><td>4.8       </td><td>3.4       </td><td>1.6       </td><td>0.2       </td><td>setosa    </td></tr>\n",
       "\t<tr><th scope=row>13</th><td>4.8       </td><td>3.0       </td><td>1.4       </td><td>0.1       </td><td>setosa    </td></tr>\n",
       "\t<tr><th scope=row>14</th><td>4.3       </td><td>3.0       </td><td>1.1       </td><td>0.1       </td><td>setosa    </td></tr>\n",
       "\t<tr><th scope=row>17</th><td>5.4       </td><td>3.9       </td><td>1.3       </td><td>0.4       </td><td>setosa    </td></tr>\n",
       "\t<tr><th scope=row>18</th><td>5.1       </td><td>3.5       </td><td>1.4       </td><td>0.3       </td><td>setosa    </td></tr>\n",
       "\t<tr><th scope=row>19</th><td>5.7       </td><td>3.8       </td><td>1.7       </td><td>0.3       </td><td>setosa    </td></tr>\n",
       "\t<tr><th scope=row>27</th><td>5.0       </td><td>3.4       </td><td>1.6       </td><td>0.4       </td><td>setosa    </td></tr>\n",
       "\t<tr><th scope=row>28</th><td>5.2       </td><td>3.5       </td><td>1.5       </td><td>0.2       </td><td>setosa    </td></tr>\n",
       "\t<tr><th scope=row>29</th><td>5.2       </td><td>3.4       </td><td>1.4       </td><td>0.2       </td><td>setosa    </td></tr>\n",
       "\t<tr><th scope=row>31</th><td>4.8       </td><td>3.1       </td><td>1.6       </td><td>0.2       </td><td>setosa    </td></tr>\n",
       "\t<tr><th scope=row>34</th><td>5.5       </td><td>4.2       </td><td>1.4       </td><td>0.2       </td><td>setosa    </td></tr>\n",
       "\t<tr><th scope=row>36</th><td>5.0       </td><td>3.2       </td><td>1.2       </td><td>0.2       </td><td>setosa    </td></tr>\n",
       "\t<tr><th scope=row>37</th><td>5.5       </td><td>3.5       </td><td>1.3       </td><td>0.2       </td><td>setosa    </td></tr>\n",
       "\t<tr><th scope=row>38</th><td>4.9       </td><td>3.6       </td><td>1.4       </td><td>0.1       </td><td>setosa    </td></tr>\n",
       "\t<tr><th scope=row>39</th><td>4.4       </td><td>3.0       </td><td>1.3       </td><td>0.2       </td><td>setosa    </td></tr>\n",
       "\t<tr><th scope=row>44</th><td>5.0       </td><td>3.5       </td><td>1.6       </td><td>0.6       </td><td>setosa    </td></tr>\n",
       "\t<tr><th scope=row>45</th><td>5.1       </td><td>3.8       </td><td>1.9       </td><td>0.4       </td><td>setosa    </td></tr>\n",
       "\t<tr><th scope=row>48</th><td>4.6       </td><td>3.2       </td><td>1.4       </td><td>0.2       </td><td>setosa    </td></tr>\n",
       "\t<tr><th scope=row>49</th><td>5.3       </td><td>3.7       </td><td>1.5       </td><td>0.2       </td><td>setosa    </td></tr>\n",
       "\t<tr><th scope=row>50</th><td>5.0       </td><td>3.3       </td><td>1.4       </td><td>0.2       </td><td>setosa    </td></tr>\n",
       "\t<tr><th scope=row>52</th><td>6.4       </td><td>3.2       </td><td>4.5       </td><td>1.5       </td><td>versicolor</td></tr>\n",
       "\t<tr><th scope=row>55</th><td>6.5       </td><td>2.8       </td><td>4.6       </td><td>1.5       </td><td>versicolor</td></tr>\n",
       "\t<tr><th scope=row>56</th><td>5.7       </td><td>2.8       </td><td>4.5       </td><td>1.3       </td><td>versicolor</td></tr>\n",
       "\t<tr><th scope=row>58</th><td>4.9       </td><td>2.4       </td><td>3.3       </td><td>1.0       </td><td>versicolor</td></tr>\n",
       "\t<tr><th scope=row>61</th><td>5.0       </td><td>2.0       </td><td>3.5       </td><td>1.0       </td><td>versicolor</td></tr>\n",
       "\t<tr><th scope=row>63</th><td>6.0       </td><td>2.2       </td><td>4.0       </td><td>1.0       </td><td>versicolor</td></tr>\n",
       "\t<tr><th scope=row>⋮</th><td>⋮</td><td>⋮</td><td>⋮</td><td>⋮</td><td>⋮</td></tr>\n",
       "\t<tr><th scope=row>100</th><td>5.7       </td><td>2.8       </td><td>4.1       </td><td>1.3       </td><td>versicolor</td></tr>\n",
       "\t<tr><th scope=row>102</th><td>5.8       </td><td>2.7       </td><td>5.1       </td><td>1.9       </td><td>virginica </td></tr>\n",
       "\t<tr><th scope=row>103</th><td>7.1       </td><td>3.0       </td><td>5.9       </td><td>2.1       </td><td>virginica </td></tr>\n",
       "\t<tr><th scope=row>107</th><td>4.9       </td><td>2.5       </td><td>4.5       </td><td>1.7       </td><td>virginica </td></tr>\n",
       "\t<tr><th scope=row>108</th><td>7.3       </td><td>2.9       </td><td>6.3       </td><td>1.8       </td><td>virginica </td></tr>\n",
       "\t<tr><th scope=row>109</th><td>6.7       </td><td>2.5       </td><td>5.8       </td><td>1.8       </td><td>virginica </td></tr>\n",
       "\t<tr><th scope=row>110</th><td>7.2       </td><td>3.6       </td><td>6.1       </td><td>2.5       </td><td>virginica </td></tr>\n",
       "\t<tr><th scope=row>111</th><td>6.5       </td><td>3.2       </td><td>5.1       </td><td>2.0       </td><td>virginica </td></tr>\n",
       "\t<tr><th scope=row>112</th><td>6.4       </td><td>2.7       </td><td>5.3       </td><td>1.9       </td><td>virginica </td></tr>\n",
       "\t<tr><th scope=row>113</th><td>6.8       </td><td>3.0       </td><td>5.5       </td><td>2.1       </td><td>virginica </td></tr>\n",
       "\t<tr><th scope=row>116</th><td>6.4       </td><td>3.2       </td><td>5.3       </td><td>2.3       </td><td>virginica </td></tr>\n",
       "\t<tr><th scope=row>117</th><td>6.5       </td><td>3.0       </td><td>5.5       </td><td>1.8       </td><td>virginica </td></tr>\n",
       "\t<tr><th scope=row>118</th><td>7.7       </td><td>3.8       </td><td>6.7       </td><td>2.2       </td><td>virginica </td></tr>\n",
       "\t<tr><th scope=row>119</th><td>7.7       </td><td>2.6       </td><td>6.9       </td><td>2.3       </td><td>virginica </td></tr>\n",
       "\t<tr><th scope=row>120</th><td>6.0       </td><td>2.2       </td><td>5.0       </td><td>1.5       </td><td>virginica </td></tr>\n",
       "\t<tr><th scope=row>122</th><td>5.6       </td><td>2.8       </td><td>4.9       </td><td>2.0       </td><td>virginica </td></tr>\n",
       "\t<tr><th scope=row>123</th><td>7.7       </td><td>2.8       </td><td>6.7       </td><td>2.0       </td><td>virginica </td></tr>\n",
       "\t<tr><th scope=row>124</th><td>6.3       </td><td>2.7       </td><td>4.9       </td><td>1.8       </td><td>virginica </td></tr>\n",
       "\t<tr><th scope=row>125</th><td>6.7       </td><td>3.3       </td><td>5.7       </td><td>2.1       </td><td>virginica </td></tr>\n",
       "\t<tr><th scope=row>127</th><td>6.2       </td><td>2.8       </td><td>4.8       </td><td>1.8       </td><td>virginica </td></tr>\n",
       "\t<tr><th scope=row>129</th><td>6.4       </td><td>2.8       </td><td>5.6       </td><td>2.1       </td><td>virginica </td></tr>\n",
       "\t<tr><th scope=row>130</th><td>7.2       </td><td>3.0       </td><td>5.8       </td><td>1.6       </td><td>virginica </td></tr>\n",
       "\t<tr><th scope=row>131</th><td>7.4       </td><td>2.8       </td><td>6.1       </td><td>1.9       </td><td>virginica </td></tr>\n",
       "\t<tr><th scope=row>133</th><td>6.4       </td><td>2.8       </td><td>5.6       </td><td>2.2       </td><td>virginica </td></tr>\n",
       "\t<tr><th scope=row>134</th><td>6.3       </td><td>2.8       </td><td>5.1       </td><td>1.5       </td><td>virginica </td></tr>\n",
       "\t<tr><th scope=row>135</th><td>6.1       </td><td>2.6       </td><td>5.6       </td><td>1.4       </td><td>virginica </td></tr>\n",
       "\t<tr><th scope=row>142</th><td>6.9       </td><td>3.1       </td><td>5.1       </td><td>2.3       </td><td>virginica </td></tr>\n",
       "\t<tr><th scope=row>147</th><td>6.3       </td><td>2.5       </td><td>5.0       </td><td>1.9       </td><td>virginica </td></tr>\n",
       "\t<tr><th scope=row>148</th><td>6.5       </td><td>3.0       </td><td>5.2       </td><td>2.0       </td><td>virginica </td></tr>\n",
       "\t<tr><th scope=row>149</th><td>6.2       </td><td>3.4       </td><td>5.4       </td><td>2.3       </td><td>virginica </td></tr>\n",
       "</tbody>\n",
       "</table>\n",
       "</dd>\n",
       "\t<dt>$`2`</dt>\n",
       "\t\t<dd><table>\n",
       "<thead><tr><th></th><th scope=col>Sepal.Length</th><th scope=col>Sepal.Width</th><th scope=col>Petal.Length</th><th scope=col>Petal.Width</th><th scope=col>Species</th></tr></thead>\n",
       "<tbody>\n",
       "\t<tr><th scope=row>2</th><td>4.9       </td><td>3.0       </td><td>1.4       </td><td>0.2       </td><td>setosa    </td></tr>\n",
       "\t<tr><th scope=row>3</th><td>4.7       </td><td>3.2       </td><td>1.3       </td><td>0.2       </td><td>setosa    </td></tr>\n",
       "\t<tr><th scope=row>5</th><td>5.0       </td><td>3.6       </td><td>1.4       </td><td>0.2       </td><td>setosa    </td></tr>\n",
       "\t<tr><th scope=row>6</th><td>5.4       </td><td>3.9       </td><td>1.7       </td><td>0.4       </td><td>setosa    </td></tr>\n",
       "\t<tr><th scope=row>7</th><td>4.6       </td><td>3.4       </td><td>1.4       </td><td>0.3       </td><td>setosa    </td></tr>\n",
       "\t<tr><th scope=row>9</th><td>4.4       </td><td>2.9       </td><td>1.4       </td><td>0.2       </td><td>setosa    </td></tr>\n",
       "\t<tr><th scope=row>11</th><td>5.4       </td><td>3.7       </td><td>1.5       </td><td>0.2       </td><td>setosa    </td></tr>\n",
       "\t<tr><th scope=row>15</th><td>5.8       </td><td>4.0       </td><td>1.2       </td><td>0.2       </td><td>setosa    </td></tr>\n",
       "\t<tr><th scope=row>16</th><td>5.7       </td><td>4.4       </td><td>1.5       </td><td>0.4       </td><td>setosa    </td></tr>\n",
       "\t<tr><th scope=row>20</th><td>5.1       </td><td>3.8       </td><td>1.5       </td><td>0.3       </td><td>setosa    </td></tr>\n",
       "\t<tr><th scope=row>21</th><td>5.4       </td><td>3.4       </td><td>1.7       </td><td>0.2       </td><td>setosa    </td></tr>\n",
       "\t<tr><th scope=row>22</th><td>5.1       </td><td>3.7       </td><td>1.5       </td><td>0.4       </td><td>setosa    </td></tr>\n",
       "\t<tr><th scope=row>23</th><td>4.6       </td><td>3.6       </td><td>1.0       </td><td>0.2       </td><td>setosa    </td></tr>\n",
       "\t<tr><th scope=row>24</th><td>5.1       </td><td>3.3       </td><td>1.7       </td><td>0.5       </td><td>setosa    </td></tr>\n",
       "\t<tr><th scope=row>25</th><td>4.8       </td><td>3.4       </td><td>1.9       </td><td>0.2       </td><td>setosa    </td></tr>\n",
       "\t<tr><th scope=row>26</th><td>5.0       </td><td>3.0       </td><td>1.6       </td><td>0.2       </td><td>setosa    </td></tr>\n",
       "\t<tr><th scope=row>30</th><td>4.7       </td><td>3.2       </td><td>1.6       </td><td>0.2       </td><td>setosa    </td></tr>\n",
       "\t<tr><th scope=row>32</th><td>5.4       </td><td>3.4       </td><td>1.5       </td><td>0.4       </td><td>setosa    </td></tr>\n",
       "\t<tr><th scope=row>33</th><td>5.2       </td><td>4.1       </td><td>1.5       </td><td>0.1       </td><td>setosa    </td></tr>\n",
       "\t<tr><th scope=row>35</th><td>4.9       </td><td>3.1       </td><td>1.5       </td><td>0.2       </td><td>setosa    </td></tr>\n",
       "\t<tr><th scope=row>40</th><td>5.1       </td><td>3.4       </td><td>1.5       </td><td>0.2       </td><td>setosa    </td></tr>\n",
       "\t<tr><th scope=row>41</th><td>5.0       </td><td>3.5       </td><td>1.3       </td><td>0.3       </td><td>setosa    </td></tr>\n",
       "\t<tr><th scope=row>42</th><td>4.5       </td><td>2.3       </td><td>1.3       </td><td>0.3       </td><td>setosa    </td></tr>\n",
       "\t<tr><th scope=row>43</th><td>4.4       </td><td>3.2       </td><td>1.3       </td><td>0.2       </td><td>setosa    </td></tr>\n",
       "\t<tr><th scope=row>46</th><td>4.8       </td><td>3.0       </td><td>1.4       </td><td>0.3       </td><td>setosa    </td></tr>\n",
       "\t<tr><th scope=row>47</th><td>5.1       </td><td>3.8       </td><td>1.6       </td><td>0.2       </td><td>setosa    </td></tr>\n",
       "\t<tr><th scope=row>51</th><td>7.0       </td><td>3.2       </td><td>4.7       </td><td>1.4       </td><td>versicolor</td></tr>\n",
       "\t<tr><th scope=row>53</th><td>6.9       </td><td>3.1       </td><td>4.9       </td><td>1.5       </td><td>versicolor</td></tr>\n",
       "\t<tr><th scope=row>54</th><td>5.5       </td><td>2.3       </td><td>4.0       </td><td>1.3       </td><td>versicolor</td></tr>\n",
       "\t<tr><th scope=row>57</th><td>6.3       </td><td>3.3       </td><td>4.7       </td><td>1.6       </td><td>versicolor</td></tr>\n",
       "\t<tr><th scope=row>⋮</th><td>⋮</td><td>⋮</td><td>⋮</td><td>⋮</td><td>⋮</td></tr>\n",
       "\t<tr><th scope=row>84</th><td>6.0       </td><td>2.7       </td><td>5.1       </td><td>1.6       </td><td>versicolor</td></tr>\n",
       "\t<tr><th scope=row>87</th><td>6.7       </td><td>3.1       </td><td>4.7       </td><td>1.5       </td><td>versicolor</td></tr>\n",
       "\t<tr><th scope=row>88</th><td>6.3       </td><td>2.3       </td><td>4.4       </td><td>1.3       </td><td>versicolor</td></tr>\n",
       "\t<tr><th scope=row>90</th><td>5.5       </td><td>2.5       </td><td>4.0       </td><td>1.3       </td><td>versicolor</td></tr>\n",
       "\t<tr><th scope=row>91</th><td>5.5       </td><td>2.6       </td><td>4.4       </td><td>1.2       </td><td>versicolor</td></tr>\n",
       "\t<tr><th scope=row>94</th><td>5.0       </td><td>2.3       </td><td>3.3       </td><td>1.0       </td><td>versicolor</td></tr>\n",
       "\t<tr><th scope=row>97</th><td>5.7       </td><td>2.9       </td><td>4.2       </td><td>1.3       </td><td>versicolor</td></tr>\n",
       "\t<tr><th scope=row>98</th><td>6.2       </td><td>2.9       </td><td>4.3       </td><td>1.3       </td><td>versicolor</td></tr>\n",
       "\t<tr><th scope=row>99</th><td>5.1       </td><td>2.5       </td><td>3.0       </td><td>1.1       </td><td>versicolor</td></tr>\n",
       "\t<tr><th scope=row>101</th><td>6.3       </td><td>3.3       </td><td>6.0       </td><td>2.5       </td><td>virginica </td></tr>\n",
       "\t<tr><th scope=row>104</th><td>6.3       </td><td>2.9       </td><td>5.6       </td><td>1.8       </td><td>virginica </td></tr>\n",
       "\t<tr><th scope=row>105</th><td>6.5       </td><td>3.0       </td><td>5.8       </td><td>2.2       </td><td>virginica </td></tr>\n",
       "\t<tr><th scope=row>106</th><td>7.6       </td><td>3.0       </td><td>6.6       </td><td>2.1       </td><td>virginica </td></tr>\n",
       "\t<tr><th scope=row>114</th><td>5.7       </td><td>2.5       </td><td>5.0       </td><td>2.0       </td><td>virginica </td></tr>\n",
       "\t<tr><th scope=row>115</th><td>5.8       </td><td>2.8       </td><td>5.1       </td><td>2.4       </td><td>virginica </td></tr>\n",
       "\t<tr><th scope=row>121</th><td>6.9       </td><td>3.2       </td><td>5.7       </td><td>2.3       </td><td>virginica </td></tr>\n",
       "\t<tr><th scope=row>126</th><td>7.2       </td><td>3.2       </td><td>6.0       </td><td>1.8       </td><td>virginica </td></tr>\n",
       "\t<tr><th scope=row>128</th><td>6.1       </td><td>3.0       </td><td>4.9       </td><td>1.8       </td><td>virginica </td></tr>\n",
       "\t<tr><th scope=row>132</th><td>7.9       </td><td>3.8       </td><td>6.4       </td><td>2.0       </td><td>virginica </td></tr>\n",
       "\t<tr><th scope=row>136</th><td>7.7       </td><td>3.0       </td><td>6.1       </td><td>2.3       </td><td>virginica </td></tr>\n",
       "\t<tr><th scope=row>137</th><td>6.3       </td><td>3.4       </td><td>5.6       </td><td>2.4       </td><td>virginica </td></tr>\n",
       "\t<tr><th scope=row>138</th><td>6.4       </td><td>3.1       </td><td>5.5       </td><td>1.8       </td><td>virginica </td></tr>\n",
       "\t<tr><th scope=row>139</th><td>6.0       </td><td>3.0       </td><td>4.8       </td><td>1.8       </td><td>virginica </td></tr>\n",
       "\t<tr><th scope=row>140</th><td>6.9       </td><td>3.1       </td><td>5.4       </td><td>2.1       </td><td>virginica </td></tr>\n",
       "\t<tr><th scope=row>141</th><td>6.7       </td><td>3.1       </td><td>5.6       </td><td>2.4       </td><td>virginica </td></tr>\n",
       "\t<tr><th scope=row>143</th><td>5.8       </td><td>2.7       </td><td>5.1       </td><td>1.9       </td><td>virginica </td></tr>\n",
       "\t<tr><th scope=row>144</th><td>6.8       </td><td>3.2       </td><td>5.9       </td><td>2.3       </td><td>virginica </td></tr>\n",
       "\t<tr><th scope=row>145</th><td>6.7       </td><td>3.3       </td><td>5.7       </td><td>2.5       </td><td>virginica </td></tr>\n",
       "\t<tr><th scope=row>146</th><td>6.7       </td><td>3.0       </td><td>5.2       </td><td>2.3       </td><td>virginica </td></tr>\n",
       "\t<tr><th scope=row>150</th><td>5.9       </td><td>3.0       </td><td>5.1       </td><td>1.8       </td><td>virginica </td></tr>\n",
       "</tbody>\n",
       "</table>\n",
       "</dd>\n",
       "</dl>\n"
      ],
      "text/latex": [
       "\\begin{description}\n",
       "\\item[\\$`1`] \\begin{tabular}{r|lllll}\n",
       "  & Sepal.Length & Sepal.Width & Petal.Length & Petal.Width & Species\\\\\n",
       "\\hline\n",
       "\t1 & 5.1        & 3.5        & 1.4        & 0.2        & setosa    \\\\\n",
       "\t4 & 4.6        & 3.1        & 1.5        & 0.2        & setosa    \\\\\n",
       "\t8 & 5.0        & 3.4        & 1.5        & 0.2        & setosa    \\\\\n",
       "\t10 & 4.9        & 3.1        & 1.5        & 0.1        & setosa    \\\\\n",
       "\t12 & 4.8        & 3.4        & 1.6        & 0.2        & setosa    \\\\\n",
       "\t13 & 4.8        & 3.0        & 1.4        & 0.1        & setosa    \\\\\n",
       "\t14 & 4.3        & 3.0        & 1.1        & 0.1        & setosa    \\\\\n",
       "\t17 & 5.4        & 3.9        & 1.3        & 0.4        & setosa    \\\\\n",
       "\t18 & 5.1        & 3.5        & 1.4        & 0.3        & setosa    \\\\\n",
       "\t19 & 5.7        & 3.8        & 1.7        & 0.3        & setosa    \\\\\n",
       "\t27 & 5.0        & 3.4        & 1.6        & 0.4        & setosa    \\\\\n",
       "\t28 & 5.2        & 3.5        & 1.5        & 0.2        & setosa    \\\\\n",
       "\t29 & 5.2        & 3.4        & 1.4        & 0.2        & setosa    \\\\\n",
       "\t31 & 4.8        & 3.1        & 1.6        & 0.2        & setosa    \\\\\n",
       "\t34 & 5.5        & 4.2        & 1.4        & 0.2        & setosa    \\\\\n",
       "\t36 & 5.0        & 3.2        & 1.2        & 0.2        & setosa    \\\\\n",
       "\t37 & 5.5        & 3.5        & 1.3        & 0.2        & setosa    \\\\\n",
       "\t38 & 4.9        & 3.6        & 1.4        & 0.1        & setosa    \\\\\n",
       "\t39 & 4.4        & 3.0        & 1.3        & 0.2        & setosa    \\\\\n",
       "\t44 & 5.0        & 3.5        & 1.6        & 0.6        & setosa    \\\\\n",
       "\t45 & 5.1        & 3.8        & 1.9        & 0.4        & setosa    \\\\\n",
       "\t48 & 4.6        & 3.2        & 1.4        & 0.2        & setosa    \\\\\n",
       "\t49 & 5.3        & 3.7        & 1.5        & 0.2        & setosa    \\\\\n",
       "\t50 & 5.0        & 3.3        & 1.4        & 0.2        & setosa    \\\\\n",
       "\t52 & 6.4        & 3.2        & 4.5        & 1.5        & versicolor\\\\\n",
       "\t55 & 6.5        & 2.8        & 4.6        & 1.5        & versicolor\\\\\n",
       "\t56 & 5.7        & 2.8        & 4.5        & 1.3        & versicolor\\\\\n",
       "\t58 & 4.9        & 2.4        & 3.3        & 1.0        & versicolor\\\\\n",
       "\t61 & 5.0        & 2.0        & 3.5        & 1.0        & versicolor\\\\\n",
       "\t63 & 6.0        & 2.2        & 4.0        & 1.0        & versicolor\\\\\n",
       "\t⋮ & ⋮ & ⋮ & ⋮ & ⋮ & ⋮\\\\\n",
       "\t100 & 5.7        & 2.8        & 4.1        & 1.3        & versicolor\\\\\n",
       "\t102 & 5.8        & 2.7        & 5.1        & 1.9        & virginica \\\\\n",
       "\t103 & 7.1        & 3.0        & 5.9        & 2.1        & virginica \\\\\n",
       "\t107 & 4.9        & 2.5        & 4.5        & 1.7        & virginica \\\\\n",
       "\t108 & 7.3        & 2.9        & 6.3        & 1.8        & virginica \\\\\n",
       "\t109 & 6.7        & 2.5        & 5.8        & 1.8        & virginica \\\\\n",
       "\t110 & 7.2        & 3.6        & 6.1        & 2.5        & virginica \\\\\n",
       "\t111 & 6.5        & 3.2        & 5.1        & 2.0        & virginica \\\\\n",
       "\t112 & 6.4        & 2.7        & 5.3        & 1.9        & virginica \\\\\n",
       "\t113 & 6.8        & 3.0        & 5.5        & 2.1        & virginica \\\\\n",
       "\t116 & 6.4        & 3.2        & 5.3        & 2.3        & virginica \\\\\n",
       "\t117 & 6.5        & 3.0        & 5.5        & 1.8        & virginica \\\\\n",
       "\t118 & 7.7        & 3.8        & 6.7        & 2.2        & virginica \\\\\n",
       "\t119 & 7.7        & 2.6        & 6.9        & 2.3        & virginica \\\\\n",
       "\t120 & 6.0        & 2.2        & 5.0        & 1.5        & virginica \\\\\n",
       "\t122 & 5.6        & 2.8        & 4.9        & 2.0        & virginica \\\\\n",
       "\t123 & 7.7        & 2.8        & 6.7        & 2.0        & virginica \\\\\n",
       "\t124 & 6.3        & 2.7        & 4.9        & 1.8        & virginica \\\\\n",
       "\t125 & 6.7        & 3.3        & 5.7        & 2.1        & virginica \\\\\n",
       "\t127 & 6.2        & 2.8        & 4.8        & 1.8        & virginica \\\\\n",
       "\t129 & 6.4        & 2.8        & 5.6        & 2.1        & virginica \\\\\n",
       "\t130 & 7.2        & 3.0        & 5.8        & 1.6        & virginica \\\\\n",
       "\t131 & 7.4        & 2.8        & 6.1        & 1.9        & virginica \\\\\n",
       "\t133 & 6.4        & 2.8        & 5.6        & 2.2        & virginica \\\\\n",
       "\t134 & 6.3        & 2.8        & 5.1        & 1.5        & virginica \\\\\n",
       "\t135 & 6.1        & 2.6        & 5.6        & 1.4        & virginica \\\\\n",
       "\t142 & 6.9        & 3.1        & 5.1        & 2.3        & virginica \\\\\n",
       "\t147 & 6.3        & 2.5        & 5.0        & 1.9        & virginica \\\\\n",
       "\t148 & 6.5        & 3.0        & 5.2        & 2.0        & virginica \\\\\n",
       "\t149 & 6.2        & 3.4        & 5.4        & 2.3        & virginica \\\\\n",
       "\\end{tabular}\n",
       "\n",
       "\\item[\\$`2`] \\begin{tabular}{r|lllll}\n",
       "  & Sepal.Length & Sepal.Width & Petal.Length & Petal.Width & Species\\\\\n",
       "\\hline\n",
       "\t2 & 4.9        & 3.0        & 1.4        & 0.2        & setosa    \\\\\n",
       "\t3 & 4.7        & 3.2        & 1.3        & 0.2        & setosa    \\\\\n",
       "\t5 & 5.0        & 3.6        & 1.4        & 0.2        & setosa    \\\\\n",
       "\t6 & 5.4        & 3.9        & 1.7        & 0.4        & setosa    \\\\\n",
       "\t7 & 4.6        & 3.4        & 1.4        & 0.3        & setosa    \\\\\n",
       "\t9 & 4.4        & 2.9        & 1.4        & 0.2        & setosa    \\\\\n",
       "\t11 & 5.4        & 3.7        & 1.5        & 0.2        & setosa    \\\\\n",
       "\t15 & 5.8        & 4.0        & 1.2        & 0.2        & setosa    \\\\\n",
       "\t16 & 5.7        & 4.4        & 1.5        & 0.4        & setosa    \\\\\n",
       "\t20 & 5.1        & 3.8        & 1.5        & 0.3        & setosa    \\\\\n",
       "\t21 & 5.4        & 3.4        & 1.7        & 0.2        & setosa    \\\\\n",
       "\t22 & 5.1        & 3.7        & 1.5        & 0.4        & setosa    \\\\\n",
       "\t23 & 4.6        & 3.6        & 1.0        & 0.2        & setosa    \\\\\n",
       "\t24 & 5.1        & 3.3        & 1.7        & 0.5        & setosa    \\\\\n",
       "\t25 & 4.8        & 3.4        & 1.9        & 0.2        & setosa    \\\\\n",
       "\t26 & 5.0        & 3.0        & 1.6        & 0.2        & setosa    \\\\\n",
       "\t30 & 4.7        & 3.2        & 1.6        & 0.2        & setosa    \\\\\n",
       "\t32 & 5.4        & 3.4        & 1.5        & 0.4        & setosa    \\\\\n",
       "\t33 & 5.2        & 4.1        & 1.5        & 0.1        & setosa    \\\\\n",
       "\t35 & 4.9        & 3.1        & 1.5        & 0.2        & setosa    \\\\\n",
       "\t40 & 5.1        & 3.4        & 1.5        & 0.2        & setosa    \\\\\n",
       "\t41 & 5.0        & 3.5        & 1.3        & 0.3        & setosa    \\\\\n",
       "\t42 & 4.5        & 2.3        & 1.3        & 0.3        & setosa    \\\\\n",
       "\t43 & 4.4        & 3.2        & 1.3        & 0.2        & setosa    \\\\\n",
       "\t46 & 4.8        & 3.0        & 1.4        & 0.3        & setosa    \\\\\n",
       "\t47 & 5.1        & 3.8        & 1.6        & 0.2        & setosa    \\\\\n",
       "\t51 & 7.0        & 3.2        & 4.7        & 1.4        & versicolor\\\\\n",
       "\t53 & 6.9        & 3.1        & 4.9        & 1.5        & versicolor\\\\\n",
       "\t54 & 5.5        & 2.3        & 4.0        & 1.3        & versicolor\\\\\n",
       "\t57 & 6.3        & 3.3        & 4.7        & 1.6        & versicolor\\\\\n",
       "\t⋮ & ⋮ & ⋮ & ⋮ & ⋮ & ⋮\\\\\n",
       "\t84 & 6.0        & 2.7        & 5.1        & 1.6        & versicolor\\\\\n",
       "\t87 & 6.7        & 3.1        & 4.7        & 1.5        & versicolor\\\\\n",
       "\t88 & 6.3        & 2.3        & 4.4        & 1.3        & versicolor\\\\\n",
       "\t90 & 5.5        & 2.5        & 4.0        & 1.3        & versicolor\\\\\n",
       "\t91 & 5.5        & 2.6        & 4.4        & 1.2        & versicolor\\\\\n",
       "\t94 & 5.0        & 2.3        & 3.3        & 1.0        & versicolor\\\\\n",
       "\t97 & 5.7        & 2.9        & 4.2        & 1.3        & versicolor\\\\\n",
       "\t98 & 6.2        & 2.9        & 4.3        & 1.3        & versicolor\\\\\n",
       "\t99 & 5.1        & 2.5        & 3.0        & 1.1        & versicolor\\\\\n",
       "\t101 & 6.3        & 3.3        & 6.0        & 2.5        & virginica \\\\\n",
       "\t104 & 6.3        & 2.9        & 5.6        & 1.8        & virginica \\\\\n",
       "\t105 & 6.5        & 3.0        & 5.8        & 2.2        & virginica \\\\\n",
       "\t106 & 7.6        & 3.0        & 6.6        & 2.1        & virginica \\\\\n",
       "\t114 & 5.7        & 2.5        & 5.0        & 2.0        & virginica \\\\\n",
       "\t115 & 5.8        & 2.8        & 5.1        & 2.4        & virginica \\\\\n",
       "\t121 & 6.9        & 3.2        & 5.7        & 2.3        & virginica \\\\\n",
       "\t126 & 7.2        & 3.2        & 6.0        & 1.8        & virginica \\\\\n",
       "\t128 & 6.1        & 3.0        & 4.9        & 1.8        & virginica \\\\\n",
       "\t132 & 7.9        & 3.8        & 6.4        & 2.0        & virginica \\\\\n",
       "\t136 & 7.7        & 3.0        & 6.1        & 2.3        & virginica \\\\\n",
       "\t137 & 6.3        & 3.4        & 5.6        & 2.4        & virginica \\\\\n",
       "\t138 & 6.4        & 3.1        & 5.5        & 1.8        & virginica \\\\\n",
       "\t139 & 6.0        & 3.0        & 4.8        & 1.8        & virginica \\\\\n",
       "\t140 & 6.9        & 3.1        & 5.4        & 2.1        & virginica \\\\\n",
       "\t141 & 6.7        & 3.1        & 5.6        & 2.4        & virginica \\\\\n",
       "\t143 & 5.8        & 2.7        & 5.1        & 1.9        & virginica \\\\\n",
       "\t144 & 6.8        & 3.2        & 5.9        & 2.3        & virginica \\\\\n",
       "\t145 & 6.7        & 3.3        & 5.7        & 2.5        & virginica \\\\\n",
       "\t146 & 6.7        & 3.0        & 5.2        & 2.3        & virginica \\\\\n",
       "\t150 & 5.9        & 3.0        & 5.1        & 1.8        & virginica \\\\\n",
       "\\end{tabular}\n",
       "\n",
       "\\end{description}\n"
      ],
      "text/markdown": [
       "$`1`\n",
       ":   \n",
       "| <!--/--> | Sepal.Length | Sepal.Width | Petal.Length | Petal.Width | Species | \n",
       "|---|---|---|---|---|---|---|---|---|---|---|---|---|---|---|---|---|---|---|---|---|---|---|---|---|---|---|---|---|---|---|---|---|---|---|---|---|---|---|---|---|---|---|---|---|---|---|---|---|---|---|---|---|---|---|---|---|---|---|---|---|\n",
       "| 1 | 5.1        | 3.5        | 1.4        | 0.2        | setosa     | \n",
       "| 4 | 4.6        | 3.1        | 1.5        | 0.2        | setosa     | \n",
       "| 8 | 5.0        | 3.4        | 1.5        | 0.2        | setosa     | \n",
       "| 10 | 4.9        | 3.1        | 1.5        | 0.1        | setosa     | \n",
       "| 12 | 4.8        | 3.4        | 1.6        | 0.2        | setosa     | \n",
       "| 13 | 4.8        | 3.0        | 1.4        | 0.1        | setosa     | \n",
       "| 14 | 4.3        | 3.0        | 1.1        | 0.1        | setosa     | \n",
       "| 17 | 5.4        | 3.9        | 1.3        | 0.4        | setosa     | \n",
       "| 18 | 5.1        | 3.5        | 1.4        | 0.3        | setosa     | \n",
       "| 19 | 5.7        | 3.8        | 1.7        | 0.3        | setosa     | \n",
       "| 27 | 5.0        | 3.4        | 1.6        | 0.4        | setosa     | \n",
       "| 28 | 5.2        | 3.5        | 1.5        | 0.2        | setosa     | \n",
       "| 29 | 5.2        | 3.4        | 1.4        | 0.2        | setosa     | \n",
       "| 31 | 4.8        | 3.1        | 1.6        | 0.2        | setosa     | \n",
       "| 34 | 5.5        | 4.2        | 1.4        | 0.2        | setosa     | \n",
       "| 36 | 5.0        | 3.2        | 1.2        | 0.2        | setosa     | \n",
       "| 37 | 5.5        | 3.5        | 1.3        | 0.2        | setosa     | \n",
       "| 38 | 4.9        | 3.6        | 1.4        | 0.1        | setosa     | \n",
       "| 39 | 4.4        | 3.0        | 1.3        | 0.2        | setosa     | \n",
       "| 44 | 5.0        | 3.5        | 1.6        | 0.6        | setosa     | \n",
       "| 45 | 5.1        | 3.8        | 1.9        | 0.4        | setosa     | \n",
       "| 48 | 4.6        | 3.2        | 1.4        | 0.2        | setosa     | \n",
       "| 49 | 5.3        | 3.7        | 1.5        | 0.2        | setosa     | \n",
       "| 50 | 5.0        | 3.3        | 1.4        | 0.2        | setosa     | \n",
       "| 52 | 6.4        | 3.2        | 4.5        | 1.5        | versicolor | \n",
       "| 55 | 6.5        | 2.8        | 4.6        | 1.5        | versicolor | \n",
       "| 56 | 5.7        | 2.8        | 4.5        | 1.3        | versicolor | \n",
       "| 58 | 4.9        | 2.4        | 3.3        | 1.0        | versicolor | \n",
       "| 61 | 5.0        | 2.0        | 3.5        | 1.0        | versicolor | \n",
       "| 63 | 6.0        | 2.2        | 4.0        | 1.0        | versicolor | \n",
       "| ⋮ | ⋮ | ⋮ | ⋮ | ⋮ | ⋮ | \n",
       "| 100 | 5.7        | 2.8        | 4.1        | 1.3        | versicolor | \n",
       "| 102 | 5.8        | 2.7        | 5.1        | 1.9        | virginica  | \n",
       "| 103 | 7.1        | 3.0        | 5.9        | 2.1        | virginica  | \n",
       "| 107 | 4.9        | 2.5        | 4.5        | 1.7        | virginica  | \n",
       "| 108 | 7.3        | 2.9        | 6.3        | 1.8        | virginica  | \n",
       "| 109 | 6.7        | 2.5        | 5.8        | 1.8        | virginica  | \n",
       "| 110 | 7.2        | 3.6        | 6.1        | 2.5        | virginica  | \n",
       "| 111 | 6.5        | 3.2        | 5.1        | 2.0        | virginica  | \n",
       "| 112 | 6.4        | 2.7        | 5.3        | 1.9        | virginica  | \n",
       "| 113 | 6.8        | 3.0        | 5.5        | 2.1        | virginica  | \n",
       "| 116 | 6.4        | 3.2        | 5.3        | 2.3        | virginica  | \n",
       "| 117 | 6.5        | 3.0        | 5.5        | 1.8        | virginica  | \n",
       "| 118 | 7.7        | 3.8        | 6.7        | 2.2        | virginica  | \n",
       "| 119 | 7.7        | 2.6        | 6.9        | 2.3        | virginica  | \n",
       "| 120 | 6.0        | 2.2        | 5.0        | 1.5        | virginica  | \n",
       "| 122 | 5.6        | 2.8        | 4.9        | 2.0        | virginica  | \n",
       "| 123 | 7.7        | 2.8        | 6.7        | 2.0        | virginica  | \n",
       "| 124 | 6.3        | 2.7        | 4.9        | 1.8        | virginica  | \n",
       "| 125 | 6.7        | 3.3        | 5.7        | 2.1        | virginica  | \n",
       "| 127 | 6.2        | 2.8        | 4.8        | 1.8        | virginica  | \n",
       "| 129 | 6.4        | 2.8        | 5.6        | 2.1        | virginica  | \n",
       "| 130 | 7.2        | 3.0        | 5.8        | 1.6        | virginica  | \n",
       "| 131 | 7.4        | 2.8        | 6.1        | 1.9        | virginica  | \n",
       "| 133 | 6.4        | 2.8        | 5.6        | 2.2        | virginica  | \n",
       "| 134 | 6.3        | 2.8        | 5.1        | 1.5        | virginica  | \n",
       "| 135 | 6.1        | 2.6        | 5.6        | 1.4        | virginica  | \n",
       "| 142 | 6.9        | 3.1        | 5.1        | 2.3        | virginica  | \n",
       "| 147 | 6.3        | 2.5        | 5.0        | 1.9        | virginica  | \n",
       "| 148 | 6.5        | 3.0        | 5.2        | 2.0        | virginica  | \n",
       "| 149 | 6.2        | 3.4        | 5.4        | 2.3        | virginica  | \n",
       "\n",
       "\n",
       "\n",
       "$`2`\n",
       ":   \n",
       "| <!--/--> | Sepal.Length | Sepal.Width | Petal.Length | Petal.Width | Species | \n",
       "|---|---|---|---|---|---|---|---|---|---|---|---|---|---|---|---|---|---|---|---|---|---|---|---|---|---|---|---|---|---|---|---|---|---|---|---|---|---|---|---|---|---|---|---|---|---|---|---|---|---|---|---|---|---|---|---|---|---|---|---|---|\n",
       "| 2 | 4.9        | 3.0        | 1.4        | 0.2        | setosa     | \n",
       "| 3 | 4.7        | 3.2        | 1.3        | 0.2        | setosa     | \n",
       "| 5 | 5.0        | 3.6        | 1.4        | 0.2        | setosa     | \n",
       "| 6 | 5.4        | 3.9        | 1.7        | 0.4        | setosa     | \n",
       "| 7 | 4.6        | 3.4        | 1.4        | 0.3        | setosa     | \n",
       "| 9 | 4.4        | 2.9        | 1.4        | 0.2        | setosa     | \n",
       "| 11 | 5.4        | 3.7        | 1.5        | 0.2        | setosa     | \n",
       "| 15 | 5.8        | 4.0        | 1.2        | 0.2        | setosa     | \n",
       "| 16 | 5.7        | 4.4        | 1.5        | 0.4        | setosa     | \n",
       "| 20 | 5.1        | 3.8        | 1.5        | 0.3        | setosa     | \n",
       "| 21 | 5.4        | 3.4        | 1.7        | 0.2        | setosa     | \n",
       "| 22 | 5.1        | 3.7        | 1.5        | 0.4        | setosa     | \n",
       "| 23 | 4.6        | 3.6        | 1.0        | 0.2        | setosa     | \n",
       "| 24 | 5.1        | 3.3        | 1.7        | 0.5        | setosa     | \n",
       "| 25 | 4.8        | 3.4        | 1.9        | 0.2        | setosa     | \n",
       "| 26 | 5.0        | 3.0        | 1.6        | 0.2        | setosa     | \n",
       "| 30 | 4.7        | 3.2        | 1.6        | 0.2        | setosa     | \n",
       "| 32 | 5.4        | 3.4        | 1.5        | 0.4        | setosa     | \n",
       "| 33 | 5.2        | 4.1        | 1.5        | 0.1        | setosa     | \n",
       "| 35 | 4.9        | 3.1        | 1.5        | 0.2        | setosa     | \n",
       "| 40 | 5.1        | 3.4        | 1.5        | 0.2        | setosa     | \n",
       "| 41 | 5.0        | 3.5        | 1.3        | 0.3        | setosa     | \n",
       "| 42 | 4.5        | 2.3        | 1.3        | 0.3        | setosa     | \n",
       "| 43 | 4.4        | 3.2        | 1.3        | 0.2        | setosa     | \n",
       "| 46 | 4.8        | 3.0        | 1.4        | 0.3        | setosa     | \n",
       "| 47 | 5.1        | 3.8        | 1.6        | 0.2        | setosa     | \n",
       "| 51 | 7.0        | 3.2        | 4.7        | 1.4        | versicolor | \n",
       "| 53 | 6.9        | 3.1        | 4.9        | 1.5        | versicolor | \n",
       "| 54 | 5.5        | 2.3        | 4.0        | 1.3        | versicolor | \n",
       "| 57 | 6.3        | 3.3        | 4.7        | 1.6        | versicolor | \n",
       "| ⋮ | ⋮ | ⋮ | ⋮ | ⋮ | ⋮ | \n",
       "| 84 | 6.0        | 2.7        | 5.1        | 1.6        | versicolor | \n",
       "| 87 | 6.7        | 3.1        | 4.7        | 1.5        | versicolor | \n",
       "| 88 | 6.3        | 2.3        | 4.4        | 1.3        | versicolor | \n",
       "| 90 | 5.5        | 2.5        | 4.0        | 1.3        | versicolor | \n",
       "| 91 | 5.5        | 2.6        | 4.4        | 1.2        | versicolor | \n",
       "| 94 | 5.0        | 2.3        | 3.3        | 1.0        | versicolor | \n",
       "| 97 | 5.7        | 2.9        | 4.2        | 1.3        | versicolor | \n",
       "| 98 | 6.2        | 2.9        | 4.3        | 1.3        | versicolor | \n",
       "| 99 | 5.1        | 2.5        | 3.0        | 1.1        | versicolor | \n",
       "| 101 | 6.3        | 3.3        | 6.0        | 2.5        | virginica  | \n",
       "| 104 | 6.3        | 2.9        | 5.6        | 1.8        | virginica  | \n",
       "| 105 | 6.5        | 3.0        | 5.8        | 2.2        | virginica  | \n",
       "| 106 | 7.6        | 3.0        | 6.6        | 2.1        | virginica  | \n",
       "| 114 | 5.7        | 2.5        | 5.0        | 2.0        | virginica  | \n",
       "| 115 | 5.8        | 2.8        | 5.1        | 2.4        | virginica  | \n",
       "| 121 | 6.9        | 3.2        | 5.7        | 2.3        | virginica  | \n",
       "| 126 | 7.2        | 3.2        | 6.0        | 1.8        | virginica  | \n",
       "| 128 | 6.1        | 3.0        | 4.9        | 1.8        | virginica  | \n",
       "| 132 | 7.9        | 3.8        | 6.4        | 2.0        | virginica  | \n",
       "| 136 | 7.7        | 3.0        | 6.1        | 2.3        | virginica  | \n",
       "| 137 | 6.3        | 3.4        | 5.6        | 2.4        | virginica  | \n",
       "| 138 | 6.4        | 3.1        | 5.5        | 1.8        | virginica  | \n",
       "| 139 | 6.0        | 3.0        | 4.8        | 1.8        | virginica  | \n",
       "| 140 | 6.9        | 3.1        | 5.4        | 2.1        | virginica  | \n",
       "| 141 | 6.7        | 3.1        | 5.6        | 2.4        | virginica  | \n",
       "| 143 | 5.8        | 2.7        | 5.1        | 1.9        | virginica  | \n",
       "| 144 | 6.8        | 3.2        | 5.9        | 2.3        | virginica  | \n",
       "| 145 | 6.7        | 3.3        | 5.7        | 2.5        | virginica  | \n",
       "| 146 | 6.7        | 3.0        | 5.2        | 2.3        | virginica  | \n",
       "| 150 | 5.9        | 3.0        | 5.1        | 1.8        | virginica  | \n",
       "\n",
       "\n",
       "\n",
       "\n",
       "\n"
      ],
      "text/plain": [
       "$`1`\n",
       "    Sepal.Length Sepal.Width Petal.Length Petal.Width    Species\n",
       "1            5.1         3.5          1.4         0.2     setosa\n",
       "4            4.6         3.1          1.5         0.2     setosa\n",
       "8            5.0         3.4          1.5         0.2     setosa\n",
       "10           4.9         3.1          1.5         0.1     setosa\n",
       "12           4.8         3.4          1.6         0.2     setosa\n",
       "13           4.8         3.0          1.4         0.1     setosa\n",
       "14           4.3         3.0          1.1         0.1     setosa\n",
       "17           5.4         3.9          1.3         0.4     setosa\n",
       "18           5.1         3.5          1.4         0.3     setosa\n",
       "19           5.7         3.8          1.7         0.3     setosa\n",
       "27           5.0         3.4          1.6         0.4     setosa\n",
       "28           5.2         3.5          1.5         0.2     setosa\n",
       "29           5.2         3.4          1.4         0.2     setosa\n",
       "31           4.8         3.1          1.6         0.2     setosa\n",
       "34           5.5         4.2          1.4         0.2     setosa\n",
       "36           5.0         3.2          1.2         0.2     setosa\n",
       "37           5.5         3.5          1.3         0.2     setosa\n",
       "38           4.9         3.6          1.4         0.1     setosa\n",
       "39           4.4         3.0          1.3         0.2     setosa\n",
       "44           5.0         3.5          1.6         0.6     setosa\n",
       "45           5.1         3.8          1.9         0.4     setosa\n",
       "48           4.6         3.2          1.4         0.2     setosa\n",
       "49           5.3         3.7          1.5         0.2     setosa\n",
       "50           5.0         3.3          1.4         0.2     setosa\n",
       "52           6.4         3.2          4.5         1.5 versicolor\n",
       "55           6.5         2.8          4.6         1.5 versicolor\n",
       "56           5.7         2.8          4.5         1.3 versicolor\n",
       "58           4.9         2.4          3.3         1.0 versicolor\n",
       "61           5.0         2.0          3.5         1.0 versicolor\n",
       "63           6.0         2.2          4.0         1.0 versicolor\n",
       "65           5.6         2.9          3.6         1.3 versicolor\n",
       "68           5.8         2.7          4.1         1.0 versicolor\n",
       "69           6.2         2.2          4.5         1.5 versicolor\n",
       "71           5.9         3.2          4.8         1.8 versicolor\n",
       "76           6.6         3.0          4.4         1.4 versicolor\n",
       "77           6.8         2.8          4.8         1.4 versicolor\n",
       "79           6.0         2.9          4.5         1.5 versicolor\n",
       "83           5.8         2.7          3.9         1.2 versicolor\n",
       "85           5.4         3.0          4.5         1.5 versicolor\n",
       "86           6.0         3.4          4.5         1.6 versicolor\n",
       "89           5.6         3.0          4.1         1.3 versicolor\n",
       "92           6.1         3.0          4.6         1.4 versicolor\n",
       "93           5.8         2.6          4.0         1.2 versicolor\n",
       "95           5.6         2.7          4.2         1.3 versicolor\n",
       "96           5.7         3.0          4.2         1.2 versicolor\n",
       "100          5.7         2.8          4.1         1.3 versicolor\n",
       "102          5.8         2.7          5.1         1.9  virginica\n",
       "103          7.1         3.0          5.9         2.1  virginica\n",
       "107          4.9         2.5          4.5         1.7  virginica\n",
       "108          7.3         2.9          6.3         1.8  virginica\n",
       "109          6.7         2.5          5.8         1.8  virginica\n",
       "110          7.2         3.6          6.1         2.5  virginica\n",
       "111          6.5         3.2          5.1         2.0  virginica\n",
       "112          6.4         2.7          5.3         1.9  virginica\n",
       "113          6.8         3.0          5.5         2.1  virginica\n",
       "116          6.4         3.2          5.3         2.3  virginica\n",
       "117          6.5         3.0          5.5         1.8  virginica\n",
       "118          7.7         3.8          6.7         2.2  virginica\n",
       "119          7.7         2.6          6.9         2.3  virginica\n",
       "120          6.0         2.2          5.0         1.5  virginica\n",
       "122          5.6         2.8          4.9         2.0  virginica\n",
       "123          7.7         2.8          6.7         2.0  virginica\n",
       "124          6.3         2.7          4.9         1.8  virginica\n",
       "125          6.7         3.3          5.7         2.1  virginica\n",
       "127          6.2         2.8          4.8         1.8  virginica\n",
       "129          6.4         2.8          5.6         2.1  virginica\n",
       "130          7.2         3.0          5.8         1.6  virginica\n",
       "131          7.4         2.8          6.1         1.9  virginica\n",
       "133          6.4         2.8          5.6         2.2  virginica\n",
       "134          6.3         2.8          5.1         1.5  virginica\n",
       "135          6.1         2.6          5.6         1.4  virginica\n",
       "142          6.9         3.1          5.1         2.3  virginica\n",
       "147          6.3         2.5          5.0         1.9  virginica\n",
       "148          6.5         3.0          5.2         2.0  virginica\n",
       "149          6.2         3.4          5.4         2.3  virginica\n",
       "\n",
       "$`2`\n",
       "    Sepal.Length Sepal.Width Petal.Length Petal.Width    Species\n",
       "2            4.9         3.0          1.4         0.2     setosa\n",
       "3            4.7         3.2          1.3         0.2     setosa\n",
       "5            5.0         3.6          1.4         0.2     setosa\n",
       "6            5.4         3.9          1.7         0.4     setosa\n",
       "7            4.6         3.4          1.4         0.3     setosa\n",
       "9            4.4         2.9          1.4         0.2     setosa\n",
       "11           5.4         3.7          1.5         0.2     setosa\n",
       "15           5.8         4.0          1.2         0.2     setosa\n",
       "16           5.7         4.4          1.5         0.4     setosa\n",
       "20           5.1         3.8          1.5         0.3     setosa\n",
       "21           5.4         3.4          1.7         0.2     setosa\n",
       "22           5.1         3.7          1.5         0.4     setosa\n",
       "23           4.6         3.6          1.0         0.2     setosa\n",
       "24           5.1         3.3          1.7         0.5     setosa\n",
       "25           4.8         3.4          1.9         0.2     setosa\n",
       "26           5.0         3.0          1.6         0.2     setosa\n",
       "30           4.7         3.2          1.6         0.2     setosa\n",
       "32           5.4         3.4          1.5         0.4     setosa\n",
       "33           5.2         4.1          1.5         0.1     setosa\n",
       "35           4.9         3.1          1.5         0.2     setosa\n",
       "40           5.1         3.4          1.5         0.2     setosa\n",
       "41           5.0         3.5          1.3         0.3     setosa\n",
       "42           4.5         2.3          1.3         0.3     setosa\n",
       "43           4.4         3.2          1.3         0.2     setosa\n",
       "46           4.8         3.0          1.4         0.3     setosa\n",
       "47           5.1         3.8          1.6         0.2     setosa\n",
       "51           7.0         3.2          4.7         1.4 versicolor\n",
       "53           6.9         3.1          4.9         1.5 versicolor\n",
       "54           5.5         2.3          4.0         1.3 versicolor\n",
       "57           6.3         3.3          4.7         1.6 versicolor\n",
       "59           6.6         2.9          4.6         1.3 versicolor\n",
       "60           5.2         2.7          3.9         1.4 versicolor\n",
       "62           5.9         3.0          4.2         1.5 versicolor\n",
       "64           6.1         2.9          4.7         1.4 versicolor\n",
       "66           6.7         3.1          4.4         1.4 versicolor\n",
       "67           5.6         3.0          4.5         1.5 versicolor\n",
       "70           5.6         2.5          3.9         1.1 versicolor\n",
       "72           6.1         2.8          4.0         1.3 versicolor\n",
       "73           6.3         2.5          4.9         1.5 versicolor\n",
       "74           6.1         2.8          4.7         1.2 versicolor\n",
       "75           6.4         2.9          4.3         1.3 versicolor\n",
       "78           6.7         3.0          5.0         1.7 versicolor\n",
       "80           5.7         2.6          3.5         1.0 versicolor\n",
       "81           5.5         2.4          3.8         1.1 versicolor\n",
       "82           5.5         2.4          3.7         1.0 versicolor\n",
       "84           6.0         2.7          5.1         1.6 versicolor\n",
       "87           6.7         3.1          4.7         1.5 versicolor\n",
       "88           6.3         2.3          4.4         1.3 versicolor\n",
       "90           5.5         2.5          4.0         1.3 versicolor\n",
       "91           5.5         2.6          4.4         1.2 versicolor\n",
       "94           5.0         2.3          3.3         1.0 versicolor\n",
       "97           5.7         2.9          4.2         1.3 versicolor\n",
       "98           6.2         2.9          4.3         1.3 versicolor\n",
       "99           5.1         2.5          3.0         1.1 versicolor\n",
       "101          6.3         3.3          6.0         2.5  virginica\n",
       "104          6.3         2.9          5.6         1.8  virginica\n",
       "105          6.5         3.0          5.8         2.2  virginica\n",
       "106          7.6         3.0          6.6         2.1  virginica\n",
       "114          5.7         2.5          5.0         2.0  virginica\n",
       "115          5.8         2.8          5.1         2.4  virginica\n",
       "121          6.9         3.2          5.7         2.3  virginica\n",
       "126          7.2         3.2          6.0         1.8  virginica\n",
       "128          6.1         3.0          4.9         1.8  virginica\n",
       "132          7.9         3.8          6.4         2.0  virginica\n",
       "136          7.7         3.0          6.1         2.3  virginica\n",
       "137          6.3         3.4          5.6         2.4  virginica\n",
       "138          6.4         3.1          5.5         1.8  virginica\n",
       "139          6.0         3.0          4.8         1.8  virginica\n",
       "140          6.9         3.1          5.4         2.1  virginica\n",
       "141          6.7         3.1          5.6         2.4  virginica\n",
       "143          5.8         2.7          5.1         1.9  virginica\n",
       "144          6.8         3.2          5.9         2.3  virginica\n",
       "145          6.7         3.3          5.7         2.5  virginica\n",
       "146          6.7         3.0          5.2         2.3  virginica\n",
       "150          5.9         3.0          5.1         1.8  virginica\n"
      ]
     },
     "metadata": {},
     "output_type": "display_data"
    }
   ],
   "source": [
    "data <- iris\n",
    "split(data, sample(rep(1:2, 75))) # rep(1:2, 75) 產生 1,2 交錯的向量，但加了前面的 sample 則是隨機抽取"
   ]
  },
  {
   "cell_type": "code",
   "execution_count": 40,
   "metadata": {},
   "outputs": [
    {
     "data": {
      "text/html": [
       "<table>\n",
       "<thead><tr><th></th><th scope=col>Sepal.Length</th><th scope=col>Sepal.Width</th><th scope=col>Petal.Length</th><th scope=col>Petal.Width</th><th scope=col>Species</th></tr></thead>\n",
       "<tbody>\n",
       "\t<tr><th scope=row>1</th><td>5.1       </td><td>3.5       </td><td>1.4       </td><td>0.2       </td><td>setosa    </td></tr>\n",
       "\t<tr><th scope=row>6</th><td>5.4       </td><td>3.9       </td><td>1.7       </td><td>0.4       </td><td>setosa    </td></tr>\n",
       "\t<tr><th scope=row>11</th><td>5.4       </td><td>3.7       </td><td>1.5       </td><td>0.2       </td><td>setosa    </td></tr>\n",
       "\t<tr><th scope=row>15</th><td>5.8       </td><td>4.0       </td><td>1.2       </td><td>0.2       </td><td>setosa    </td></tr>\n",
       "\t<tr><th scope=row>16</th><td>5.7       </td><td>4.4       </td><td>1.5       </td><td>0.4       </td><td>setosa    </td></tr>\n",
       "\t<tr><th scope=row>17</th><td>5.4       </td><td>3.9       </td><td>1.3       </td><td>0.4       </td><td>setosa    </td></tr>\n",
       "\t<tr><th scope=row>18</th><td>5.1       </td><td>3.5       </td><td>1.4       </td><td>0.3       </td><td>setosa    </td></tr>\n",
       "\t<tr><th scope=row>19</th><td>5.7       </td><td>3.8       </td><td>1.7       </td><td>0.3       </td><td>setosa    </td></tr>\n",
       "\t<tr><th scope=row>20</th><td>5.1       </td><td>3.8       </td><td>1.5       </td><td>0.3       </td><td>setosa    </td></tr>\n",
       "\t<tr><th scope=row>21</th><td>5.4       </td><td>3.4       </td><td>1.7       </td><td>0.2       </td><td>setosa    </td></tr>\n",
       "\t<tr><th scope=row>22</th><td>5.1       </td><td>3.7       </td><td>1.5       </td><td>0.4       </td><td>setosa    </td></tr>\n",
       "\t<tr><th scope=row>24</th><td>5.1       </td><td>3.3       </td><td>1.7       </td><td>0.5       </td><td>setosa    </td></tr>\n",
       "\t<tr><th scope=row>28</th><td>5.2       </td><td>3.5       </td><td>1.5       </td><td>0.2       </td><td>setosa    </td></tr>\n",
       "\t<tr><th scope=row>29</th><td>5.2       </td><td>3.4       </td><td>1.4       </td><td>0.2       </td><td>setosa    </td></tr>\n",
       "\t<tr><th scope=row>32</th><td>5.4       </td><td>3.4       </td><td>1.5       </td><td>0.4       </td><td>setosa    </td></tr>\n",
       "\t<tr><th scope=row>33</th><td>5.2       </td><td>4.1       </td><td>1.5       </td><td>0.1       </td><td>setosa    </td></tr>\n",
       "\t<tr><th scope=row>34</th><td>5.5       </td><td>4.2       </td><td>1.4       </td><td>0.2       </td><td>setosa    </td></tr>\n",
       "\t<tr><th scope=row>37</th><td>5.5       </td><td>3.5       </td><td>1.3       </td><td>0.2       </td><td>setosa    </td></tr>\n",
       "\t<tr><th scope=row>40</th><td>5.1       </td><td>3.4       </td><td>1.5       </td><td>0.2       </td><td>setosa    </td></tr>\n",
       "\t<tr><th scope=row>45</th><td>5.1       </td><td>3.8       </td><td>1.9       </td><td>0.4       </td><td>setosa    </td></tr>\n",
       "\t<tr><th scope=row>47</th><td>5.1       </td><td>3.8       </td><td>1.6       </td><td>0.2       </td><td>setosa    </td></tr>\n",
       "\t<tr><th scope=row>49</th><td>5.3       </td><td>3.7       </td><td>1.5       </td><td>0.2       </td><td>setosa    </td></tr>\n",
       "\t<tr><th scope=row>51</th><td>7.0       </td><td>3.2       </td><td>4.7       </td><td>1.4       </td><td>versicolor</td></tr>\n",
       "\t<tr><th scope=row>52</th><td>6.4       </td><td>3.2       </td><td>4.5       </td><td>1.5       </td><td>versicolor</td></tr>\n",
       "\t<tr><th scope=row>53</th><td>6.9       </td><td>3.1       </td><td>4.9       </td><td>1.5       </td><td>versicolor</td></tr>\n",
       "\t<tr><th scope=row>54</th><td>5.5       </td><td>2.3       </td><td>4.0       </td><td>1.3       </td><td>versicolor</td></tr>\n",
       "\t<tr><th scope=row>55</th><td>6.5       </td><td>2.8       </td><td>4.6       </td><td>1.5       </td><td>versicolor</td></tr>\n",
       "\t<tr><th scope=row>56</th><td>5.7       </td><td>2.8       </td><td>4.5       </td><td>1.3       </td><td>versicolor</td></tr>\n",
       "\t<tr><th scope=row>57</th><td>6.3       </td><td>3.3       </td><td>4.7       </td><td>1.6       </td><td>versicolor</td></tr>\n",
       "\t<tr><th scope=row>59</th><td>6.6       </td><td>2.9       </td><td>4.6       </td><td>1.3       </td><td>versicolor</td></tr>\n",
       "\t<tr><th scope=row>⋮</th><td>⋮</td><td>⋮</td><td>⋮</td><td>⋮</td><td>⋮</td></tr>\n",
       "\t<tr><th scope=row>121</th><td>6.9      </td><td>3.2      </td><td>5.7      </td><td>2.3      </td><td>virginica</td></tr>\n",
       "\t<tr><th scope=row>122</th><td>5.6      </td><td>2.8      </td><td>4.9      </td><td>2.0      </td><td>virginica</td></tr>\n",
       "\t<tr><th scope=row>123</th><td>7.7      </td><td>2.8      </td><td>6.7      </td><td>2.0      </td><td>virginica</td></tr>\n",
       "\t<tr><th scope=row>124</th><td>6.3      </td><td>2.7      </td><td>4.9      </td><td>1.8      </td><td>virginica</td></tr>\n",
       "\t<tr><th scope=row>125</th><td>6.7      </td><td>3.3      </td><td>5.7      </td><td>2.1      </td><td>virginica</td></tr>\n",
       "\t<tr><th scope=row>126</th><td>7.2      </td><td>3.2      </td><td>6.0      </td><td>1.8      </td><td>virginica</td></tr>\n",
       "\t<tr><th scope=row>127</th><td>6.2      </td><td>2.8      </td><td>4.8      </td><td>1.8      </td><td>virginica</td></tr>\n",
       "\t<tr><th scope=row>128</th><td>6.1      </td><td>3.0      </td><td>4.9      </td><td>1.8      </td><td>virginica</td></tr>\n",
       "\t<tr><th scope=row>129</th><td>6.4      </td><td>2.8      </td><td>5.6      </td><td>2.1      </td><td>virginica</td></tr>\n",
       "\t<tr><th scope=row>130</th><td>7.2      </td><td>3.0      </td><td>5.8      </td><td>1.6      </td><td>virginica</td></tr>\n",
       "\t<tr><th scope=row>131</th><td>7.4      </td><td>2.8      </td><td>6.1      </td><td>1.9      </td><td>virginica</td></tr>\n",
       "\t<tr><th scope=row>132</th><td>7.9      </td><td>3.8      </td><td>6.4      </td><td>2.0      </td><td>virginica</td></tr>\n",
       "\t<tr><th scope=row>133</th><td>6.4      </td><td>2.8      </td><td>5.6      </td><td>2.2      </td><td>virginica</td></tr>\n",
       "\t<tr><th scope=row>134</th><td>6.3      </td><td>2.8      </td><td>5.1      </td><td>1.5      </td><td>virginica</td></tr>\n",
       "\t<tr><th scope=row>135</th><td>6.1      </td><td>2.6      </td><td>5.6      </td><td>1.4      </td><td>virginica</td></tr>\n",
       "\t<tr><th scope=row>136</th><td>7.7      </td><td>3.0      </td><td>6.1      </td><td>2.3      </td><td>virginica</td></tr>\n",
       "\t<tr><th scope=row>137</th><td>6.3      </td><td>3.4      </td><td>5.6      </td><td>2.4      </td><td>virginica</td></tr>\n",
       "\t<tr><th scope=row>138</th><td>6.4      </td><td>3.1      </td><td>5.5      </td><td>1.8      </td><td>virginica</td></tr>\n",
       "\t<tr><th scope=row>139</th><td>6.0      </td><td>3.0      </td><td>4.8      </td><td>1.8      </td><td>virginica</td></tr>\n",
       "\t<tr><th scope=row>140</th><td>6.9      </td><td>3.1      </td><td>5.4      </td><td>2.1      </td><td>virginica</td></tr>\n",
       "\t<tr><th scope=row>141</th><td>6.7      </td><td>3.1      </td><td>5.6      </td><td>2.4      </td><td>virginica</td></tr>\n",
       "\t<tr><th scope=row>142</th><td>6.9      </td><td>3.1      </td><td>5.1      </td><td>2.3      </td><td>virginica</td></tr>\n",
       "\t<tr><th scope=row>143</th><td>5.8      </td><td>2.7      </td><td>5.1      </td><td>1.9      </td><td>virginica</td></tr>\n",
       "\t<tr><th scope=row>144</th><td>6.8      </td><td>3.2      </td><td>5.9      </td><td>2.3      </td><td>virginica</td></tr>\n",
       "\t<tr><th scope=row>145</th><td>6.7      </td><td>3.3      </td><td>5.7      </td><td>2.5      </td><td>virginica</td></tr>\n",
       "\t<tr><th scope=row>146</th><td>6.7      </td><td>3.0      </td><td>5.2      </td><td>2.3      </td><td>virginica</td></tr>\n",
       "\t<tr><th scope=row>147</th><td>6.3      </td><td>2.5      </td><td>5.0      </td><td>1.9      </td><td>virginica</td></tr>\n",
       "\t<tr><th scope=row>148</th><td>6.5      </td><td>3.0      </td><td>5.2      </td><td>2.0      </td><td>virginica</td></tr>\n",
       "\t<tr><th scope=row>149</th><td>6.2      </td><td>3.4      </td><td>5.4      </td><td>2.3      </td><td>virginica</td></tr>\n",
       "\t<tr><th scope=row>150</th><td>5.9      </td><td>3.0      </td><td>5.1      </td><td>1.8      </td><td>virginica</td></tr>\n",
       "</tbody>\n",
       "</table>\n"
      ],
      "text/latex": [
       "\\begin{tabular}{r|lllll}\n",
       "  & Sepal.Length & Sepal.Width & Petal.Length & Petal.Width & Species\\\\\n",
       "\\hline\n",
       "\t1 & 5.1        & 3.5        & 1.4        & 0.2        & setosa    \\\\\n",
       "\t6 & 5.4        & 3.9        & 1.7        & 0.4        & setosa    \\\\\n",
       "\t11 & 5.4        & 3.7        & 1.5        & 0.2        & setosa    \\\\\n",
       "\t15 & 5.8        & 4.0        & 1.2        & 0.2        & setosa    \\\\\n",
       "\t16 & 5.7        & 4.4        & 1.5        & 0.4        & setosa    \\\\\n",
       "\t17 & 5.4        & 3.9        & 1.3        & 0.4        & setosa    \\\\\n",
       "\t18 & 5.1        & 3.5        & 1.4        & 0.3        & setosa    \\\\\n",
       "\t19 & 5.7        & 3.8        & 1.7        & 0.3        & setosa    \\\\\n",
       "\t20 & 5.1        & 3.8        & 1.5        & 0.3        & setosa    \\\\\n",
       "\t21 & 5.4        & 3.4        & 1.7        & 0.2        & setosa    \\\\\n",
       "\t22 & 5.1        & 3.7        & 1.5        & 0.4        & setosa    \\\\\n",
       "\t24 & 5.1        & 3.3        & 1.7        & 0.5        & setosa    \\\\\n",
       "\t28 & 5.2        & 3.5        & 1.5        & 0.2        & setosa    \\\\\n",
       "\t29 & 5.2        & 3.4        & 1.4        & 0.2        & setosa    \\\\\n",
       "\t32 & 5.4        & 3.4        & 1.5        & 0.4        & setosa    \\\\\n",
       "\t33 & 5.2        & 4.1        & 1.5        & 0.1        & setosa    \\\\\n",
       "\t34 & 5.5        & 4.2        & 1.4        & 0.2        & setosa    \\\\\n",
       "\t37 & 5.5        & 3.5        & 1.3        & 0.2        & setosa    \\\\\n",
       "\t40 & 5.1        & 3.4        & 1.5        & 0.2        & setosa    \\\\\n",
       "\t45 & 5.1        & 3.8        & 1.9        & 0.4        & setosa    \\\\\n",
       "\t47 & 5.1        & 3.8        & 1.6        & 0.2        & setosa    \\\\\n",
       "\t49 & 5.3        & 3.7        & 1.5        & 0.2        & setosa    \\\\\n",
       "\t51 & 7.0        & 3.2        & 4.7        & 1.4        & versicolor\\\\\n",
       "\t52 & 6.4        & 3.2        & 4.5        & 1.5        & versicolor\\\\\n",
       "\t53 & 6.9        & 3.1        & 4.9        & 1.5        & versicolor\\\\\n",
       "\t54 & 5.5        & 2.3        & 4.0        & 1.3        & versicolor\\\\\n",
       "\t55 & 6.5        & 2.8        & 4.6        & 1.5        & versicolor\\\\\n",
       "\t56 & 5.7        & 2.8        & 4.5        & 1.3        & versicolor\\\\\n",
       "\t57 & 6.3        & 3.3        & 4.7        & 1.6        & versicolor\\\\\n",
       "\t59 & 6.6        & 2.9        & 4.6        & 1.3        & versicolor\\\\\n",
       "\t⋮ & ⋮ & ⋮ & ⋮ & ⋮ & ⋮\\\\\n",
       "\t121 & 6.9       & 3.2       & 5.7       & 2.3       & virginica\\\\\n",
       "\t122 & 5.6       & 2.8       & 4.9       & 2.0       & virginica\\\\\n",
       "\t123 & 7.7       & 2.8       & 6.7       & 2.0       & virginica\\\\\n",
       "\t124 & 6.3       & 2.7       & 4.9       & 1.8       & virginica\\\\\n",
       "\t125 & 6.7       & 3.3       & 5.7       & 2.1       & virginica\\\\\n",
       "\t126 & 7.2       & 3.2       & 6.0       & 1.8       & virginica\\\\\n",
       "\t127 & 6.2       & 2.8       & 4.8       & 1.8       & virginica\\\\\n",
       "\t128 & 6.1       & 3.0       & 4.9       & 1.8       & virginica\\\\\n",
       "\t129 & 6.4       & 2.8       & 5.6       & 2.1       & virginica\\\\\n",
       "\t130 & 7.2       & 3.0       & 5.8       & 1.6       & virginica\\\\\n",
       "\t131 & 7.4       & 2.8       & 6.1       & 1.9       & virginica\\\\\n",
       "\t132 & 7.9       & 3.8       & 6.4       & 2.0       & virginica\\\\\n",
       "\t133 & 6.4       & 2.8       & 5.6       & 2.2       & virginica\\\\\n",
       "\t134 & 6.3       & 2.8       & 5.1       & 1.5       & virginica\\\\\n",
       "\t135 & 6.1       & 2.6       & 5.6       & 1.4       & virginica\\\\\n",
       "\t136 & 7.7       & 3.0       & 6.1       & 2.3       & virginica\\\\\n",
       "\t137 & 6.3       & 3.4       & 5.6       & 2.4       & virginica\\\\\n",
       "\t138 & 6.4       & 3.1       & 5.5       & 1.8       & virginica\\\\\n",
       "\t139 & 6.0       & 3.0       & 4.8       & 1.8       & virginica\\\\\n",
       "\t140 & 6.9       & 3.1       & 5.4       & 2.1       & virginica\\\\\n",
       "\t141 & 6.7       & 3.1       & 5.6       & 2.4       & virginica\\\\\n",
       "\t142 & 6.9       & 3.1       & 5.1       & 2.3       & virginica\\\\\n",
       "\t143 & 5.8       & 2.7       & 5.1       & 1.9       & virginica\\\\\n",
       "\t144 & 6.8       & 3.2       & 5.9       & 2.3       & virginica\\\\\n",
       "\t145 & 6.7       & 3.3       & 5.7       & 2.5       & virginica\\\\\n",
       "\t146 & 6.7       & 3.0       & 5.2       & 2.3       & virginica\\\\\n",
       "\t147 & 6.3       & 2.5       & 5.0       & 1.9       & virginica\\\\\n",
       "\t148 & 6.5       & 3.0       & 5.2       & 2.0       & virginica\\\\\n",
       "\t149 & 6.2       & 3.4       & 5.4       & 2.3       & virginica\\\\\n",
       "\t150 & 5.9       & 3.0       & 5.1       & 1.8       & virginica\\\\\n",
       "\\end{tabular}\n"
      ],
      "text/markdown": [
       "\n",
       "| <!--/--> | Sepal.Length | Sepal.Width | Petal.Length | Petal.Width | Species | \n",
       "|---|---|---|---|---|---|---|---|---|---|---|---|---|---|---|---|---|---|---|---|---|---|---|---|---|---|---|---|---|---|---|---|---|---|---|---|---|---|---|---|---|---|---|---|---|---|---|---|---|---|---|---|---|---|---|---|---|---|---|---|---|\n",
       "| 1 | 5.1        | 3.5        | 1.4        | 0.2        | setosa     | \n",
       "| 6 | 5.4        | 3.9        | 1.7        | 0.4        | setosa     | \n",
       "| 11 | 5.4        | 3.7        | 1.5        | 0.2        | setosa     | \n",
       "| 15 | 5.8        | 4.0        | 1.2        | 0.2        | setosa     | \n",
       "| 16 | 5.7        | 4.4        | 1.5        | 0.4        | setosa     | \n",
       "| 17 | 5.4        | 3.9        | 1.3        | 0.4        | setosa     | \n",
       "| 18 | 5.1        | 3.5        | 1.4        | 0.3        | setosa     | \n",
       "| 19 | 5.7        | 3.8        | 1.7        | 0.3        | setosa     | \n",
       "| 20 | 5.1        | 3.8        | 1.5        | 0.3        | setosa     | \n",
       "| 21 | 5.4        | 3.4        | 1.7        | 0.2        | setosa     | \n",
       "| 22 | 5.1        | 3.7        | 1.5        | 0.4        | setosa     | \n",
       "| 24 | 5.1        | 3.3        | 1.7        | 0.5        | setosa     | \n",
       "| 28 | 5.2        | 3.5        | 1.5        | 0.2        | setosa     | \n",
       "| 29 | 5.2        | 3.4        | 1.4        | 0.2        | setosa     | \n",
       "| 32 | 5.4        | 3.4        | 1.5        | 0.4        | setosa     | \n",
       "| 33 | 5.2        | 4.1        | 1.5        | 0.1        | setosa     | \n",
       "| 34 | 5.5        | 4.2        | 1.4        | 0.2        | setosa     | \n",
       "| 37 | 5.5        | 3.5        | 1.3        | 0.2        | setosa     | \n",
       "| 40 | 5.1        | 3.4        | 1.5        | 0.2        | setosa     | \n",
       "| 45 | 5.1        | 3.8        | 1.9        | 0.4        | setosa     | \n",
       "| 47 | 5.1        | 3.8        | 1.6        | 0.2        | setosa     | \n",
       "| 49 | 5.3        | 3.7        | 1.5        | 0.2        | setosa     | \n",
       "| 51 | 7.0        | 3.2        | 4.7        | 1.4        | versicolor | \n",
       "| 52 | 6.4        | 3.2        | 4.5        | 1.5        | versicolor | \n",
       "| 53 | 6.9        | 3.1        | 4.9        | 1.5        | versicolor | \n",
       "| 54 | 5.5        | 2.3        | 4.0        | 1.3        | versicolor | \n",
       "| 55 | 6.5        | 2.8        | 4.6        | 1.5        | versicolor | \n",
       "| 56 | 5.7        | 2.8        | 4.5        | 1.3        | versicolor | \n",
       "| 57 | 6.3        | 3.3        | 4.7        | 1.6        | versicolor | \n",
       "| 59 | 6.6        | 2.9        | 4.6        | 1.3        | versicolor | \n",
       "| ⋮ | ⋮ | ⋮ | ⋮ | ⋮ | ⋮ | \n",
       "| 121 | 6.9       | 3.2       | 5.7       | 2.3       | virginica | \n",
       "| 122 | 5.6       | 2.8       | 4.9       | 2.0       | virginica | \n",
       "| 123 | 7.7       | 2.8       | 6.7       | 2.0       | virginica | \n",
       "| 124 | 6.3       | 2.7       | 4.9       | 1.8       | virginica | \n",
       "| 125 | 6.7       | 3.3       | 5.7       | 2.1       | virginica | \n",
       "| 126 | 7.2       | 3.2       | 6.0       | 1.8       | virginica | \n",
       "| 127 | 6.2       | 2.8       | 4.8       | 1.8       | virginica | \n",
       "| 128 | 6.1       | 3.0       | 4.9       | 1.8       | virginica | \n",
       "| 129 | 6.4       | 2.8       | 5.6       | 2.1       | virginica | \n",
       "| 130 | 7.2       | 3.0       | 5.8       | 1.6       | virginica | \n",
       "| 131 | 7.4       | 2.8       | 6.1       | 1.9       | virginica | \n",
       "| 132 | 7.9       | 3.8       | 6.4       | 2.0       | virginica | \n",
       "| 133 | 6.4       | 2.8       | 5.6       | 2.2       | virginica | \n",
       "| 134 | 6.3       | 2.8       | 5.1       | 1.5       | virginica | \n",
       "| 135 | 6.1       | 2.6       | 5.6       | 1.4       | virginica | \n",
       "| 136 | 7.7       | 3.0       | 6.1       | 2.3       | virginica | \n",
       "| 137 | 6.3       | 3.4       | 5.6       | 2.4       | virginica | \n",
       "| 138 | 6.4       | 3.1       | 5.5       | 1.8       | virginica | \n",
       "| 139 | 6.0       | 3.0       | 4.8       | 1.8       | virginica | \n",
       "| 140 | 6.9       | 3.1       | 5.4       | 2.1       | virginica | \n",
       "| 141 | 6.7       | 3.1       | 5.6       | 2.4       | virginica | \n",
       "| 142 | 6.9       | 3.1       | 5.1       | 2.3       | virginica | \n",
       "| 143 | 5.8       | 2.7       | 5.1       | 1.9       | virginica | \n",
       "| 144 | 6.8       | 3.2       | 5.9       | 2.3       | virginica | \n",
       "| 145 | 6.7       | 3.3       | 5.7       | 2.5       | virginica | \n",
       "| 146 | 6.7       | 3.0       | 5.2       | 2.3       | virginica | \n",
       "| 147 | 6.3       | 2.5       | 5.0       | 1.9       | virginica | \n",
       "| 148 | 6.5       | 3.0       | 5.2       | 2.0       | virginica | \n",
       "| 149 | 6.2       | 3.4       | 5.4       | 2.3       | virginica | \n",
       "| 150 | 5.9       | 3.0       | 5.1       | 1.8       | virginica | \n",
       "\n",
       "\n"
      ],
      "text/plain": [
       "    Sepal.Length Sepal.Width Petal.Length Petal.Width Species   \n",
       "1   5.1          3.5         1.4          0.2         setosa    \n",
       "6   5.4          3.9         1.7          0.4         setosa    \n",
       "11  5.4          3.7         1.5          0.2         setosa    \n",
       "15  5.8          4.0         1.2          0.2         setosa    \n",
       "16  5.7          4.4         1.5          0.4         setosa    \n",
       "17  5.4          3.9         1.3          0.4         setosa    \n",
       "18  5.1          3.5         1.4          0.3         setosa    \n",
       "19  5.7          3.8         1.7          0.3         setosa    \n",
       "20  5.1          3.8         1.5          0.3         setosa    \n",
       "21  5.4          3.4         1.7          0.2         setosa    \n",
       "22  5.1          3.7         1.5          0.4         setosa    \n",
       "24  5.1          3.3         1.7          0.5         setosa    \n",
       "28  5.2          3.5         1.5          0.2         setosa    \n",
       "29  5.2          3.4         1.4          0.2         setosa    \n",
       "32  5.4          3.4         1.5          0.4         setosa    \n",
       "33  5.2          4.1         1.5          0.1         setosa    \n",
       "34  5.5          4.2         1.4          0.2         setosa    \n",
       "37  5.5          3.5         1.3          0.2         setosa    \n",
       "40  5.1          3.4         1.5          0.2         setosa    \n",
       "45  5.1          3.8         1.9          0.4         setosa    \n",
       "47  5.1          3.8         1.6          0.2         setosa    \n",
       "49  5.3          3.7         1.5          0.2         setosa    \n",
       "51  7.0          3.2         4.7          1.4         versicolor\n",
       "52  6.4          3.2         4.5          1.5         versicolor\n",
       "53  6.9          3.1         4.9          1.5         versicolor\n",
       "54  5.5          2.3         4.0          1.3         versicolor\n",
       "55  6.5          2.8         4.6          1.5         versicolor\n",
       "56  5.7          2.8         4.5          1.3         versicolor\n",
       "57  6.3          3.3         4.7          1.6         versicolor\n",
       "59  6.6          2.9         4.6          1.3         versicolor\n",
       "⋮   ⋮            ⋮           ⋮            ⋮           ⋮         \n",
       "121 6.9          3.2         5.7          2.3         virginica \n",
       "122 5.6          2.8         4.9          2.0         virginica \n",
       "123 7.7          2.8         6.7          2.0         virginica \n",
       "124 6.3          2.7         4.9          1.8         virginica \n",
       "125 6.7          3.3         5.7          2.1         virginica \n",
       "126 7.2          3.2         6.0          1.8         virginica \n",
       "127 6.2          2.8         4.8          1.8         virginica \n",
       "128 6.1          3.0         4.9          1.8         virginica \n",
       "129 6.4          2.8         5.6          2.1         virginica \n",
       "130 7.2          3.0         5.8          1.6         virginica \n",
       "131 7.4          2.8         6.1          1.9         virginica \n",
       "132 7.9          3.8         6.4          2.0         virginica \n",
       "133 6.4          2.8         5.6          2.2         virginica \n",
       "134 6.3          2.8         5.1          1.5         virginica \n",
       "135 6.1          2.6         5.6          1.4         virginica \n",
       "136 7.7          3.0         6.1          2.3         virginica \n",
       "137 6.3          3.4         5.6          2.4         virginica \n",
       "138 6.4          3.1         5.5          1.8         virginica \n",
       "139 6.0          3.0         4.8          1.8         virginica \n",
       "140 6.9          3.1         5.4          2.1         virginica \n",
       "141 6.7          3.1         5.6          2.4         virginica \n",
       "142 6.9          3.1         5.1          2.3         virginica \n",
       "143 5.8          2.7         5.1          1.9         virginica \n",
       "144 6.8          3.2         5.9          2.3         virginica \n",
       "145 6.7          3.3         5.7          2.5         virginica \n",
       "146 6.7          3.0         5.2          2.3         virginica \n",
       "147 6.3          2.5         5.0          1.9         virginica \n",
       "148 6.5          3.0         5.2          2.0         virginica \n",
       "149 6.2          3.4         5.4          2.3         virginica \n",
       "150 5.9          3.0         5.1          1.8         virginica "
      ]
     },
     "metadata": {},
     "output_type": "display_data"
    }
   ],
   "source": [
    "subset(data, Sepal.Length > 5) # 只會出現 Sepal.Length > 5 的資料"
   ]
  },
  {
   "cell_type": "code",
   "execution_count": 41,
   "metadata": {},
   "outputs": [
    {
     "data": {
      "text/html": [
       "<table>\n",
       "<thead><tr><th></th><th scope=col>Sepal.Length</th></tr></thead>\n",
       "<tbody>\n",
       "\t<tr><th scope=row>1</th><td>5.1</td></tr>\n",
       "\t<tr><th scope=row>6</th><td>5.4</td></tr>\n",
       "\t<tr><th scope=row>11</th><td>5.4</td></tr>\n",
       "\t<tr><th scope=row>15</th><td>5.8</td></tr>\n",
       "\t<tr><th scope=row>16</th><td>5.7</td></tr>\n",
       "\t<tr><th scope=row>17</th><td>5.4</td></tr>\n",
       "\t<tr><th scope=row>18</th><td>5.1</td></tr>\n",
       "\t<tr><th scope=row>19</th><td>5.7</td></tr>\n",
       "\t<tr><th scope=row>20</th><td>5.1</td></tr>\n",
       "\t<tr><th scope=row>21</th><td>5.4</td></tr>\n",
       "\t<tr><th scope=row>22</th><td>5.1</td></tr>\n",
       "\t<tr><th scope=row>24</th><td>5.1</td></tr>\n",
       "\t<tr><th scope=row>28</th><td>5.2</td></tr>\n",
       "\t<tr><th scope=row>29</th><td>5.2</td></tr>\n",
       "\t<tr><th scope=row>32</th><td>5.4</td></tr>\n",
       "\t<tr><th scope=row>33</th><td>5.2</td></tr>\n",
       "\t<tr><th scope=row>34</th><td>5.5</td></tr>\n",
       "\t<tr><th scope=row>37</th><td>5.5</td></tr>\n",
       "\t<tr><th scope=row>40</th><td>5.1</td></tr>\n",
       "\t<tr><th scope=row>45</th><td>5.1</td></tr>\n",
       "\t<tr><th scope=row>47</th><td>5.1</td></tr>\n",
       "\t<tr><th scope=row>49</th><td>5.3</td></tr>\n",
       "\t<tr><th scope=row>51</th><td>7.0</td></tr>\n",
       "\t<tr><th scope=row>52</th><td>6.4</td></tr>\n",
       "\t<tr><th scope=row>53</th><td>6.9</td></tr>\n",
       "\t<tr><th scope=row>54</th><td>5.5</td></tr>\n",
       "\t<tr><th scope=row>55</th><td>6.5</td></tr>\n",
       "\t<tr><th scope=row>56</th><td>5.7</td></tr>\n",
       "\t<tr><th scope=row>57</th><td>6.3</td></tr>\n",
       "\t<tr><th scope=row>59</th><td>6.6</td></tr>\n",
       "\t<tr><th scope=row>⋮</th><td>⋮</td></tr>\n",
       "\t<tr><th scope=row>121</th><td>6.9</td></tr>\n",
       "\t<tr><th scope=row>122</th><td>5.6</td></tr>\n",
       "\t<tr><th scope=row>123</th><td>7.7</td></tr>\n",
       "\t<tr><th scope=row>124</th><td>6.3</td></tr>\n",
       "\t<tr><th scope=row>125</th><td>6.7</td></tr>\n",
       "\t<tr><th scope=row>126</th><td>7.2</td></tr>\n",
       "\t<tr><th scope=row>127</th><td>6.2</td></tr>\n",
       "\t<tr><th scope=row>128</th><td>6.1</td></tr>\n",
       "\t<tr><th scope=row>129</th><td>6.4</td></tr>\n",
       "\t<tr><th scope=row>130</th><td>7.2</td></tr>\n",
       "\t<tr><th scope=row>131</th><td>7.4</td></tr>\n",
       "\t<tr><th scope=row>132</th><td>7.9</td></tr>\n",
       "\t<tr><th scope=row>133</th><td>6.4</td></tr>\n",
       "\t<tr><th scope=row>134</th><td>6.3</td></tr>\n",
       "\t<tr><th scope=row>135</th><td>6.1</td></tr>\n",
       "\t<tr><th scope=row>136</th><td>7.7</td></tr>\n",
       "\t<tr><th scope=row>137</th><td>6.3</td></tr>\n",
       "\t<tr><th scope=row>138</th><td>6.4</td></tr>\n",
       "\t<tr><th scope=row>139</th><td>6.0</td></tr>\n",
       "\t<tr><th scope=row>140</th><td>6.9</td></tr>\n",
       "\t<tr><th scope=row>141</th><td>6.7</td></tr>\n",
       "\t<tr><th scope=row>142</th><td>6.9</td></tr>\n",
       "\t<tr><th scope=row>143</th><td>5.8</td></tr>\n",
       "\t<tr><th scope=row>144</th><td>6.8</td></tr>\n",
       "\t<tr><th scope=row>145</th><td>6.7</td></tr>\n",
       "\t<tr><th scope=row>146</th><td>6.7</td></tr>\n",
       "\t<tr><th scope=row>147</th><td>6.3</td></tr>\n",
       "\t<tr><th scope=row>148</th><td>6.5</td></tr>\n",
       "\t<tr><th scope=row>149</th><td>6.2</td></tr>\n",
       "\t<tr><th scope=row>150</th><td>5.9</td></tr>\n",
       "</tbody>\n",
       "</table>\n"
      ],
      "text/latex": [
       "\\begin{tabular}{r|l}\n",
       "  & Sepal.Length\\\\\n",
       "\\hline\n",
       "\t1 & 5.1\\\\\n",
       "\t6 & 5.4\\\\\n",
       "\t11 & 5.4\\\\\n",
       "\t15 & 5.8\\\\\n",
       "\t16 & 5.7\\\\\n",
       "\t17 & 5.4\\\\\n",
       "\t18 & 5.1\\\\\n",
       "\t19 & 5.7\\\\\n",
       "\t20 & 5.1\\\\\n",
       "\t21 & 5.4\\\\\n",
       "\t22 & 5.1\\\\\n",
       "\t24 & 5.1\\\\\n",
       "\t28 & 5.2\\\\\n",
       "\t29 & 5.2\\\\\n",
       "\t32 & 5.4\\\\\n",
       "\t33 & 5.2\\\\\n",
       "\t34 & 5.5\\\\\n",
       "\t37 & 5.5\\\\\n",
       "\t40 & 5.1\\\\\n",
       "\t45 & 5.1\\\\\n",
       "\t47 & 5.1\\\\\n",
       "\t49 & 5.3\\\\\n",
       "\t51 & 7.0\\\\\n",
       "\t52 & 6.4\\\\\n",
       "\t53 & 6.9\\\\\n",
       "\t54 & 5.5\\\\\n",
       "\t55 & 6.5\\\\\n",
       "\t56 & 5.7\\\\\n",
       "\t57 & 6.3\\\\\n",
       "\t59 & 6.6\\\\\n",
       "\t⋮ & ⋮\\\\\n",
       "\t121 & 6.9\\\\\n",
       "\t122 & 5.6\\\\\n",
       "\t123 & 7.7\\\\\n",
       "\t124 & 6.3\\\\\n",
       "\t125 & 6.7\\\\\n",
       "\t126 & 7.2\\\\\n",
       "\t127 & 6.2\\\\\n",
       "\t128 & 6.1\\\\\n",
       "\t129 & 6.4\\\\\n",
       "\t130 & 7.2\\\\\n",
       "\t131 & 7.4\\\\\n",
       "\t132 & 7.9\\\\\n",
       "\t133 & 6.4\\\\\n",
       "\t134 & 6.3\\\\\n",
       "\t135 & 6.1\\\\\n",
       "\t136 & 7.7\\\\\n",
       "\t137 & 6.3\\\\\n",
       "\t138 & 6.4\\\\\n",
       "\t139 & 6.0\\\\\n",
       "\t140 & 6.9\\\\\n",
       "\t141 & 6.7\\\\\n",
       "\t142 & 6.9\\\\\n",
       "\t143 & 5.8\\\\\n",
       "\t144 & 6.8\\\\\n",
       "\t145 & 6.7\\\\\n",
       "\t146 & 6.7\\\\\n",
       "\t147 & 6.3\\\\\n",
       "\t148 & 6.5\\\\\n",
       "\t149 & 6.2\\\\\n",
       "\t150 & 5.9\\\\\n",
       "\\end{tabular}\n"
      ],
      "text/markdown": [
       "\n",
       "| <!--/--> | Sepal.Length | \n",
       "|---|---|---|---|---|---|---|---|---|---|---|---|---|---|---|---|---|---|---|---|---|---|---|---|---|---|---|---|---|---|---|---|---|---|---|---|---|---|---|---|---|---|---|---|---|---|---|---|---|---|---|---|---|---|---|---|---|---|---|---|---|\n",
       "| 1 | 5.1 | \n",
       "| 6 | 5.4 | \n",
       "| 11 | 5.4 | \n",
       "| 15 | 5.8 | \n",
       "| 16 | 5.7 | \n",
       "| 17 | 5.4 | \n",
       "| 18 | 5.1 | \n",
       "| 19 | 5.7 | \n",
       "| 20 | 5.1 | \n",
       "| 21 | 5.4 | \n",
       "| 22 | 5.1 | \n",
       "| 24 | 5.1 | \n",
       "| 28 | 5.2 | \n",
       "| 29 | 5.2 | \n",
       "| 32 | 5.4 | \n",
       "| 33 | 5.2 | \n",
       "| 34 | 5.5 | \n",
       "| 37 | 5.5 | \n",
       "| 40 | 5.1 | \n",
       "| 45 | 5.1 | \n",
       "| 47 | 5.1 | \n",
       "| 49 | 5.3 | \n",
       "| 51 | 7.0 | \n",
       "| 52 | 6.4 | \n",
       "| 53 | 6.9 | \n",
       "| 54 | 5.5 | \n",
       "| 55 | 6.5 | \n",
       "| 56 | 5.7 | \n",
       "| 57 | 6.3 | \n",
       "| 59 | 6.6 | \n",
       "| ⋮ | ⋮ | \n",
       "| 121 | 6.9 | \n",
       "| 122 | 5.6 | \n",
       "| 123 | 7.7 | \n",
       "| 124 | 6.3 | \n",
       "| 125 | 6.7 | \n",
       "| 126 | 7.2 | \n",
       "| 127 | 6.2 | \n",
       "| 128 | 6.1 | \n",
       "| 129 | 6.4 | \n",
       "| 130 | 7.2 | \n",
       "| 131 | 7.4 | \n",
       "| 132 | 7.9 | \n",
       "| 133 | 6.4 | \n",
       "| 134 | 6.3 | \n",
       "| 135 | 6.1 | \n",
       "| 136 | 7.7 | \n",
       "| 137 | 6.3 | \n",
       "| 138 | 6.4 | \n",
       "| 139 | 6.0 | \n",
       "| 140 | 6.9 | \n",
       "| 141 | 6.7 | \n",
       "| 142 | 6.9 | \n",
       "| 143 | 5.8 | \n",
       "| 144 | 6.8 | \n",
       "| 145 | 6.7 | \n",
       "| 146 | 6.7 | \n",
       "| 147 | 6.3 | \n",
       "| 148 | 6.5 | \n",
       "| 149 | 6.2 | \n",
       "| 150 | 5.9 | \n",
       "\n",
       "\n"
      ],
      "text/plain": [
       "    Sepal.Length\n",
       "1   5.1         \n",
       "6   5.4         \n",
       "11  5.4         \n",
       "15  5.8         \n",
       "16  5.7         \n",
       "17  5.4         \n",
       "18  5.1         \n",
       "19  5.7         \n",
       "20  5.1         \n",
       "21  5.4         \n",
       "22  5.1         \n",
       "24  5.1         \n",
       "28  5.2         \n",
       "29  5.2         \n",
       "32  5.4         \n",
       "33  5.2         \n",
       "34  5.5         \n",
       "37  5.5         \n",
       "40  5.1         \n",
       "45  5.1         \n",
       "47  5.1         \n",
       "49  5.3         \n",
       "51  7.0         \n",
       "52  6.4         \n",
       "53  6.9         \n",
       "54  5.5         \n",
       "55  6.5         \n",
       "56  5.7         \n",
       "57  6.3         \n",
       "59  6.6         \n",
       "⋮   ⋮           \n",
       "121 6.9         \n",
       "122 5.6         \n",
       "123 7.7         \n",
       "124 6.3         \n",
       "125 6.7         \n",
       "126 7.2         \n",
       "127 6.2         \n",
       "128 6.1         \n",
       "129 6.4         \n",
       "130 7.2         \n",
       "131 7.4         \n",
       "132 7.9         \n",
       "133 6.4         \n",
       "134 6.3         \n",
       "135 6.1         \n",
       "136 7.7         \n",
       "137 6.3         \n",
       "138 6.4         \n",
       "139 6.0         \n",
       "140 6.9         \n",
       "141 6.7         \n",
       "142 6.9         \n",
       "143 5.8         \n",
       "144 6.8         \n",
       "145 6.7         \n",
       "146 6.7         \n",
       "147 6.3         \n",
       "148 6.5         \n",
       "149 6.2         \n",
       "150 5.9         "
      ]
     },
     "metadata": {},
     "output_type": "display_data"
    }
   ],
   "source": [
    "subset(data, Sepal.Length > 5,select = Sepal.Length) # 只會出現 Sepal.Length > 5 的資料且欄位只有 Sepal"
   ]
  },
  {
   "cell_type": "code",
   "execution_count": 42,
   "metadata": {},
   "outputs": [
    {
     "data": {
      "text/html": [
       "<table>\n",
       "<thead><tr><th></th><th scope=col>Sepal.Width</th><th scope=col>Petal.Length</th><th scope=col>Petal.Width</th><th scope=col>Species</th></tr></thead>\n",
       "<tbody>\n",
       "\t<tr><th scope=row>1</th><td>3.5       </td><td>1.4       </td><td>0.2       </td><td>setosa    </td></tr>\n",
       "\t<tr><th scope=row>6</th><td>3.9       </td><td>1.7       </td><td>0.4       </td><td>setosa    </td></tr>\n",
       "\t<tr><th scope=row>11</th><td>3.7       </td><td>1.5       </td><td>0.2       </td><td>setosa    </td></tr>\n",
       "\t<tr><th scope=row>15</th><td>4.0       </td><td>1.2       </td><td>0.2       </td><td>setosa    </td></tr>\n",
       "\t<tr><th scope=row>16</th><td>4.4       </td><td>1.5       </td><td>0.4       </td><td>setosa    </td></tr>\n",
       "\t<tr><th scope=row>17</th><td>3.9       </td><td>1.3       </td><td>0.4       </td><td>setosa    </td></tr>\n",
       "\t<tr><th scope=row>18</th><td>3.5       </td><td>1.4       </td><td>0.3       </td><td>setosa    </td></tr>\n",
       "\t<tr><th scope=row>19</th><td>3.8       </td><td>1.7       </td><td>0.3       </td><td>setosa    </td></tr>\n",
       "\t<tr><th scope=row>20</th><td>3.8       </td><td>1.5       </td><td>0.3       </td><td>setosa    </td></tr>\n",
       "\t<tr><th scope=row>21</th><td>3.4       </td><td>1.7       </td><td>0.2       </td><td>setosa    </td></tr>\n",
       "\t<tr><th scope=row>22</th><td>3.7       </td><td>1.5       </td><td>0.4       </td><td>setosa    </td></tr>\n",
       "\t<tr><th scope=row>24</th><td>3.3       </td><td>1.7       </td><td>0.5       </td><td>setosa    </td></tr>\n",
       "\t<tr><th scope=row>28</th><td>3.5       </td><td>1.5       </td><td>0.2       </td><td>setosa    </td></tr>\n",
       "\t<tr><th scope=row>29</th><td>3.4       </td><td>1.4       </td><td>0.2       </td><td>setosa    </td></tr>\n",
       "\t<tr><th scope=row>32</th><td>3.4       </td><td>1.5       </td><td>0.4       </td><td>setosa    </td></tr>\n",
       "\t<tr><th scope=row>33</th><td>4.1       </td><td>1.5       </td><td>0.1       </td><td>setosa    </td></tr>\n",
       "\t<tr><th scope=row>34</th><td>4.2       </td><td>1.4       </td><td>0.2       </td><td>setosa    </td></tr>\n",
       "\t<tr><th scope=row>37</th><td>3.5       </td><td>1.3       </td><td>0.2       </td><td>setosa    </td></tr>\n",
       "\t<tr><th scope=row>40</th><td>3.4       </td><td>1.5       </td><td>0.2       </td><td>setosa    </td></tr>\n",
       "\t<tr><th scope=row>45</th><td>3.8       </td><td>1.9       </td><td>0.4       </td><td>setosa    </td></tr>\n",
       "\t<tr><th scope=row>47</th><td>3.8       </td><td>1.6       </td><td>0.2       </td><td>setosa    </td></tr>\n",
       "\t<tr><th scope=row>49</th><td>3.7       </td><td>1.5       </td><td>0.2       </td><td>setosa    </td></tr>\n",
       "\t<tr><th scope=row>51</th><td>3.2       </td><td>4.7       </td><td>1.4       </td><td>versicolor</td></tr>\n",
       "\t<tr><th scope=row>52</th><td>3.2       </td><td>4.5       </td><td>1.5       </td><td>versicolor</td></tr>\n",
       "\t<tr><th scope=row>53</th><td>3.1       </td><td>4.9       </td><td>1.5       </td><td>versicolor</td></tr>\n",
       "\t<tr><th scope=row>54</th><td>2.3       </td><td>4.0       </td><td>1.3       </td><td>versicolor</td></tr>\n",
       "\t<tr><th scope=row>55</th><td>2.8       </td><td>4.6       </td><td>1.5       </td><td>versicolor</td></tr>\n",
       "\t<tr><th scope=row>56</th><td>2.8       </td><td>4.5       </td><td>1.3       </td><td>versicolor</td></tr>\n",
       "\t<tr><th scope=row>57</th><td>3.3       </td><td>4.7       </td><td>1.6       </td><td>versicolor</td></tr>\n",
       "\t<tr><th scope=row>59</th><td>2.9       </td><td>4.6       </td><td>1.3       </td><td>versicolor</td></tr>\n",
       "\t<tr><th scope=row>⋮</th><td>⋮</td><td>⋮</td><td>⋮</td><td>⋮</td></tr>\n",
       "\t<tr><th scope=row>121</th><td>3.2      </td><td>5.7      </td><td>2.3      </td><td>virginica</td></tr>\n",
       "\t<tr><th scope=row>122</th><td>2.8      </td><td>4.9      </td><td>2.0      </td><td>virginica</td></tr>\n",
       "\t<tr><th scope=row>123</th><td>2.8      </td><td>6.7      </td><td>2.0      </td><td>virginica</td></tr>\n",
       "\t<tr><th scope=row>124</th><td>2.7      </td><td>4.9      </td><td>1.8      </td><td>virginica</td></tr>\n",
       "\t<tr><th scope=row>125</th><td>3.3      </td><td>5.7      </td><td>2.1      </td><td>virginica</td></tr>\n",
       "\t<tr><th scope=row>126</th><td>3.2      </td><td>6.0      </td><td>1.8      </td><td>virginica</td></tr>\n",
       "\t<tr><th scope=row>127</th><td>2.8      </td><td>4.8      </td><td>1.8      </td><td>virginica</td></tr>\n",
       "\t<tr><th scope=row>128</th><td>3.0      </td><td>4.9      </td><td>1.8      </td><td>virginica</td></tr>\n",
       "\t<tr><th scope=row>129</th><td>2.8      </td><td>5.6      </td><td>2.1      </td><td>virginica</td></tr>\n",
       "\t<tr><th scope=row>130</th><td>3.0      </td><td>5.8      </td><td>1.6      </td><td>virginica</td></tr>\n",
       "\t<tr><th scope=row>131</th><td>2.8      </td><td>6.1      </td><td>1.9      </td><td>virginica</td></tr>\n",
       "\t<tr><th scope=row>132</th><td>3.8      </td><td>6.4      </td><td>2.0      </td><td>virginica</td></tr>\n",
       "\t<tr><th scope=row>133</th><td>2.8      </td><td>5.6      </td><td>2.2      </td><td>virginica</td></tr>\n",
       "\t<tr><th scope=row>134</th><td>2.8      </td><td>5.1      </td><td>1.5      </td><td>virginica</td></tr>\n",
       "\t<tr><th scope=row>135</th><td>2.6      </td><td>5.6      </td><td>1.4      </td><td>virginica</td></tr>\n",
       "\t<tr><th scope=row>136</th><td>3.0      </td><td>6.1      </td><td>2.3      </td><td>virginica</td></tr>\n",
       "\t<tr><th scope=row>137</th><td>3.4      </td><td>5.6      </td><td>2.4      </td><td>virginica</td></tr>\n",
       "\t<tr><th scope=row>138</th><td>3.1      </td><td>5.5      </td><td>1.8      </td><td>virginica</td></tr>\n",
       "\t<tr><th scope=row>139</th><td>3.0      </td><td>4.8      </td><td>1.8      </td><td>virginica</td></tr>\n",
       "\t<tr><th scope=row>140</th><td>3.1      </td><td>5.4      </td><td>2.1      </td><td>virginica</td></tr>\n",
       "\t<tr><th scope=row>141</th><td>3.1      </td><td>5.6      </td><td>2.4      </td><td>virginica</td></tr>\n",
       "\t<tr><th scope=row>142</th><td>3.1      </td><td>5.1      </td><td>2.3      </td><td>virginica</td></tr>\n",
       "\t<tr><th scope=row>143</th><td>2.7      </td><td>5.1      </td><td>1.9      </td><td>virginica</td></tr>\n",
       "\t<tr><th scope=row>144</th><td>3.2      </td><td>5.9      </td><td>2.3      </td><td>virginica</td></tr>\n",
       "\t<tr><th scope=row>145</th><td>3.3      </td><td>5.7      </td><td>2.5      </td><td>virginica</td></tr>\n",
       "\t<tr><th scope=row>146</th><td>3.0      </td><td>5.2      </td><td>2.3      </td><td>virginica</td></tr>\n",
       "\t<tr><th scope=row>147</th><td>2.5      </td><td>5.0      </td><td>1.9      </td><td>virginica</td></tr>\n",
       "\t<tr><th scope=row>148</th><td>3.0      </td><td>5.2      </td><td>2.0      </td><td>virginica</td></tr>\n",
       "\t<tr><th scope=row>149</th><td>3.4      </td><td>5.4      </td><td>2.3      </td><td>virginica</td></tr>\n",
       "\t<tr><th scope=row>150</th><td>3.0      </td><td>5.1      </td><td>1.8      </td><td>virginica</td></tr>\n",
       "</tbody>\n",
       "</table>\n"
      ],
      "text/latex": [
       "\\begin{tabular}{r|llll}\n",
       "  & Sepal.Width & Petal.Length & Petal.Width & Species\\\\\n",
       "\\hline\n",
       "\t1 & 3.5        & 1.4        & 0.2        & setosa    \\\\\n",
       "\t6 & 3.9        & 1.7        & 0.4        & setosa    \\\\\n",
       "\t11 & 3.7        & 1.5        & 0.2        & setosa    \\\\\n",
       "\t15 & 4.0        & 1.2        & 0.2        & setosa    \\\\\n",
       "\t16 & 4.4        & 1.5        & 0.4        & setosa    \\\\\n",
       "\t17 & 3.9        & 1.3        & 0.4        & setosa    \\\\\n",
       "\t18 & 3.5        & 1.4        & 0.3        & setosa    \\\\\n",
       "\t19 & 3.8        & 1.7        & 0.3        & setosa    \\\\\n",
       "\t20 & 3.8        & 1.5        & 0.3        & setosa    \\\\\n",
       "\t21 & 3.4        & 1.7        & 0.2        & setosa    \\\\\n",
       "\t22 & 3.7        & 1.5        & 0.4        & setosa    \\\\\n",
       "\t24 & 3.3        & 1.7        & 0.5        & setosa    \\\\\n",
       "\t28 & 3.5        & 1.5        & 0.2        & setosa    \\\\\n",
       "\t29 & 3.4        & 1.4        & 0.2        & setosa    \\\\\n",
       "\t32 & 3.4        & 1.5        & 0.4        & setosa    \\\\\n",
       "\t33 & 4.1        & 1.5        & 0.1        & setosa    \\\\\n",
       "\t34 & 4.2        & 1.4        & 0.2        & setosa    \\\\\n",
       "\t37 & 3.5        & 1.3        & 0.2        & setosa    \\\\\n",
       "\t40 & 3.4        & 1.5        & 0.2        & setosa    \\\\\n",
       "\t45 & 3.8        & 1.9        & 0.4        & setosa    \\\\\n",
       "\t47 & 3.8        & 1.6        & 0.2        & setosa    \\\\\n",
       "\t49 & 3.7        & 1.5        & 0.2        & setosa    \\\\\n",
       "\t51 & 3.2        & 4.7        & 1.4        & versicolor\\\\\n",
       "\t52 & 3.2        & 4.5        & 1.5        & versicolor\\\\\n",
       "\t53 & 3.1        & 4.9        & 1.5        & versicolor\\\\\n",
       "\t54 & 2.3        & 4.0        & 1.3        & versicolor\\\\\n",
       "\t55 & 2.8        & 4.6        & 1.5        & versicolor\\\\\n",
       "\t56 & 2.8        & 4.5        & 1.3        & versicolor\\\\\n",
       "\t57 & 3.3        & 4.7        & 1.6        & versicolor\\\\\n",
       "\t59 & 2.9        & 4.6        & 1.3        & versicolor\\\\\n",
       "\t⋮ & ⋮ & ⋮ & ⋮ & ⋮\\\\\n",
       "\t121 & 3.2       & 5.7       & 2.3       & virginica\\\\\n",
       "\t122 & 2.8       & 4.9       & 2.0       & virginica\\\\\n",
       "\t123 & 2.8       & 6.7       & 2.0       & virginica\\\\\n",
       "\t124 & 2.7       & 4.9       & 1.8       & virginica\\\\\n",
       "\t125 & 3.3       & 5.7       & 2.1       & virginica\\\\\n",
       "\t126 & 3.2       & 6.0       & 1.8       & virginica\\\\\n",
       "\t127 & 2.8       & 4.8       & 1.8       & virginica\\\\\n",
       "\t128 & 3.0       & 4.9       & 1.8       & virginica\\\\\n",
       "\t129 & 2.8       & 5.6       & 2.1       & virginica\\\\\n",
       "\t130 & 3.0       & 5.8       & 1.6       & virginica\\\\\n",
       "\t131 & 2.8       & 6.1       & 1.9       & virginica\\\\\n",
       "\t132 & 3.8       & 6.4       & 2.0       & virginica\\\\\n",
       "\t133 & 2.8       & 5.6       & 2.2       & virginica\\\\\n",
       "\t134 & 2.8       & 5.1       & 1.5       & virginica\\\\\n",
       "\t135 & 2.6       & 5.6       & 1.4       & virginica\\\\\n",
       "\t136 & 3.0       & 6.1       & 2.3       & virginica\\\\\n",
       "\t137 & 3.4       & 5.6       & 2.4       & virginica\\\\\n",
       "\t138 & 3.1       & 5.5       & 1.8       & virginica\\\\\n",
       "\t139 & 3.0       & 4.8       & 1.8       & virginica\\\\\n",
       "\t140 & 3.1       & 5.4       & 2.1       & virginica\\\\\n",
       "\t141 & 3.1       & 5.6       & 2.4       & virginica\\\\\n",
       "\t142 & 3.1       & 5.1       & 2.3       & virginica\\\\\n",
       "\t143 & 2.7       & 5.1       & 1.9       & virginica\\\\\n",
       "\t144 & 3.2       & 5.9       & 2.3       & virginica\\\\\n",
       "\t145 & 3.3       & 5.7       & 2.5       & virginica\\\\\n",
       "\t146 & 3.0       & 5.2       & 2.3       & virginica\\\\\n",
       "\t147 & 2.5       & 5.0       & 1.9       & virginica\\\\\n",
       "\t148 & 3.0       & 5.2       & 2.0       & virginica\\\\\n",
       "\t149 & 3.4       & 5.4       & 2.3       & virginica\\\\\n",
       "\t150 & 3.0       & 5.1       & 1.8       & virginica\\\\\n",
       "\\end{tabular}\n"
      ],
      "text/markdown": [
       "\n",
       "| <!--/--> | Sepal.Width | Petal.Length | Petal.Width | Species | \n",
       "|---|---|---|---|---|---|---|---|---|---|---|---|---|---|---|---|---|---|---|---|---|---|---|---|---|---|---|---|---|---|---|---|---|---|---|---|---|---|---|---|---|---|---|---|---|---|---|---|---|---|---|---|---|---|---|---|---|---|---|---|---|\n",
       "| 1 | 3.5        | 1.4        | 0.2        | setosa     | \n",
       "| 6 | 3.9        | 1.7        | 0.4        | setosa     | \n",
       "| 11 | 3.7        | 1.5        | 0.2        | setosa     | \n",
       "| 15 | 4.0        | 1.2        | 0.2        | setosa     | \n",
       "| 16 | 4.4        | 1.5        | 0.4        | setosa     | \n",
       "| 17 | 3.9        | 1.3        | 0.4        | setosa     | \n",
       "| 18 | 3.5        | 1.4        | 0.3        | setosa     | \n",
       "| 19 | 3.8        | 1.7        | 0.3        | setosa     | \n",
       "| 20 | 3.8        | 1.5        | 0.3        | setosa     | \n",
       "| 21 | 3.4        | 1.7        | 0.2        | setosa     | \n",
       "| 22 | 3.7        | 1.5        | 0.4        | setosa     | \n",
       "| 24 | 3.3        | 1.7        | 0.5        | setosa     | \n",
       "| 28 | 3.5        | 1.5        | 0.2        | setosa     | \n",
       "| 29 | 3.4        | 1.4        | 0.2        | setosa     | \n",
       "| 32 | 3.4        | 1.5        | 0.4        | setosa     | \n",
       "| 33 | 4.1        | 1.5        | 0.1        | setosa     | \n",
       "| 34 | 4.2        | 1.4        | 0.2        | setosa     | \n",
       "| 37 | 3.5        | 1.3        | 0.2        | setosa     | \n",
       "| 40 | 3.4        | 1.5        | 0.2        | setosa     | \n",
       "| 45 | 3.8        | 1.9        | 0.4        | setosa     | \n",
       "| 47 | 3.8        | 1.6        | 0.2        | setosa     | \n",
       "| 49 | 3.7        | 1.5        | 0.2        | setosa     | \n",
       "| 51 | 3.2        | 4.7        | 1.4        | versicolor | \n",
       "| 52 | 3.2        | 4.5        | 1.5        | versicolor | \n",
       "| 53 | 3.1        | 4.9        | 1.5        | versicolor | \n",
       "| 54 | 2.3        | 4.0        | 1.3        | versicolor | \n",
       "| 55 | 2.8        | 4.6        | 1.5        | versicolor | \n",
       "| 56 | 2.8        | 4.5        | 1.3        | versicolor | \n",
       "| 57 | 3.3        | 4.7        | 1.6        | versicolor | \n",
       "| 59 | 2.9        | 4.6        | 1.3        | versicolor | \n",
       "| ⋮ | ⋮ | ⋮ | ⋮ | ⋮ | \n",
       "| 121 | 3.2       | 5.7       | 2.3       | virginica | \n",
       "| 122 | 2.8       | 4.9       | 2.0       | virginica | \n",
       "| 123 | 2.8       | 6.7       | 2.0       | virginica | \n",
       "| 124 | 2.7       | 4.9       | 1.8       | virginica | \n",
       "| 125 | 3.3       | 5.7       | 2.1       | virginica | \n",
       "| 126 | 3.2       | 6.0       | 1.8       | virginica | \n",
       "| 127 | 2.8       | 4.8       | 1.8       | virginica | \n",
       "| 128 | 3.0       | 4.9       | 1.8       | virginica | \n",
       "| 129 | 2.8       | 5.6       | 2.1       | virginica | \n",
       "| 130 | 3.0       | 5.8       | 1.6       | virginica | \n",
       "| 131 | 2.8       | 6.1       | 1.9       | virginica | \n",
       "| 132 | 3.8       | 6.4       | 2.0       | virginica | \n",
       "| 133 | 2.8       | 5.6       | 2.2       | virginica | \n",
       "| 134 | 2.8       | 5.1       | 1.5       | virginica | \n",
       "| 135 | 2.6       | 5.6       | 1.4       | virginica | \n",
       "| 136 | 3.0       | 6.1       | 2.3       | virginica | \n",
       "| 137 | 3.4       | 5.6       | 2.4       | virginica | \n",
       "| 138 | 3.1       | 5.5       | 1.8       | virginica | \n",
       "| 139 | 3.0       | 4.8       | 1.8       | virginica | \n",
       "| 140 | 3.1       | 5.4       | 2.1       | virginica | \n",
       "| 141 | 3.1       | 5.6       | 2.4       | virginica | \n",
       "| 142 | 3.1       | 5.1       | 2.3       | virginica | \n",
       "| 143 | 2.7       | 5.1       | 1.9       | virginica | \n",
       "| 144 | 3.2       | 5.9       | 2.3       | virginica | \n",
       "| 145 | 3.3       | 5.7       | 2.5       | virginica | \n",
       "| 146 | 3.0       | 5.2       | 2.3       | virginica | \n",
       "| 147 | 2.5       | 5.0       | 1.9       | virginica | \n",
       "| 148 | 3.0       | 5.2       | 2.0       | virginica | \n",
       "| 149 | 3.4       | 5.4       | 2.3       | virginica | \n",
       "| 150 | 3.0       | 5.1       | 1.8       | virginica | \n",
       "\n",
       "\n"
      ],
      "text/plain": [
       "    Sepal.Width Petal.Length Petal.Width Species   \n",
       "1   3.5         1.4          0.2         setosa    \n",
       "6   3.9         1.7          0.4         setosa    \n",
       "11  3.7         1.5          0.2         setosa    \n",
       "15  4.0         1.2          0.2         setosa    \n",
       "16  4.4         1.5          0.4         setosa    \n",
       "17  3.9         1.3          0.4         setosa    \n",
       "18  3.5         1.4          0.3         setosa    \n",
       "19  3.8         1.7          0.3         setosa    \n",
       "20  3.8         1.5          0.3         setosa    \n",
       "21  3.4         1.7          0.2         setosa    \n",
       "22  3.7         1.5          0.4         setosa    \n",
       "24  3.3         1.7          0.5         setosa    \n",
       "28  3.5         1.5          0.2         setosa    \n",
       "29  3.4         1.4          0.2         setosa    \n",
       "32  3.4         1.5          0.4         setosa    \n",
       "33  4.1         1.5          0.1         setosa    \n",
       "34  4.2         1.4          0.2         setosa    \n",
       "37  3.5         1.3          0.2         setosa    \n",
       "40  3.4         1.5          0.2         setosa    \n",
       "45  3.8         1.9          0.4         setosa    \n",
       "47  3.8         1.6          0.2         setosa    \n",
       "49  3.7         1.5          0.2         setosa    \n",
       "51  3.2         4.7          1.4         versicolor\n",
       "52  3.2         4.5          1.5         versicolor\n",
       "53  3.1         4.9          1.5         versicolor\n",
       "54  2.3         4.0          1.3         versicolor\n",
       "55  2.8         4.6          1.5         versicolor\n",
       "56  2.8         4.5          1.3         versicolor\n",
       "57  3.3         4.7          1.6         versicolor\n",
       "59  2.9         4.6          1.3         versicolor\n",
       "⋮   ⋮           ⋮            ⋮           ⋮         \n",
       "121 3.2         5.7          2.3         virginica \n",
       "122 2.8         4.9          2.0         virginica \n",
       "123 2.8         6.7          2.0         virginica \n",
       "124 2.7         4.9          1.8         virginica \n",
       "125 3.3         5.7          2.1         virginica \n",
       "126 3.2         6.0          1.8         virginica \n",
       "127 2.8         4.8          1.8         virginica \n",
       "128 3.0         4.9          1.8         virginica \n",
       "129 2.8         5.6          2.1         virginica \n",
       "130 3.0         5.8          1.6         virginica \n",
       "131 2.8         6.1          1.9         virginica \n",
       "132 3.8         6.4          2.0         virginica \n",
       "133 2.8         5.6          2.2         virginica \n",
       "134 2.8         5.1          1.5         virginica \n",
       "135 2.6         5.6          1.4         virginica \n",
       "136 3.0         6.1          2.3         virginica \n",
       "137 3.4         5.6          2.4         virginica \n",
       "138 3.1         5.5          1.8         virginica \n",
       "139 3.0         4.8          1.8         virginica \n",
       "140 3.1         5.4          2.1         virginica \n",
       "141 3.1         5.6          2.4         virginica \n",
       "142 3.1         5.1          2.3         virginica \n",
       "143 2.7         5.1          1.9         virginica \n",
       "144 3.2         5.9          2.3         virginica \n",
       "145 3.3         5.7          2.5         virginica \n",
       "146 3.0         5.2          2.3         virginica \n",
       "147 2.5         5.0          1.9         virginica \n",
       "148 3.0         5.2          2.0         virginica \n",
       "149 3.4         5.4          2.3         virginica \n",
       "150 3.0         5.1          1.8         virginica "
      ]
     },
     "metadata": {},
     "output_type": "display_data"
    }
   ],
   "source": [
    "subset(data, Sepal.Length > 5,select = -Sepal.Length) # selct = 負的代表不要出現的欄位。"
   ]
  },
  {
   "cell_type": "markdown",
   "metadata": {},
   "source": [
    "## [補充範圍]4-3.資料比例 (本例尚未完成）"
   ]
  },
  {
   "cell_type": "code",
   "execution_count": 53,
   "metadata": {},
   "outputs": [
    {
     "name": "stderr",
     "output_type": "stream",
     "text": [
      "also installing the dependencies ‘utf8’, ‘pillar’, ‘purrr’, ‘bindrcpp’, ‘Rcpp’, ‘rlang’, ‘tibble’, ‘tidyselect’\n",
      "\n",
      "Warning message in install.packages(\"dplyr\"):\n",
      "“installation of package ‘utf8’ had non-zero exit status”Warning message in install.packages(\"dplyr\"):\n",
      "“installation of package ‘Rcpp’ had non-zero exit status”Warning message in install.packages(\"dplyr\"):\n",
      "“installation of package ‘rlang’ had non-zero exit status”Warning message in install.packages(\"dplyr\"):\n",
      "“installation of package ‘pillar’ had non-zero exit status”Warning message in install.packages(\"dplyr\"):\n",
      "“installation of package ‘bindrcpp’ had non-zero exit status”Warning message in install.packages(\"dplyr\"):\n",
      "“installation of package ‘tibble’ had non-zero exit status”Warning message in install.packages(\"dplyr\"):\n",
      "“installation of package ‘purrr’ had non-zero exit status”Warning message in install.packages(\"dplyr\"):\n",
      "“installation of package ‘tidyselect’ had non-zero exit status”Warning message in install.packages(\"dplyr\"):\n",
      "“installation of package ‘dplyr’ had non-zero exit status”Updating HTML index of packages in '.Library'\n",
      "Making 'packages.html' ... done\n"
     ]
    },
    {
     "ename": "ERROR",
     "evalue": "Error in library(dplyr): there is no package called ‘dplyr’\n",
     "output_type": "error",
     "traceback": [
      "Error in library(dplyr): there is no package called ‘dplyr’\nTraceback:\n",
      "1. library(dplyr)",
      "2. stop(txt, domain = NA)"
     ]
    }
   ],
   "source": [
    "install.packages('dplyr'); \n",
    "library(dplyr)\n"
   ]
  },
  {
   "cell_type": "code",
   "execution_count": 51,
   "metadata": {},
   "outputs": [
    {
     "ename": "ERROR",
     "evalue": "Error in summarise(group_by(iris, Species), tsl = sum(Sepal.Length)): 沒有這個函數 \"summarise\"\n",
     "output_type": "error",
     "traceback": [
      "Error in summarise(group_by(iris, Species), tsl = sum(Sepal.Length)): 沒有這個函數 \"summarise\"\nTraceback:\n"
     ]
    }
   ],
   "source": [
    "data(iris)\n",
    "X = summarise(group_by(iris, Species), tsl = sum(Sepal.Length))\n",
    "y = X$tsl / sum(X$tsl)\n",
    "\n",
    "pie(y,label=c(\"setosa\",\"versicolor\",\"virginica\"),density=100,col=2:4)"
   ]
  },
  {
   "cell_type": "code",
   "execution_count": 46,
   "metadata": {},
   "outputs": [
    {
     "data": {
      "text/html": [
       "<strong>null device:</strong> 1"
      ],
      "text/latex": [
       "\\textbf{null device:} 1"
      ],
      "text/markdown": [
       "**null device:** 1"
      ],
      "text/plain": [
       "null device \n",
       "          1 "
      ]
     },
     "metadata": {},
     "output_type": "display_data"
    }
   ],
   "source": [
    "dev.off()#把圖型清除"
   ]
  },
  {
   "cell_type": "markdown",
   "metadata": {},
   "source": [
    "## 以下為本週回家作業(加分用)\n",
    "\n",
    "### 請以內建的iris資料集\n",
    "- 查看變數名\n",
    "- 查看資料結構(型態)\n",
    "- 取得第50 及第100 列資料\n",
    "- iris第100筆的資料是多少(Column)\n",
    "- 切割一個新的集合(data set)，此集合中只要Sepal.Length > 4 的資料，同時共有多少筆?\n",
    "\n",
    "#### (當你的R-studio是新的，會有很多的packages你沒有安裝過，這時你一定常常會卡關，請試著排除障礙，自己去google，寫程式沒有捷徑，要下點苦功。加油)"
   ]
  }
 ],
 "metadata": {
  "kernelspec": {
   "display_name": "R",
   "language": "R",
   "name": "ir"
  },
  "language_info": {
   "codemirror_mode": "r",
   "file_extension": ".r",
   "mimetype": "text/x-r-source",
   "name": "R",
   "pygments_lexer": "r",
   "version": "3.4.2"
  }
 },
 "nbformat": 4,
 "nbformat_minor": 2
}
